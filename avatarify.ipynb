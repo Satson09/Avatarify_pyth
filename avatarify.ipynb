{
  "nbformat": 4,
  "nbformat_minor": 0,
  "metadata": {
    "colab": {
      "name": "Avatarify",
      "provenance": [],
      "gpuType": "T4",
      "include_colab_link": true
    },
    "kernelspec": {
      "name": "python3",
      "display_name": "Python 3"
    },
    "accelerator": "GPU"
  },
  "cells": [
    {
      "cell_type": "markdown",
      "metadata": {
        "id": "view-in-github",
        "colab_type": "text"
      },
      "source": [
        "<a href=\"https://colab.research.google.com/github/Satson09/avatarify/blob/master/avatarify.ipynb\" target=\"_parent\"><img src=\"https://colab.research.google.com/assets/colab-badge.svg\" alt=\"Open In Colab\"/></a>"
      ]
    },
    {
      "cell_type": "markdown",
      "metadata": {
        "id": "pEl-Q4OpsLb9"
      },
      "source": [
        "# Avatarify Colab Server\n",
        "\n",
        "This Colab notebook is for running Avatarify rendering server. It allows you to run Avatarify on your computer **without GPU** in this way:\n",
        "\n",
        "1. When this notebook is executed, it starts listening for incoming requests from your computer;\n",
        "1. You start the client on your computer and it connects to the notebook and starts sending requests;\n",
        "1. This notebooks receives the requests from your computer, renders avatar images and sends them back;\n",
        "\n",
        "To this end, all the heavy work is offloaded from your computer to this notebook so you don't need to have a beafy hardware on your PC anymore.\n"
      ]
    },
    {
      "cell_type": "code",
      "source": [],
      "metadata": {
        "id": "2oHOu-YKH-pA"
      },
      "execution_count": null,
      "outputs": []
    },
    {
      "cell_type": "markdown",
      "metadata": {
        "id": "wRpMPl7VyeoD"
      },
      "source": [
        "## Start the server\n",
        "Run the cells below (Shift+Enter) sequentially and pay attention to the hints and instructions included in this notebook.\n",
        "\n",
        "At the end you will get a command for running the client on your computer.\n",
        "\n",
        "## Start the client\n",
        "\n",
        "Make sure you have installed the latest version of Avatarify on your computer. Refer to the [README](https://github.com/alievk/avatarify#install) for the instructions.\n",
        "\n",
        "When it's ready execute this notebook and get the command for running the client on your computer.\n"
      ]
    },
    {
      "cell_type": "markdown",
      "metadata": {
        "id": "8h0f5WQEjgbH"
      },
      "source": [
        "### Technical details\n",
        "\n",
        "The client on your computer connects to the server via `ngrok` TCP tunnel or a reverse `ssh` tunnel.\n",
        "\n",
        "`ngrok`, while easy to use, can induce a considerable network lag ranging from dozens of milliseconds to a second. This can lead to a poor experience.\n",
        "\n",
        "A more stable connection could be established using a reverse `ssh` tunnel to a host with a public IP, like an AWS `t3.micro` (free) instance. This notebook provides a script for creating a tunnel, but launching an instance in a cloud is on your own (find the manual below)."
      ]
    },
    {
      "cell_type": "markdown",
      "metadata": {
        "id": "6ZI4EvKaNUhL"
      },
      "source": [
        "# Install"
      ]
    },
    {
      "cell_type": "code",
      "source": [],
      "metadata": {
        "id": "Ov19n1qHvQJL"
      },
      "execution_count": null,
      "outputs": []
    },
    {
      "cell_type": "markdown",
      "metadata": {
        "id": "9fYm9X3X125H"
      },
      "source": [
        "### Avatarify\n",
        "Follow the steps below to clone Avatarify and install the dependencies."
      ]
    },
    {
      "cell_type": "code",
      "metadata": {
        "id": "LC1q-hdat-JP",
        "colab": {
          "base_uri": "https://localhost:8080/"
        },
        "outputId": "ac444ec5-3f69-4bf8-8f7a-40a442259096"
      },
      "source": [
        "!cd /content\n",
        "!rm -rf *"
      ],
      "execution_count": 5,
      "outputs": [
        {
          "output_type": "stream",
          "name": "stdout",
          "text": [
            "rm: cannot remove 'drive/.file-revisions-by-id': Operation canceled\n",
            "rm: cannot remove 'drive/MyDrive': Operation canceled\n",
            "rm: cannot remove 'drive/.shortcut-targets-by-id': Operation canceled\n",
            "rm: cannot remove 'drive/.Trash-0': Directory not empty\n",
            "rm: cannot remove 'drive/.Encrypted/MyDrive': Operation canceled\n",
            "rm: cannot remove 'drive/.Encrypted/.shortcut-targets-by-id': Operation canceled\n"
          ]
        }
      ]
    },
    {
      "cell_type": "code",
      "source": [
        "!git clone https://github.com/Satson09/avatarify.git\n",
        "%cd avatarify\n"
      ],
      "metadata": {
        "colab": {
          "base_uri": "https://localhost:8080/"
        },
        "id": "JCfBMh4oTsNQ",
        "outputId": "2d00b915-2e84-4d5b-fd3a-4e7caba7a67f"
      },
      "execution_count": 6,
      "outputs": [
        {
          "output_type": "stream",
          "name": "stdout",
          "text": [
            "Cloning into 'avatarify'...\n",
            "remote: Enumerating objects: 1392, done.\u001b[K\n",
            "remote: Counting objects: 100% (1392/1392), done.\u001b[K\n",
            "remote: Compressing objects: 100% (490/490), done.\u001b[K\n",
            "remote: Total 1392 (delta 897), reused 1380 (delta 890), pack-reused 0 (from 0)\u001b[K\n",
            "Receiving objects: 100% (1392/1392), 6.42 MiB | 26.72 MiB/s, done.\n",
            "Resolving deltas: 100% (897/897), done.\n",
            "/content/avatarify\n"
          ]
        }
      ]
    },
    {
      "cell_type": "code",
      "source": [
        "!ls"
      ],
      "metadata": {
        "colab": {
          "base_uri": "https://localhost:8080/"
        },
        "id": "11Ej2Ho5UKr0",
        "outputId": "c24f4b13-407b-4da7-d818-83499af543bd"
      },
      "execution_count": 4,
      "outputs": [
        {
          "output_type": "stream",
          "name": "stdout",
          "text": [
            "afy\t\t config.yaml  LICENSE.md\t       requirements.txt  scripts\n",
            "avatarify.ipynb  Dockerfile   main.py\t\t       run_mac.sh\t var\n",
            "avatars\t\t docs\t      README.md\t\t       run.sh\n",
            "cam.yaml\t fomm\t      requirements_client.txt  run_windows.bat\n"
          ]
        }
      ]
    },
    {
      "cell_type": "code",
      "source": [
        "!wget https://repo.anaconda.com/miniconda/Miniconda3-latest-Linux-x86_64.sh -O miniconda.sh"
      ],
      "metadata": {
        "colab": {
          "base_uri": "https://localhost:8080/"
        },
        "id": "zGLmJJYsZF-s",
        "outputId": "f76f0667-86dc-4d96-9c3c-41b22fbd4272"
      },
      "execution_count": 15,
      "outputs": [
        {
          "output_type": "stream",
          "name": "stdout",
          "text": [
            "--2025-03-25 05:35:29--  https://repo.anaconda.com/miniconda/Miniconda3-latest-Linux-x86_64.sh\n",
            "Resolving repo.anaconda.com (repo.anaconda.com)... 104.16.191.158, 104.16.32.241, 2606:4700::6810:20f1, ...\n",
            "Connecting to repo.anaconda.com (repo.anaconda.com)|104.16.191.158|:443... connected.\n",
            "HTTP request sent, awaiting response... 200 OK\n",
            "Length: 154615621 (147M) [application/octet-stream]\n",
            "Saving to: ‘miniconda.sh’\n",
            "\n",
            "miniconda.sh        100%[===================>] 147.45M   153MB/s    in 1.0s    \n",
            "\n",
            "2025-03-25 05:35:30 (153 MB/s) - ‘miniconda.sh’ saved [154615621/154615621]\n",
            "\n"
          ]
        }
      ]
    },
    {
      "cell_type": "code",
      "source": [
        "!bash miniconda.sh -b -p /opt/conda"
      ],
      "metadata": {
        "colab": {
          "base_uri": "https://localhost:8080/"
        },
        "id": "rifKGtrrZWw-",
        "outputId": "c005b45e-1be0-4acd-9a56-e970459b3615"
      },
      "execution_count": 16,
      "outputs": [
        {
          "output_type": "stream",
          "name": "stdout",
          "text": [
            "ERROR: File or directory already exists: '/opt/conda'\n",
            "If you want to update an existing installation, use the -u option.\n"
          ]
        }
      ]
    },
    {
      "cell_type": "code",
      "source": [
        "!rm miniconda.sh\n"
      ],
      "metadata": {
        "id": "vDVC4bYpaShx"
      },
      "execution_count": 17,
      "outputs": []
    },
    {
      "cell_type": "code",
      "source": [
        "!echo 'export PATH=/opt/conda/bin:$PATH' >> ~/.bashrc"
      ],
      "metadata": {
        "id": "9PKmxRkUaXAT"
      },
      "execution_count": 18,
      "outputs": []
    },
    {
      "cell_type": "code",
      "source": [
        "!source ~/.bashrc"
      ],
      "metadata": {
        "id": "Rx2N6O9iad7q"
      },
      "execution_count": 19,
      "outputs": []
    },
    {
      "cell_type": "code",
      "source": [
        "!conda init bash"
      ],
      "metadata": {
        "colab": {
          "base_uri": "https://localhost:8080/"
        },
        "id": "gdy7m5btas8f",
        "outputId": "22e3450f-d13c-4123-a0fd-123f265ca5c7"
      },
      "execution_count": 25,
      "outputs": [
        {
          "output_type": "stream",
          "name": "stdout",
          "text": [
            "no change     /opt/conda/condabin/conda\n",
            "no change     /opt/conda/bin/conda\n",
            "no change     /opt/conda/bin/conda-env\n",
            "no change     /opt/conda/bin/activate\n",
            "no change     /opt/conda/bin/deactivate\n",
            "no change     /opt/conda/etc/profile.d/conda.sh\n",
            "no change     /opt/conda/etc/fish/conf.d/conda.fish\n",
            "no change     /opt/conda/shell/condabin/Conda.psm1\n",
            "no change     /opt/conda/shell/condabin/conda-hook.ps1\n",
            "no change     /opt/conda/lib/python3.9/site-packages/xontrib/conda.xsh\n",
            "modified      /opt/conda/etc/profile.d/conda.csh\n",
            "no change     /root/.bashrc\n",
            "\n",
            "==> For changes to take effect, close and re-open your current shell. <==\n",
            "\n"
          ]
        }
      ]
    },
    {
      "cell_type": "code",
      "source": [
        "import os\n",
        "os.environ[\"PATH\"] = \"/opt/conda/bin:\" + os.environ[\"PATH\"]\n"
      ],
      "metadata": {
        "id": "dJKeNFr8bFYM"
      },
      "execution_count": 21,
      "outputs": []
    },
    {
      "cell_type": "code",
      "source": [
        "!conda --version\n"
      ],
      "metadata": {
        "id": "bf0tUVlYvt1s",
        "outputId": "2f821806-8d7e-4c52-b10c-b26686d2c03c",
        "colab": {
          "base_uri": "https://localhost:8080/"
        }
      },
      "execution_count": 22,
      "outputs": [
        {
          "output_type": "stream",
          "name": "stdout",
          "text": [
            "conda 25.3.0\n"
          ]
        }
      ]
    },
    {
      "cell_type": "code",
      "source": [
        "!echo 'export PATH=/opt/conda/bin:$PATH' >> ~/.bashrc\n",
        "!source ~/.bashrc\n"
      ],
      "metadata": {
        "id": "iRwYqjbHbUeD"
      },
      "execution_count": 23,
      "outputs": []
    },
    {
      "cell_type": "code",
      "source": [
        "!conda --version\n"
      ],
      "metadata": {
        "colab": {
          "base_uri": "https://localhost:8080/"
        },
        "id": "BmV-1sE9bX7W",
        "outputId": "dd99e2f7-d6e3-4b8e-9afd-b0d736c46272"
      },
      "execution_count": 24,
      "outputs": [
        {
          "output_type": "stream",
          "name": "stdout",
          "text": [
            "conda 25.3.0\n"
          ]
        }
      ]
    },
    {
      "cell_type": "code",
      "source": [
        "!conda init bash\n"
      ],
      "metadata": {
        "colab": {
          "base_uri": "https://localhost:8080/"
        },
        "id": "PDcWFl1nbd9C",
        "outputId": "4913684c-509f-4767-ae19-aac36f249da7"
      },
      "execution_count": 18,
      "outputs": [
        {
          "output_type": "stream",
          "name": "stdout",
          "text": [
            "no change     /opt/conda/condabin/conda\n",
            "no change     /opt/conda/bin/conda\n",
            "no change     /opt/conda/bin/conda-env\n",
            "no change     /opt/conda/bin/activate\n",
            "no change     /opt/conda/bin/deactivate\n",
            "no change     /opt/conda/etc/profile.d/conda.sh\n",
            "no change     /opt/conda/etc/fish/conf.d/conda.fish\n",
            "no change     /opt/conda/shell/condabin/Conda.psm1\n",
            "no change     /opt/conda/shell/condabin/conda-hook.ps1\n",
            "no change     /opt/conda/lib/python3.12/site-packages/xontrib/conda.xsh\n",
            "no change     /opt/conda/etc/profile.d/conda.csh\n",
            "no change     /root/.bashrc\n",
            "No action taken.\n"
          ]
        }
      ]
    },
    {
      "cell_type": "code",
      "source": [
        "!conda install -y python=3.9"
      ],
      "metadata": {
        "colab": {
          "base_uri": "https://localhost:8080/"
        },
        "id": "UuXwb4oTk2bK",
        "outputId": "632489de-8269-45b9-b79f-a3cc4492923f"
      },
      "execution_count": 26,
      "outputs": [
        {
          "output_type": "stream",
          "name": "stdout",
          "text": [
            "Channels:\n",
            " - defaults\n",
            "Platform: linux-64\n",
            "Collecting package metadata (repodata.json): - \b\b\\ \b\b| \b\b/ \b\b- \b\b\\ \b\bdone\n",
            "Solving environment: / \b\b- \b\bdone\n",
            "\n",
            "# All requested packages already installed.\n",
            "\n"
          ]
        }
      ]
    },
    {
      "cell_type": "code",
      "source": [
        "!pip install torch torchvision torchaudio\n"
      ],
      "metadata": {
        "colab": {
          "base_uri": "https://localhost:8080/",
          "height": 1000
        },
        "id": "ZuaEWSvjn50R",
        "outputId": "38aeec3d-51e6-4684-cf75-52fbf61ac61e"
      },
      "execution_count": 20,
      "outputs": [
        {
          "output_type": "stream",
          "name": "stdout",
          "text": [
            "Collecting torch\n",
            "  Downloading torch-2.6.0-cp39-cp39-manylinux1_x86_64.whl.metadata (28 kB)\n",
            "Collecting torchvision\n",
            "  Downloading torchvision-0.21.0-cp39-cp39-manylinux1_x86_64.whl.metadata (6.1 kB)\n",
            "Collecting torchaudio\n",
            "  Downloading torchaudio-2.6.0-cp39-cp39-manylinux1_x86_64.whl.metadata (6.6 kB)\n",
            "Collecting filelock (from torch)\n",
            "  Downloading filelock-3.18.0-py3-none-any.whl.metadata (2.9 kB)\n",
            "Requirement already satisfied: typing-extensions>=4.10.0 in /opt/conda/lib/python3.9/site-packages (from torch) (4.12.2)\n",
            "Collecting networkx (from torch)\n",
            "  Downloading networkx-3.2.1-py3-none-any.whl.metadata (5.2 kB)\n",
            "Collecting jinja2 (from torch)\n",
            "  Downloading jinja2-3.1.6-py3-none-any.whl.metadata (2.9 kB)\n",
            "Collecting fsspec (from torch)\n",
            "  Downloading fsspec-2025.3.0-py3-none-any.whl.metadata (11 kB)\n",
            "Collecting nvidia-cuda-nvrtc-cu12==12.4.127 (from torch)\n",
            "  Downloading nvidia_cuda_nvrtc_cu12-12.4.127-py3-none-manylinux2014_x86_64.whl.metadata (1.5 kB)\n",
            "Collecting nvidia-cuda-runtime-cu12==12.4.127 (from torch)\n",
            "  Downloading nvidia_cuda_runtime_cu12-12.4.127-py3-none-manylinux2014_x86_64.whl.metadata (1.5 kB)\n",
            "Collecting nvidia-cuda-cupti-cu12==12.4.127 (from torch)\n",
            "  Downloading nvidia_cuda_cupti_cu12-12.4.127-py3-none-manylinux2014_x86_64.whl.metadata (1.6 kB)\n",
            "Collecting nvidia-cudnn-cu12==9.1.0.70 (from torch)\n",
            "  Downloading nvidia_cudnn_cu12-9.1.0.70-py3-none-manylinux2014_x86_64.whl.metadata (1.6 kB)\n",
            "Collecting nvidia-cublas-cu12==12.4.5.8 (from torch)\n",
            "  Downloading nvidia_cublas_cu12-12.4.5.8-py3-none-manylinux2014_x86_64.whl.metadata (1.5 kB)\n",
            "Collecting nvidia-cufft-cu12==11.2.1.3 (from torch)\n",
            "  Downloading nvidia_cufft_cu12-11.2.1.3-py3-none-manylinux2014_x86_64.whl.metadata (1.5 kB)\n",
            "Collecting nvidia-curand-cu12==10.3.5.147 (from torch)\n",
            "  Downloading nvidia_curand_cu12-10.3.5.147-py3-none-manylinux2014_x86_64.whl.metadata (1.5 kB)\n",
            "Collecting nvidia-cusolver-cu12==11.6.1.9 (from torch)\n",
            "  Downloading nvidia_cusolver_cu12-11.6.1.9-py3-none-manylinux2014_x86_64.whl.metadata (1.6 kB)\n",
            "Collecting nvidia-cusparse-cu12==12.3.1.170 (from torch)\n",
            "  Downloading nvidia_cusparse_cu12-12.3.1.170-py3-none-manylinux2014_x86_64.whl.metadata (1.6 kB)\n",
            "Collecting nvidia-cusparselt-cu12==0.6.2 (from torch)\n",
            "  Downloading nvidia_cusparselt_cu12-0.6.2-py3-none-manylinux2014_x86_64.whl.metadata (6.8 kB)\n",
            "Collecting nvidia-nccl-cu12==2.21.5 (from torch)\n",
            "  Downloading nvidia_nccl_cu12-2.21.5-py3-none-manylinux2014_x86_64.whl.metadata (1.8 kB)\n",
            "Collecting nvidia-nvtx-cu12==12.4.127 (from torch)\n",
            "  Downloading nvidia_nvtx_cu12-12.4.127-py3-none-manylinux2014_x86_64.whl.metadata (1.7 kB)\n",
            "Collecting nvidia-nvjitlink-cu12==12.4.127 (from torch)\n",
            "  Downloading nvidia_nvjitlink_cu12-12.4.127-py3-none-manylinux2014_x86_64.whl.metadata (1.5 kB)\n",
            "Collecting triton==3.2.0 (from torch)\n",
            "  Downloading triton-3.2.0-cp39-cp39-manylinux_2_17_x86_64.manylinux2014_x86_64.whl.metadata (1.4 kB)\n",
            "Collecting sympy==1.13.1 (from torch)\n",
            "  Downloading sympy-1.13.1-py3-none-any.whl.metadata (12 kB)\n",
            "Collecting mpmath<1.4,>=1.1.0 (from sympy==1.13.1->torch)\n",
            "  Downloading mpmath-1.3.0-py3-none-any.whl.metadata (8.6 kB)\n",
            "Collecting numpy (from torchvision)\n",
            "  Downloading numpy-2.0.2-cp39-cp39-manylinux_2_17_x86_64.manylinux2014_x86_64.whl.metadata (60 kB)\n",
            "Collecting pillow!=8.3.*,>=5.3.0 (from torchvision)\n",
            "  Downloading pillow-11.1.0-cp39-cp39-manylinux_2_28_x86_64.whl.metadata (9.1 kB)\n",
            "Collecting MarkupSafe>=2.0 (from jinja2->torch)\n",
            "  Downloading MarkupSafe-3.0.2-cp39-cp39-manylinux_2_17_x86_64.manylinux2014_x86_64.whl.metadata (4.0 kB)\n",
            "Downloading torch-2.6.0-cp39-cp39-manylinux1_x86_64.whl (766.7 MB)\n",
            "\u001b[2K   \u001b[90m━━━━━━━━━━━━━━━━━━━━━━━━━━━━━━━━━━━━━━━━\u001b[0m \u001b[32m766.7/766.7 MB\u001b[0m \u001b[31m17.8 MB/s\u001b[0m eta \u001b[36m0:00:00\u001b[0m\n",
            "\u001b[?25hDownloading nvidia_cublas_cu12-12.4.5.8-py3-none-manylinux2014_x86_64.whl (363.4 MB)\n",
            "\u001b[2K   \u001b[90m━━━━━━━━━━━━━━━━━━━━━━━━━━━━━━━━━━━━━━━━\u001b[0m \u001b[32m363.4/363.4 MB\u001b[0m \u001b[31m58.6 MB/s\u001b[0m eta \u001b[36m0:00:00\u001b[0m\n",
            "\u001b[?25hDownloading nvidia_cuda_cupti_cu12-12.4.127-py3-none-manylinux2014_x86_64.whl (13.8 MB)\n",
            "\u001b[2K   \u001b[90m━━━━━━━━━━━━━━━━━━━━━━━━━━━━━━━━━━━━━━━━\u001b[0m \u001b[32m13.8/13.8 MB\u001b[0m \u001b[31m84.5 MB/s\u001b[0m eta \u001b[36m0:00:00\u001b[0m\n",
            "\u001b[?25hDownloading nvidia_cuda_nvrtc_cu12-12.4.127-py3-none-manylinux2014_x86_64.whl (24.6 MB)\n",
            "\u001b[2K   \u001b[90m━━━━━━━━━━━━━━━━━━━━━━━━━━━━━━━━━━━━━━━━\u001b[0m \u001b[32m24.6/24.6 MB\u001b[0m \u001b[31m75.6 MB/s\u001b[0m eta \u001b[36m0:00:00\u001b[0m\n",
            "\u001b[?25hDownloading nvidia_cuda_runtime_cu12-12.4.127-py3-none-manylinux2014_x86_64.whl (883 kB)\n",
            "\u001b[2K   \u001b[90m━━━━━━━━━━━━━━━━━━━━━━━━━━━━━━━━━━━━━━━━\u001b[0m \u001b[32m883.7/883.7 kB\u001b[0m \u001b[31m22.5 MB/s\u001b[0m eta \u001b[36m0:00:00\u001b[0m\n",
            "\u001b[?25hDownloading nvidia_cudnn_cu12-9.1.0.70-py3-none-manylinux2014_x86_64.whl (664.8 MB)\n",
            "\u001b[2K   \u001b[90m━━━━━━━━━━━━━━━━━━━━━━━━━━━━━━━━━━━━━━━━\u001b[0m \u001b[32m664.8/664.8 MB\u001b[0m \u001b[31m16.2 MB/s\u001b[0m eta \u001b[36m0:00:00\u001b[0m\n",
            "\u001b[?25hDownloading nvidia_cufft_cu12-11.2.1.3-py3-none-manylinux2014_x86_64.whl (211.5 MB)\n",
            "\u001b[2K   \u001b[90m━━━━━━━━━━━━━━━━━━━━━━━━━━━━━━━━━━━━━━━━\u001b[0m \u001b[32m211.5/211.5 MB\u001b[0m \u001b[31m63.1 MB/s\u001b[0m eta \u001b[36m0:00:00\u001b[0m\n",
            "\u001b[?25hDownloading nvidia_curand_cu12-10.3.5.147-py3-none-manylinux2014_x86_64.whl (56.3 MB)\n",
            "\u001b[2K   \u001b[90m━━━━━━━━━━━━━━━━━━━━━━━━━━━━━━━━━━━━━━━━\u001b[0m \u001b[32m56.3/56.3 MB\u001b[0m \u001b[31m47.2 MB/s\u001b[0m eta \u001b[36m0:00:00\u001b[0m\n",
            "\u001b[?25hDownloading nvidia_cusolver_cu12-11.6.1.9-py3-none-manylinux2014_x86_64.whl (127.9 MB)\n",
            "\u001b[2K   \u001b[90m━━━━━━━━━━━━━━━━━━━━━━━━━━━━━━━━━━━━━━━━\u001b[0m \u001b[32m127.9/127.9 MB\u001b[0m \u001b[31m52.5 MB/s\u001b[0m eta \u001b[36m0:00:00\u001b[0m\n",
            "\u001b[?25hDownloading nvidia_cusparse_cu12-12.3.1.170-py3-none-manylinux2014_x86_64.whl (207.5 MB)\n",
            "\u001b[2K   \u001b[90m━━━━━━━━━━━━━━━━━━━━━━━━━━━━━━━━━━━━━━━━\u001b[0m \u001b[32m207.5/207.5 MB\u001b[0m \u001b[31m42.6 MB/s\u001b[0m eta \u001b[36m0:00:00\u001b[0m\n",
            "\u001b[?25hDownloading nvidia_cusparselt_cu12-0.6.2-py3-none-manylinux2014_x86_64.whl (150.1 MB)\n",
            "\u001b[2K   \u001b[90m━━━━━━━━━━━━━━━━━━━━━━━━━━━━━━━━━━━━━━━━\u001b[0m \u001b[32m150.1/150.1 MB\u001b[0m \u001b[31m44.8 MB/s\u001b[0m eta \u001b[36m0:00:00\u001b[0m\n",
            "\u001b[?25hDownloading nvidia_nccl_cu12-2.21.5-py3-none-manylinux2014_x86_64.whl (188.7 MB)\n",
            "\u001b[2K   \u001b[90m━━━━━━━━━━━━━━━━━━━━━━━━━━━━━━━━━━━━━━━━\u001b[0m \u001b[32m188.7/188.7 MB\u001b[0m \u001b[31m43.0 MB/s\u001b[0m eta \u001b[36m0:00:00\u001b[0m\n",
            "\u001b[?25hDownloading nvidia_nvjitlink_cu12-12.4.127-py3-none-manylinux2014_x86_64.whl (21.1 MB)\n",
            "\u001b[2K   \u001b[90m━━━━━━━━━━━━━━━━━━━━━━━━━━━━━━━━━━━━━━━━\u001b[0m \u001b[32m21.1/21.1 MB\u001b[0m \u001b[31m52.2 MB/s\u001b[0m eta \u001b[36m0:00:00\u001b[0m\n",
            "\u001b[?25hDownloading nvidia_nvtx_cu12-12.4.127-py3-none-manylinux2014_x86_64.whl (99 kB)\n",
            "Downloading sympy-1.13.1-py3-none-any.whl (6.2 MB)\n",
            "\u001b[2K   \u001b[90m━━━━━━━━━━━━━━━━━━━━━━━━━━━━━━━━━━━━━━━━\u001b[0m \u001b[32m6.2/6.2 MB\u001b[0m \u001b[31m45.0 MB/s\u001b[0m eta \u001b[36m0:00:00\u001b[0m\n",
            "\u001b[?25hDownloading triton-3.2.0-cp39-cp39-manylinux_2_17_x86_64.manylinux2014_x86_64.whl (253.1 MB)\n",
            "\u001b[2K   \u001b[90m━━━━━━━━━━━━━━━━━━━━━━━━━━━━━━━━━━━━━━━━\u001b[0m \u001b[32m253.1/253.1 MB\u001b[0m \u001b[31m51.6 MB/s\u001b[0m eta \u001b[36m0:00:00\u001b[0m\n",
            "\u001b[?25hDownloading torchvision-0.21.0-cp39-cp39-manylinux1_x86_64.whl (7.2 MB)\n",
            "\u001b[2K   \u001b[90m━━━━━━━━━━━━━━━━━━━━━━━━━━━━━━━━━━━━━━━━\u001b[0m \u001b[32m7.2/7.2 MB\u001b[0m \u001b[31m34.0 MB/s\u001b[0m eta \u001b[36m0:00:00\u001b[0m\n",
            "\u001b[?25hDownloading torchaudio-2.6.0-cp39-cp39-manylinux1_x86_64.whl (3.4 MB)\n",
            "\u001b[2K   \u001b[90m━━━━━━━━━━━━━━━━━━━━━━━━━━━━━━━━━━━━━━━━\u001b[0m \u001b[32m3.4/3.4 MB\u001b[0m \u001b[31m32.7 MB/s\u001b[0m eta \u001b[36m0:00:00\u001b[0m\n",
            "\u001b[?25hDownloading pillow-11.1.0-cp39-cp39-manylinux_2_28_x86_64.whl (4.5 MB)\n",
            "\u001b[2K   \u001b[90m━━━━━━━━━━━━━━━━━━━━━━━━━━━━━━━━━━━━━━━━\u001b[0m \u001b[32m4.5/4.5 MB\u001b[0m \u001b[31m32.3 MB/s\u001b[0m eta \u001b[36m0:00:00\u001b[0m\n",
            "\u001b[?25hDownloading filelock-3.18.0-py3-none-any.whl (16 kB)\n",
            "Downloading fsspec-2025.3.0-py3-none-any.whl (193 kB)\n",
            "Downloading jinja2-3.1.6-py3-none-any.whl (134 kB)\n",
            "Downloading networkx-3.2.1-py3-none-any.whl (1.6 MB)\n",
            "\u001b[2K   \u001b[90m━━━━━━━━━━━━━━━━━━━━━━━━━━━━━━━━━━━━━━━━\u001b[0m \u001b[32m1.6/1.6 MB\u001b[0m \u001b[31m25.4 MB/s\u001b[0m eta \u001b[36m0:00:00\u001b[0m\n",
            "\u001b[?25hDownloading numpy-2.0.2-cp39-cp39-manylinux_2_17_x86_64.manylinux2014_x86_64.whl (19.5 MB)\n",
            "\u001b[2K   \u001b[90m━━━━━━━━━━━━━━━━━━━━━━━━━━━━━━━━━━━━━━━━\u001b[0m \u001b[32m19.5/19.5 MB\u001b[0m \u001b[31m39.6 MB/s\u001b[0m eta \u001b[36m0:00:00\u001b[0m\n",
            "\u001b[?25hDownloading MarkupSafe-3.0.2-cp39-cp39-manylinux_2_17_x86_64.manylinux2014_x86_64.whl (20 kB)\n",
            "Downloading mpmath-1.3.0-py3-none-any.whl (536 kB)\n",
            "\u001b[2K   \u001b[90m━━━━━━━━━━━━━━━━━━━━━━━━━━━━━━━━━━━━━━━━\u001b[0m \u001b[32m536.2/536.2 kB\u001b[0m \u001b[31m11.4 MB/s\u001b[0m eta \u001b[36m0:00:00\u001b[0m\n",
            "\u001b[?25hInstalling collected packages: triton, nvidia-cusparselt-cu12, mpmath, sympy, pillow, nvidia-nvtx-cu12, nvidia-nvjitlink-cu12, nvidia-nccl-cu12, nvidia-curand-cu12, nvidia-cufft-cu12, nvidia-cuda-runtime-cu12, nvidia-cuda-nvrtc-cu12, nvidia-cuda-cupti-cu12, nvidia-cublas-cu12, numpy, networkx, MarkupSafe, fsspec, filelock, nvidia-cusparse-cu12, nvidia-cudnn-cu12, jinja2, nvidia-cusolver-cu12, torch, torchvision, torchaudio\n",
            "Successfully installed MarkupSafe-3.0.2 filelock-3.18.0 fsspec-2025.3.0 jinja2-3.1.6 mpmath-1.3.0 networkx-3.2.1 numpy-2.0.2 nvidia-cublas-cu12-12.4.5.8 nvidia-cuda-cupti-cu12-12.4.127 nvidia-cuda-nvrtc-cu12-12.4.127 nvidia-cuda-runtime-cu12-12.4.127 nvidia-cudnn-cu12-9.1.0.70 nvidia-cufft-cu12-11.2.1.3 nvidia-curand-cu12-10.3.5.147 nvidia-cusolver-cu12-11.6.1.9 nvidia-cusparse-cu12-12.3.1.170 nvidia-cusparselt-cu12-0.6.2 nvidia-nccl-cu12-2.21.5 nvidia-nvjitlink-cu12-12.4.127 nvidia-nvtx-cu12-12.4.127 pillow-11.1.0 sympy-1.13.1 torch-2.6.0 torchaudio-2.6.0 torchvision-0.21.0 triton-3.2.0\n"
          ]
        },
        {
          "output_type": "display_data",
          "data": {
            "application/vnd.colab-display-data+json": {
              "pip_warning": {
                "packages": [
                  "PIL"
                ]
              },
              "id": "46069bc98cab4c6092067a173f3ce9cf"
            }
          },
          "metadata": {}
        }
      ]
    },
    {
      "cell_type": "code",
      "source": [
        "import torch\n",
        "print(torch.__version__)\n"
      ],
      "metadata": {
        "colab": {
          "base_uri": "https://localhost:8080/"
        },
        "id": "ecJaVEpgoeIz",
        "outputId": "649bf196-f1f6-4f85-f92a-313ce979d64f"
      },
      "execution_count": 1,
      "outputs": [
        {
          "output_type": "stream",
          "name": "stdout",
          "text": [
            "2.6.0+cu124\n"
          ]
        }
      ]
    },
    {
      "cell_type": "code",
      "source": [
        "cd avatarify"
      ],
      "metadata": {
        "id": "XvJwGQ0Ky0J-",
        "outputId": "e7ef10de-6a47-41f0-b95f-222c5b8d61d9",
        "colab": {
          "base_uri": "https://localhost:8080/"
        }
      },
      "execution_count": 12,
      "outputs": [
        {
          "output_type": "stream",
          "name": "stdout",
          "text": [
            "/content/avatarify\n"
          ]
        }
      ]
    },
    {
      "cell_type": "code",
      "source": [
        "!ls"
      ],
      "metadata": {
        "id": "oD7AUyo2y4hV",
        "outputId": "7b806f67-e591-4036-b87a-87fb2f67e16f",
        "colab": {
          "base_uri": "https://localhost:8080/"
        }
      },
      "execution_count": 13,
      "outputs": [
        {
          "output_type": "stream",
          "name": "stdout",
          "text": [
            "afy\t\t config.yaml  LICENSE.md\t       requirements.txt  scripts\n",
            "avatarify.ipynb  Dockerfile   main.py\t\t       run_mac.sh\t var\n",
            "avatars\t\t docs\t      README.md\t\t       run.sh\n",
            "cam.yaml\t fomm\t      requirements_client.txt  run_windows.bat\n"
          ]
        }
      ]
    },
    {
      "cell_type": "code",
      "source": [
        "!sed -i 's/conda install -y pytorch==1.7.1.*/pip install torch torchvision torchaudio/' scripts/install.sh\n"
      ],
      "metadata": {
        "id": "AL8_tPBNwalu"
      },
      "execution_count": 28,
      "outputs": []
    },
    {
      "cell_type": "code",
      "source": [
        "!bash scripts/install.sh\n"
      ],
      "metadata": {
        "colab": {
          "base_uri": "https://localhost:8080/"
        },
        "id": "u6YKwzBpxkEa",
        "outputId": "ee8fcb7b-f09e-4820-fa82-f41c7cda86c2"
      },
      "execution_count": 29,
      "outputs": [
        {
          "output_type": "stream",
          "name": "stdout",
          "text": [
            "Cloning into 'v4l2loopback'...\n",
            "remote: Enumerating objects: 2537, done.\u001b[K\n",
            "remote: Counting objects: 100% (571/571), done.\u001b[K\n",
            "remote: Compressing objects: 100% (33/33), done.\u001b[K\n",
            "remote: Total 2537 (delta 549), reused 538 (delta 538), pack-reused 1966 (from 1)\u001b[K\n",
            "Receiving objects: 100% (2537/2537), 908.27 KiB | 10.56 MiB/s, done.\n",
            "Resolving deltas: 100% (1505/1505), done.\n",
            "--- Installing v4l2loopback (sudo privelege required)\n",
            "Building v4l2-loopback driver...\n",
            "make -C /lib/modules/`uname -r`/build M=/content/avatarify/v4l2loopback modules\n",
            "make[1]: *** /lib/modules/6.1.85+/build: No such file or directory.  Stop.\n",
            "make: *** [Makefile:44: v4l2loopback.ko] Error 2\n",
            "depmod: ERROR: could not open directory /lib/modules/6.1.85+: No such file or directory\n",
            "depmod: FATAL: could not search modules: No such file or directory\n",
            "Channels:\n",
            " - defaults\n",
            "Platform: linux-64\n",
            "Collecting package metadata (repodata.json): - \b\b\\ \b\b| \b\b/ \b\b- \b\b\\ \b\b| \b\b/ \b\b- \b\b\\ \b\b| \b\b/ \b\b- \b\b\\ \b\b| \b\b/ \b\b- \b\b\\ \b\b| \b\b/ \b\b- \b\b\\ \b\b| \b\b/ \b\b- \b\b\\ \b\b| \b\b/ \b\b- \b\b\\ \b\b| \b\b/ \b\b- \b\b\\ \b\b| \b\b/ \b\b- \b\b\\ \b\b| \b\b/ \b\b- \b\bdone\n",
            "Solving environment: | \b\bdone\n",
            "\n",
            "## Package Plan ##\n",
            "\n",
            "  environment location: /opt/conda/envs/avatarify\n",
            "\n",
            "  added / updated specs:\n",
            "    - python=3.7\n",
            "\n",
            "\n",
            "The following NEW packages will be INSTALLED:\n",
            "\n",
            "  _libgcc_mutex      pkgs/main/linux-64::_libgcc_mutex-0.1-main \n",
            "  _openmp_mutex      pkgs/main/linux-64::_openmp_mutex-5.1-1_gnu \n",
            "  ca-certificates    pkgs/main/linux-64::ca-certificates-2025.2.25-h06a4308_0 \n",
            "  certifi            pkgs/main/linux-64::certifi-2022.12.7-py37h06a4308_0 \n",
            "  ld_impl_linux-64   pkgs/main/linux-64::ld_impl_linux-64-2.40-h12ee557_0 \n",
            "  libffi             pkgs/main/linux-64::libffi-3.4.4-h6a678d5_1 \n",
            "  libgcc-ng          pkgs/main/linux-64::libgcc-ng-11.2.0-h1234567_1 \n",
            "  libgomp            pkgs/main/linux-64::libgomp-11.2.0-h1234567_1 \n",
            "  libstdcxx-ng       pkgs/main/linux-64::libstdcxx-ng-11.2.0-h1234567_1 \n",
            "  ncurses            pkgs/main/linux-64::ncurses-6.4-h6a678d5_0 \n",
            "  openssl            pkgs/main/linux-64::openssl-1.1.1w-h7f8727e_0 \n",
            "  pip                pkgs/main/linux-64::pip-22.3.1-py37h06a4308_0 \n",
            "  python             pkgs/main/linux-64::python-3.7.16-h7a1cb2a_0 \n",
            "  readline           pkgs/main/linux-64::readline-8.2-h5eee18b_0 \n",
            "  setuptools         pkgs/main/linux-64::setuptools-65.6.3-py37h06a4308_0 \n",
            "  sqlite             pkgs/main/linux-64::sqlite-3.45.3-h5eee18b_0 \n",
            "  tk                 pkgs/main/linux-64::tk-8.6.14-h39e8969_0 \n",
            "  wheel              pkgs/main/linux-64::wheel-0.38.4-py37h06a4308_0 \n",
            "  xz                 pkgs/main/linux-64::xz-5.6.4-h5eee18b_1 \n",
            "  zlib               pkgs/main/linux-64::zlib-1.2.13-h5eee18b_1 \n",
            "\n",
            "\n",
            "\n",
            "Downloading and Extracting Packages:\n",
            "\n",
            "Preparing transaction: - \b\b\\ \b\b| \b\b/ \b\b- \b\bdone\n",
            "Verifying transaction: | \b\b/ \b\b- \b\b\\ \b\b| \b\b/ \b\b- \b\b\\ \b\b| \b\b/ \b\b- \b\b\\ \b\b| \b\b/ \b\b- \b\b\\ \b\b| \b\b/ \b\b- \b\b\\ \b\bdone\n",
            "Executing transaction: / \b\b- \b\b\\ \b\b| \b\b/ \b\b- \b\b\\ \b\b| \b\b/ \b\b- \b\bdone\n",
            "#\n",
            "# To activate this environment, use\n",
            "#\n",
            "#     $ conda activate avatarify\n",
            "#\n",
            "# To deactivate an active environment, use\n",
            "#\n",
            "#     $ conda deactivate\n",
            "\n",
            "Channels:\n",
            " - conda-forge\n",
            " - defaults\n",
            "Platform: linux-64\n",
            "Collecting package metadata (repodata.json): - \b\b\\ \b\b| \b\b/ \b\b- \b\b\\ \b\b| \b\b/ \b\bdone\n",
            "Solving environment: \\ \b\bdone\n",
            "\n",
            "## Package Plan ##\n",
            "\n",
            "  environment location: /opt/conda/envs/avatarify\n",
            "\n",
            "  added / updated specs:\n",
            "    - numpy==1.19.0\n",
            "    - python-blosc==1.7.0\n",
            "    - scikit-image\n",
            "\n",
            "\n",
            "The following NEW packages will be INSTALLED:\n",
            "\n",
            "  blosc              conda-forge/linux-64::blosc-1.21.1-hd32f23e_0 \n",
            "  brotli             conda-forge/linux-64::brotli-1.0.9-h166bdaf_7 \n",
            "  brotli-bin         conda-forge/linux-64::brotli-bin-1.0.9-h166bdaf_7 \n",
            "  brunsli            conda-forge/linux-64::brunsli-0.1-h9c3ff4c_0 \n",
            "  bzip2              conda-forge/linux-64::bzip2-1.0.8-h7f98852_4 \n",
            "  c-ares             conda-forge/linux-64::c-ares-1.18.1-h7f98852_0 \n",
            "  cfitsio            conda-forge/linux-64::cfitsio-3.470-hb418390_7 \n",
            "  charls             conda-forge/linux-64::charls-2.2.0-h9c3ff4c_0 \n",
            "  cloudpickle        conda-forge/noarch::cloudpickle-2.2.1-pyhd8ed1ab_0 \n",
            "  cycler             conda-forge/noarch::cycler-0.11.0-pyhd8ed1ab_0 \n",
            "  cytoolz            conda-forge/linux-64::cytoolz-0.11.2-py37h540881e_2 \n",
            "  dask-core          conda-forge/noarch::dask-core-2022.2.0-pyhd8ed1ab_0 \n",
            "  fonttools          conda-forge/linux-64::fonttools-4.33.3-py37h540881e_0 \n",
            "  freetype           conda-forge/linux-64::freetype-2.10.4-h0708190_1 \n",
            "  fsspec             conda-forge/noarch::fsspec-2023.1.0-pyhd8ed1ab_0 \n",
            "  giflib             conda-forge/linux-64::giflib-5.2.1-h36c2ea0_2 \n",
            "  imagecodecs        conda-forge/linux-64::imagecodecs-2021.7.30-py37hfe5a812_1 \n",
            "  imageio            conda-forge/noarch::imageio-2.36.0-pyh12aca89_1 \n",
            "  jbig               conda-forge/linux-64::jbig-2.1-h7f98852_2003 \n",
            "  jpeg               conda-forge/linux-64::jpeg-9e-h166bdaf_1 \n",
            "  jxrlib             conda-forge/linux-64::jxrlib-1.1-h7f98852_2 \n",
            "  keyutils           conda-forge/linux-64::keyutils-1.6.1-h166bdaf_0 \n",
            "  kiwisolver         conda-forge/linux-64::kiwisolver-1.4.2-py37h7cecad7_1 \n",
            "  krb5               conda-forge/linux-64::krb5-1.19.3-h3790be6_0 \n",
            "  lcms2              conda-forge/linux-64::lcms2-2.12-hddcbb42_0 \n",
            "  lerc               conda-forge/linux-64::lerc-2.2.1-h9c3ff4c_0 \n",
            "  libaec             conda-forge/linux-64::libaec-1.0.6-h9c3ff4c_0 \n",
            "  libblas            conda-forge/linux-64::libblas-3.9.0-16_linux64_openblas \n",
            "  libbrotlicommon    conda-forge/linux-64::libbrotlicommon-1.0.9-h166bdaf_7 \n",
            "  libbrotlidec       conda-forge/linux-64::libbrotlidec-1.0.9-h166bdaf_7 \n",
            "  libbrotlienc       conda-forge/linux-64::libbrotlienc-1.0.9-h166bdaf_7 \n",
            "  libcblas           conda-forge/linux-64::libcblas-3.9.0-16_linux64_openblas \n",
            "  libcurl            conda-forge/linux-64::libcurl-7.79.1-h2574ce0_1 \n",
            "  libdeflate         conda-forge/linux-64::libdeflate-1.7-h7f98852_5 \n",
            "  libedit            conda-forge/linux-64::libedit-3.1.20191231-he28a2e2_2 \n",
            "  libev              conda-forge/linux-64::libev-4.33-h516909a_1 \n",
            "  libgfortran-ng     conda-forge/linux-64::libgfortran-ng-13.2.0-h69a702a_0 \n",
            "  libgfortran5       conda-forge/linux-64::libgfortran5-13.2.0-ha4646dd_0 \n",
            "  liblapack          conda-forge/linux-64::liblapack-3.9.0-16_linux64_openblas \n",
            "  libnghttp2         conda-forge/linux-64::libnghttp2-1.43.0-h812cca2_1 \n",
            "  libopenblas        pkgs/main/linux-64::libopenblas-0.3.21-h043d6bf_0 \n",
            "  libpng             conda-forge/linux-64::libpng-1.6.37-h21135ba_2 \n",
            "  libssh2            conda-forge/linux-64::libssh2-1.10.0-ha56f1ee_2 \n",
            "  libtiff            conda-forge/linux-64::libtiff-4.3.0-hf544144_1 \n",
            "  libwebp-base       conda-forge/linux-64::libwebp-base-1.2.2-h7f98852_1 \n",
            "  libzopfli          conda-forge/linux-64::libzopfli-1.0.3-h9c3ff4c_0 \n",
            "  locket             conda-forge/noarch::locket-1.0.0-pyhd8ed1ab_0 \n",
            "  lz4-c              conda-forge/linux-64::lz4-c-1.9.3-h9c3ff4c_1 \n",
            "  matplotlib-base    conda-forge/linux-64::matplotlib-base-3.5.1-py37h1058ff1_0 \n",
            "  munkres            conda-forge/noarch::munkres-1.1.4-pyh9f0ad1d_0 \n",
            "  networkx           conda-forge/noarch::networkx-2.7-pyhd8ed1ab_0 \n",
            "  numpy              conda-forge/linux-64::numpy-1.19.0-py37h8960a57_0 \n",
            "  olefile            conda-forge/noarch::olefile-0.47-pyhd8ed1ab_0 \n",
            "  openjpeg           conda-forge/linux-64::openjpeg-2.4.0-hb52868f_1 \n",
            "  packaging          conda-forge/noarch::packaging-23.2-pyhd8ed1ab_0 \n",
            "  pandas             pkgs/main/linux-64::pandas-1.2.4-py37ha9443f7_0 \n",
            "  partd              conda-forge/noarch::partd-1.4.1-pyhd8ed1ab_0 \n",
            "  pillow             conda-forge/linux-64::pillow-8.3.2-py37h0f21c89_0 \n",
            "  pyparsing          conda-forge/noarch::pyparsing-3.1.4-pyhd8ed1ab_0 \n",
            "  python-blosc       conda-forge/linux-64::python-blosc-1.7.0-py37hf484d3e_1001 \n",
            "  python-dateutil    conda-forge/noarch::python-dateutil-2.9.0-pyhd8ed1ab_0 \n",
            "  python_abi         conda-forge/linux-64::python_abi-3.7-2_cp37m \n",
            "  pytz               conda-forge/noarch::pytz-2024.2-pyhd8ed1ab_0 \n",
            "  pywavelets         conda-forge/linux-64::pywavelets-1.3.0-py37h6c7ee08_0 \n",
            "  pyyaml             conda-forge/linux-64::pyyaml-6.0-py37h540881e_4 \n",
            "  scikit-image       conda-forge/linux-64::scikit-image-0.19.2-py37he8f5f7f_0 \n",
            "  scipy              conda-forge/linux-64::scipy-1.7.3-py37hf2a6cf1_0 \n",
            "  six                conda-forge/noarch::six-1.16.0-pyh6c4a22f_0 \n",
            "  snappy             conda-forge/linux-64::snappy-1.1.9-hbd366e4_1 \n",
            "  tifffile           conda-forge/noarch::tifffile-2021.11.2-pyhd8ed1ab_0 \n",
            "  toolz              conda-forge/noarch::toolz-0.12.1-pyhd8ed1ab_0 \n",
            "  typing-extensions  conda-forge/noarch::typing-extensions-4.7.1-hd8ed1ab_0 \n",
            "  typing_extensions  conda-forge/noarch::typing_extensions-4.7.1-pyha770c72_0 \n",
            "  unicodedata2       conda-forge/linux-64::unicodedata2-14.0.0-py37h540881e_1 \n",
            "  yaml               conda-forge/linux-64::yaml-0.2.5-h7f98852_2 \n",
            "  zfp                conda-forge/linux-64::zfp-0.5.5-h9c3ff4c_8 \n",
            "  zstd               conda-forge/linux-64::zstd-1.5.0-ha95c52a_0 \n",
            "\n",
            "The following packages will be UPDATED:\n",
            "\n",
            "  certifi            pkgs/main/linux-64::certifi-2022.12.7~ --> conda-forge/noarch::certifi-2024.8.30-pyhd8ed1ab_0 \n",
            "\n",
            "\n",
            "\n",
            "Downloading and Extracting Packages:\n",
            "\n",
            "Preparing transaction: - \b\b\\ \b\b| \b\b/ \b\b- \b\b\\ \b\bdone\n",
            "Verifying transaction: / \b\b- \b\b\\ \b\b| \b\b/ \b\b- \b\b\\ \b\b| \b\b/ \b\b- \b\b\\ \b\b| \b\b/ \b\b- \b\b\\ \b\b| \b\b/ \b\b- \b\b\\ \b\b| \b\bdone\n",
            "Executing transaction: - \b\b\\ \b\b| \b\b/ \b\b- \b\b\\ \b\b| \b\b/ \b\b- \b\b\\ \b\b| \b\b/ \b\b- \b\b\\ \b\b| \b\b/ \b\b- \b\b\\ \b\b| \b\b/ \b\b- \b\b\\ \b\b| \b\b/ \b\b- \b\b\\ \b\b| \b\b/ \b\b- \b\b\\ \b\b| \b\b/ \b\b- \b\b\\ \b\b| \b\b/ \b\b- \b\b\\ \b\b| \b\b/ \b\b- \b\b\\ \b\b| \b\b/ \b\b- \b\b\\ \b\b| \b\b/ \b\b- \b\b\\ \b\b| \b\b/ \b\b- \b\b\\ \b\b| \b\b/ \b\b- \b\b\\ \b\b| \b\b/ \b\b- \b\b\\ \b\b| \b\b/ \b\b- \b\b\\ \b\b| \b\b/ \b\b- \b\b\\ \b\b| \b\b/ \b\b- \b\b\\ \b\bdone\n",
            "Collecting torch\n",
            "  Using cached torch-1.13.1-cp37-cp37m-manylinux1_x86_64.whl (887.5 MB)\n",
            "Collecting torchvision\n",
            "  Downloading torchvision-0.14.1-cp37-cp37m-manylinux1_x86_64.whl (24.2 MB)\n",
            "\u001b[2K     \u001b[90m━━━━━━━━━━━━━━━━━━━━━━━━━━━━━━━━━━━━━━━━\u001b[0m \u001b[32m24.2/24.2 MB\u001b[0m \u001b[31m32.9 MB/s\u001b[0m eta \u001b[36m0:00:00\u001b[0m\n",
            "\u001b[?25hCollecting torchaudio\n",
            "  Downloading torchaudio-0.13.1-cp37-cp37m-manylinux1_x86_64.whl (4.2 MB)\n",
            "\u001b[2K     \u001b[90m━━━━━━━━━━━━━━━━━━━━━━━━━━━━━━━━━━━━━━━━\u001b[0m \u001b[32m4.2/4.2 MB\u001b[0m \u001b[31m43.9 MB/s\u001b[0m eta \u001b[36m0:00:00\u001b[0m\n",
            "\u001b[?25hCollecting nvidia-cublas-cu11==11.10.3.66\n",
            "  Using cached nvidia_cublas_cu11-11.10.3.66-py3-none-manylinux1_x86_64.whl (317.1 MB)\n",
            "Collecting nvidia-cudnn-cu11==8.5.0.96\n",
            "  Using cached nvidia_cudnn_cu11-8.5.0.96-2-py3-none-manylinux1_x86_64.whl (557.1 MB)\n",
            "Collecting nvidia-cuda-runtime-cu11==11.7.99\n",
            "  Using cached nvidia_cuda_runtime_cu11-11.7.99-py3-none-manylinux1_x86_64.whl (849 kB)\n",
            "Requirement already satisfied: typing-extensions in /opt/conda/envs/avatarify/lib/python3.7/site-packages (from torch) (4.7.1)\n",
            "Collecting nvidia-cuda-nvrtc-cu11==11.7.99\n",
            "  Using cached nvidia_cuda_nvrtc_cu11-11.7.99-2-py3-none-manylinux1_x86_64.whl (21.0 MB)\n",
            "Requirement already satisfied: wheel in /opt/conda/envs/avatarify/lib/python3.7/site-packages (from nvidia-cublas-cu11==11.10.3.66->torch) (0.38.4)\n",
            "Requirement already satisfied: setuptools in /opt/conda/envs/avatarify/lib/python3.7/site-packages (from nvidia-cublas-cu11==11.10.3.66->torch) (65.6.3)\n",
            "Collecting requests\n",
            "  Downloading requests-2.31.0-py3-none-any.whl (62 kB)\n",
            "\u001b[2K     \u001b[90m━━━━━━━━━━━━━━━━━━━━━━━━━━━━━━━━━━━━━━━━\u001b[0m \u001b[32m62.6/62.6 kB\u001b[0m \u001b[31m7.3 MB/s\u001b[0m eta \u001b[36m0:00:00\u001b[0m\n",
            "\u001b[?25hRequirement already satisfied: numpy in /opt/conda/envs/avatarify/lib/python3.7/site-packages (from torchvision) (1.19.0)\n",
            "Collecting pillow!=8.3.*,>=5.3.0\n",
            "  Downloading Pillow-9.5.0-cp37-cp37m-manylinux_2_28_x86_64.whl (3.4 MB)\n",
            "\u001b[2K     \u001b[90m━━━━━━━━━━━━━━━━━━━━━━━━━━━━━━━━━━━━━━━━\u001b[0m \u001b[32m3.4/3.4 MB\u001b[0m \u001b[31m6.8 MB/s\u001b[0m eta \u001b[36m0:00:00\u001b[0m\n",
            "\u001b[?25hCollecting urllib3<3,>=1.21.1\n",
            "  Downloading urllib3-2.0.7-py3-none-any.whl (124 kB)\n",
            "\u001b[2K     \u001b[90m━━━━━━━━━━━━━━━━━━━━━━━━━━━━━━━━━━━━━━━━\u001b[0m \u001b[32m124.2/124.2 kB\u001b[0m \u001b[31m14.0 MB/s\u001b[0m eta \u001b[36m0:00:00\u001b[0m\n",
            "\u001b[?25hRequirement already satisfied: certifi>=2017.4.17 in /opt/conda/envs/avatarify/lib/python3.7/site-packages (from requests->torchvision) (2024.8.30)\n",
            "Collecting charset-normalizer<4,>=2\n",
            "  Downloading charset_normalizer-3.4.1-cp37-cp37m-manylinux_2_17_x86_64.manylinux2014_x86_64.whl (138 kB)\n",
            "\u001b[2K     \u001b[90m━━━━━━━━━━━━━━━━━━━━━━━━━━━━━━━━━━━━━━━━\u001b[0m \u001b[32m138.6/138.6 kB\u001b[0m \u001b[31m15.1 MB/s\u001b[0m eta \u001b[36m0:00:00\u001b[0m\n",
            "\u001b[?25hCollecting idna<4,>=2.5\n",
            "  Downloading idna-3.10-py3-none-any.whl (70 kB)\n",
            "\u001b[2K     \u001b[90m━━━━━━━━━━━━━━━━━━━━━━━━━━━━━━━━━━━━━━━━\u001b[0m \u001b[32m70.4/70.4 kB\u001b[0m \u001b[31m8.1 MB/s\u001b[0m eta \u001b[36m0:00:00\u001b[0m\n",
            "\u001b[?25hInstalling collected packages: urllib3, pillow, nvidia-cuda-runtime-cu11, nvidia-cuda-nvrtc-cu11, nvidia-cublas-cu11, idna, charset-normalizer, requests, nvidia-cudnn-cu11, torch, torchvision, torchaudio\n",
            "  Attempting uninstall: pillow\n",
            "    Found existing installation: Pillow 8.3.2\n",
            "    Uninstalling Pillow-8.3.2:\n",
            "      Successfully uninstalled Pillow-8.3.2\n",
            "Successfully installed charset-normalizer-3.4.1 idna-3.10 nvidia-cublas-cu11-11.10.3.66 nvidia-cuda-nvrtc-cu11-11.7.99 nvidia-cuda-runtime-cu11-11.7.99 nvidia-cudnn-cu11-8.5.0.96 pillow-9.5.0 requests-2.31.0 torch-1.13.1 torchaudio-0.13.1 torchvision-0.14.1 urllib3-2.0.7\n",
            "Cloning into 'fomm'...\n",
            "remote: Enumerating objects: 211, done.\u001b[K\n",
            "remote: Total 211 (delta 0), reused 0 (delta 0), pack-reused 211 (from 1)\u001b[K\n",
            "Receiving objects: 100% (211/211), 58.16 MiB | 7.26 MiB/s, done.\n",
            "Resolving deltas: 100% (108/108), done.\n",
            "Collecting opencv-python==4.2.0.34\n",
            "  Using cached opencv_python-4.2.0.34-cp37-cp37m-manylinux1_x86_64.whl (28.2 MB)\n",
            "Collecting face-alignment==1.3.3\n",
            "  Using cached face_alignment-1.3.3-py2.py3-none-any.whl\n",
            "Collecting pyzmq==20.0.0\n",
            "  Using cached pyzmq-20.0.0-cp37-cp37m-manylinux1_x86_64.whl (1.1 MB)\n",
            "Collecting msgpack-numpy==0.4.7.1\n",
            "  Using cached msgpack_numpy-0.4.7.1-py2.py3-none-any.whl (6.7 kB)\n",
            "Collecting pyyaml==5.4\n",
            "  Using cached PyYAML-5.4-cp37-cp37m-manylinux1_x86_64.whl (636 kB)\n",
            "Collecting requests==2.25.1\n",
            "  Using cached requests-2.25.1-py2.py3-none-any.whl (61 kB)\n",
            "Collecting pyfakewebcam==0.1.0\n",
            "  Using cached pyfakewebcam-0.1.0-py3-none-any.whl\n",
            "Requirement already satisfied: numpy>=1.14.5 in /opt/conda/envs/avatarify/lib/python3.7/site-packages (from opencv-python==4.2.0.34->-r requirements.txt (line 1)) (1.19.0)\n",
            "Requirement already satisfied: torch in /opt/conda/envs/avatarify/lib/python3.7/site-packages (from face-alignment==1.3.3->-r requirements.txt (line 2)) (1.13.1)\n",
            "Requirement already satisfied: scikit-image in /opt/conda/envs/avatarify/lib/python3.7/site-packages (from face-alignment==1.3.3->-r requirements.txt (line 2)) (0.19.2)\n",
            "Collecting tqdm\n",
            "  Using cached tqdm-4.67.1-py3-none-any.whl (78 kB)\n",
            "Collecting numba\n",
            "  Using cached numba-0.56.4-cp37-cp37m-manylinux2014_x86_64.manylinux_2_17_x86_64.whl (3.5 MB)\n",
            "Requirement already satisfied: scipy>=0.17 in /opt/conda/envs/avatarify/lib/python3.7/site-packages (from face-alignment==1.3.3->-r requirements.txt (line 2)) (1.7.3)\n",
            "Collecting msgpack>=0.5.2\n",
            "  Using cached msgpack-1.0.5-cp37-cp37m-manylinux_2_17_x86_64.manylinux2014_x86_64.whl (299 kB)\n",
            "Requirement already satisfied: certifi>=2017.4.17 in /opt/conda/envs/avatarify/lib/python3.7/site-packages (from requests==2.25.1->-r requirements.txt (line 6)) (2024.8.30)\n",
            "Collecting idna<3,>=2.5\n",
            "  Using cached idna-2.10-py2.py3-none-any.whl (58 kB)\n",
            "Collecting chardet<5,>=3.0.2\n",
            "  Using cached chardet-4.0.0-py2.py3-none-any.whl (178 kB)\n",
            "Collecting urllib3<1.27,>=1.21.1\n",
            "  Using cached urllib3-1.26.20-py2.py3-none-any.whl (144 kB)\n",
            "Requirement already satisfied: setuptools in /opt/conda/envs/avatarify/lib/python3.7/site-packages (from numba->face-alignment==1.3.3->-r requirements.txt (line 2)) (65.6.3)\n",
            "Collecting importlib-metadata\n",
            "  Using cached importlib_metadata-6.7.0-py3-none-any.whl (22 kB)\n",
            "Collecting llvmlite<0.40,>=0.39.0dev0\n",
            "  Using cached llvmlite-0.39.1-cp37-cp37m-manylinux_2_17_x86_64.manylinux2014_x86_64.whl (34.6 MB)\n",
            "Requirement already satisfied: PyWavelets>=1.1.1 in /opt/conda/envs/avatarify/lib/python3.7/site-packages (from scikit-image->face-alignment==1.3.3->-r requirements.txt (line 2)) (1.3.0)\n",
            "Requirement already satisfied: imageio>=2.4.1 in /opt/conda/envs/avatarify/lib/python3.7/site-packages (from scikit-image->face-alignment==1.3.3->-r requirements.txt (line 2)) (2.36.0)\n",
            "Requirement already satisfied: networkx>=2.2 in /opt/conda/envs/avatarify/lib/python3.7/site-packages (from scikit-image->face-alignment==1.3.3->-r requirements.txt (line 2)) (2.7)\n",
            "Requirement already satisfied: packaging>=20.0 in /opt/conda/envs/avatarify/lib/python3.7/site-packages (from scikit-image->face-alignment==1.3.3->-r requirements.txt (line 2)) (23.2)\n",
            "Requirement already satisfied: tifffile>=2019.7.26 in /opt/conda/envs/avatarify/lib/python3.7/site-packages (from scikit-image->face-alignment==1.3.3->-r requirements.txt (line 2)) (2021.11.2)\n",
            "Requirement already satisfied: pillow!=7.1.0,!=7.1.1,!=8.3.0,>=6.1.0 in /opt/conda/envs/avatarify/lib/python3.7/site-packages (from scikit-image->face-alignment==1.3.3->-r requirements.txt (line 2)) (9.5.0)\n",
            "Requirement already satisfied: typing-extensions in /opt/conda/envs/avatarify/lib/python3.7/site-packages (from torch->face-alignment==1.3.3->-r requirements.txt (line 2)) (4.7.1)\n",
            "Requirement already satisfied: nvidia-cuda-runtime-cu11==11.7.99 in /opt/conda/envs/avatarify/lib/python3.7/site-packages (from torch->face-alignment==1.3.3->-r requirements.txt (line 2)) (11.7.99)\n",
            "Requirement already satisfied: nvidia-cuda-nvrtc-cu11==11.7.99 in /opt/conda/envs/avatarify/lib/python3.7/site-packages (from torch->face-alignment==1.3.3->-r requirements.txt (line 2)) (11.7.99)\n",
            "Requirement already satisfied: nvidia-cublas-cu11==11.10.3.66 in /opt/conda/envs/avatarify/lib/python3.7/site-packages (from torch->face-alignment==1.3.3->-r requirements.txt (line 2)) (11.10.3.66)\n",
            "Requirement already satisfied: nvidia-cudnn-cu11==8.5.0.96 in /opt/conda/envs/avatarify/lib/python3.7/site-packages (from torch->face-alignment==1.3.3->-r requirements.txt (line 2)) (8.5.0.96)\n",
            "Requirement already satisfied: wheel in /opt/conda/envs/avatarify/lib/python3.7/site-packages (from nvidia-cublas-cu11==11.10.3.66->torch->face-alignment==1.3.3->-r requirements.txt (line 2)) (0.38.4)\n",
            "Collecting zipp>=0.5\n",
            "  Using cached zipp-3.15.0-py3-none-any.whl (6.8 kB)\n",
            "Installing collected packages: msgpack, zipp, urllib3, tqdm, pyzmq, pyyaml, pyfakewebcam, opencv-python, msgpack-numpy, llvmlite, idna, chardet, requests, importlib-metadata, numba, face-alignment\n",
            "  Attempting uninstall: urllib3\n",
            "    Found existing installation: urllib3 2.0.7\n",
            "    Uninstalling urllib3-2.0.7:\n",
            "      Successfully uninstalled urllib3-2.0.7\n",
            "  Attempting uninstall: pyyaml\n",
            "    Found existing installation: PyYAML 6.0\n",
            "    Uninstalling PyYAML-6.0:\n",
            "      Successfully uninstalled PyYAML-6.0\n",
            "  Attempting uninstall: idna\n",
            "    Found existing installation: idna 3.10\n",
            "    Uninstalling idna-3.10:\n",
            "      Successfully uninstalled idna-3.10\n",
            "  Attempting uninstall: requests\n",
            "    Found existing installation: requests 2.31.0\n",
            "    Uninstalling requests-2.31.0:\n",
            "      Successfully uninstalled requests-2.31.0\n",
            "Successfully installed chardet-4.0.0 face-alignment-1.3.3 idna-2.10 importlib-metadata-6.7.0 llvmlite-0.39.1 msgpack-1.0.5 msgpack-numpy-0.4.7.1 numba-0.56.4 opencv-python-4.2.0.34 pyfakewebcam-0.1.0 pyyaml-5.4 pyzmq-20.0.0 requests-2.25.1 tqdm-4.67.1 urllib3-1.26.20 zipp-3.15.0\n"
          ]
        }
      ]
    },
    {
      "cell_type": "code",
      "source": [
        "!sudo apt update"
      ],
      "metadata": {
        "colab": {
          "base_uri": "https://localhost:8080/"
        },
        "id": "OdSVxcohzr4c",
        "outputId": "967267d9-2006-4dab-f680-76a9c949a62f"
      },
      "execution_count": 30,
      "outputs": [
        {
          "output_type": "stream",
          "name": "stdout",
          "text": [
            "Get:1 https://cloud.r-project.org/bin/linux/ubuntu jammy-cran40/ InRelease [3,632 B]\n",
            "Get:2 https://developer.download.nvidia.com/compute/cuda/repos/ubuntu2204/x86_64  InRelease [1,581 B]\n",
            "Hit:3 http://archive.ubuntu.com/ubuntu jammy InRelease\n",
            "Get:4 http://archive.ubuntu.com/ubuntu jammy-updates InRelease [128 kB]\n",
            "Get:5 http://security.ubuntu.com/ubuntu jammy-security InRelease [129 kB]\n",
            "Get:6 https://r2u.stat.illinois.edu/ubuntu jammy InRelease [6,555 B]\n",
            "Get:7 https://developer.download.nvidia.com/compute/cuda/repos/ubuntu2204/x86_64  Packages [1,380 kB]\n",
            "Get:8 http://archive.ubuntu.com/ubuntu jammy-backports InRelease [127 kB]\n",
            "Hit:9 https://ppa.launchpadcontent.net/deadsnakes/ppa/ubuntu jammy InRelease\n",
            "Get:10 https://r2u.stat.illinois.edu/ubuntu jammy/main all Packages [8,767 kB]\n",
            "Get:11 http://archive.ubuntu.com/ubuntu jammy-updates/universe amd64 Packages [1,536 kB]\n",
            "Hit:12 https://ppa.launchpadcontent.net/graphics-drivers/ppa/ubuntu jammy InRelease\n",
            "Hit:13 https://ppa.launchpadcontent.net/ubuntugis/ppa/ubuntu jammy InRelease\n",
            "Get:14 http://archive.ubuntu.com/ubuntu jammy-updates/main amd64 Packages [3,037 kB]\n",
            "Get:15 http://security.ubuntu.com/ubuntu jammy-security/universe amd64 Packages [1,237 kB]\n",
            "Get:16 http://archive.ubuntu.com/ubuntu jammy-updates/multiverse amd64 Packages [55.7 kB]\n",
            "Get:17 http://archive.ubuntu.com/ubuntu jammy-updates/restricted amd64 Packages [4,028 kB]\n",
            "Get:18 https://r2u.stat.illinois.edu/ubuntu jammy/main amd64 Packages [2,679 kB]\n",
            "Get:19 http://archive.ubuntu.com/ubuntu jammy-backports/universe amd64 Packages [35.2 kB]\n",
            "Get:20 http://archive.ubuntu.com/ubuntu jammy-backports/main amd64 Packages [82.7 kB]\n",
            "Get:21 http://security.ubuntu.com/ubuntu jammy-security/main amd64 Packages [2,698 kB]\n",
            "Get:22 http://security.ubuntu.com/ubuntu jammy-security/restricted amd64 Packages [3,813 kB]\n",
            "Get:23 http://security.ubuntu.com/ubuntu jammy-security/multiverse amd64 Packages [47.7 kB]\n",
            "Fetched 29.8 MB in 3s (9,196 kB/s)\n",
            "Reading package lists... Done\n",
            "Building dependency tree... Done\n",
            "Reading state information... Done\n",
            "32 packages can be upgraded. Run 'apt list --upgradable' to see them.\n",
            "\u001b[1;33mW: \u001b[0mSkipping acquire of configured file 'main/source/Sources' as repository 'https://r2u.stat.illinois.edu/ubuntu jammy InRelease' does not seem to provide it (sources.list entry misspelt?)\u001b[0m\n"
          ]
        }
      ]
    },
    {
      "cell_type": "code",
      "source": [
        "!apt list --upgradable"
      ],
      "metadata": {
        "colab": {
          "base_uri": "https://localhost:8080/"
        },
        "id": "Is98DX-D5id7",
        "outputId": "e2fda8f8-ce03-488c-c971-762b325bb7e2"
      },
      "execution_count": 31,
      "outputs": [
        {
          "output_type": "stream",
          "name": "stdout",
          "text": [
            "\rListing... 0%\r\rListing... 0%\r\rListing... 0%\r\rListing... Done\r\n",
            "\u001b[32mbase-files\u001b[0m/jammy-updates 12ubuntu4.7 amd64 [upgradable from: 12ubuntu4.6]\n",
            "\u001b[32mbinutils-common\u001b[0m/jammy-updates,jammy-security 2.38-4ubuntu2.7 amd64 [upgradable from: 2.38-4ubuntu2.6]\n",
            "\u001b[32mbinutils-x86-64-linux-gnu\u001b[0m/jammy-updates,jammy-security 2.38-4ubuntu2.7 amd64 [upgradable from: 2.38-4ubuntu2.6]\n",
            "\u001b[32mbinutils\u001b[0m/jammy-updates,jammy-security 2.38-4ubuntu2.7 amd64 [upgradable from: 2.38-4ubuntu2.6]\n",
            "\u001b[32mcuda-toolkit-12-config-common\u001b[0m/unknown 12.8.90-1 all [upgradable from: 12.5.82-1]\n",
            "\u001b[32mcuda-toolkit-config-common\u001b[0m/unknown 12.8.90-1 all [upgradable from: 12.5.82-1]\n",
            "\u001b[32me2fsprogs\u001b[0m/jammy-updates 1.46.5-2ubuntu1.2 amd64 [upgradable from: 1.46.5-2ubuntu1.1]\n",
            "\u001b[32mlibbinutils\u001b[0m/jammy-updates,jammy-security 2.38-4ubuntu2.7 amd64 [upgradable from: 2.38-4ubuntu2.6]\n",
            "\u001b[32mlibc-bin\u001b[0m/jammy-updates,jammy-security 2.35-0ubuntu3.9 amd64 [upgradable from: 2.35-0ubuntu3.8]\n",
            "\u001b[32mlibcap2\u001b[0m/jammy-updates,jammy-security 1:2.44-1ubuntu0.22.04.2 amd64 [upgradable from: 1:2.44-1ubuntu0.22.04.1]\n",
            "\u001b[32mlibctf-nobfd0\u001b[0m/jammy-updates,jammy-security 2.38-4ubuntu2.7 amd64 [upgradable from: 2.38-4ubuntu2.6]\n",
            "\u001b[32mlibctf0\u001b[0m/jammy-updates,jammy-security 2.38-4ubuntu2.7 amd64 [upgradable from: 2.38-4ubuntu2.6]\n",
            "\u001b[32mlibcudnn9-cuda-12\u001b[0m/unknown 9.8.0.87-1 amd64 [upgradable from: 9.2.1.18-1]\n",
            "\u001b[32mlibcudnn9-dev-cuda-12\u001b[0m/unknown 9.8.0.87-1 amd64 [upgradable from: 9.2.1.18-1]\n",
            "\u001b[32mlibdw1\u001b[0m/jammy-updates,jammy-security 0.186-1ubuntu0.1 amd64 [upgradable from: 0.186-1build1]\n",
            "\u001b[32mlibelf1\u001b[0m/jammy-updates,jammy-security 0.186-1ubuntu0.1 amd64 [upgradable from: 0.186-1build1]\n",
            "\u001b[32mlibext2fs2\u001b[0m/jammy-updates 1.46.5-2ubuntu1.2 amd64 [upgradable from: 1.46.5-2ubuntu1.1]\n",
            "\u001b[32mlibgnutls30\u001b[0m/jammy-updates,jammy-security 3.7.3-4ubuntu1.6 amd64 [upgradable from: 3.7.3-4ubuntu1.5]\n",
            "\u001b[32mlibldap-2.5-0\u001b[0m/jammy-updates 2.5.18+dfsg-0ubuntu0.22.04.3 amd64 [upgradable from: 2.5.17+dfsg-0ubuntu0.22.04.1]\n",
            "\u001b[32mlibnccl-dev\u001b[0m/unknown 2.26.2-1+cuda12.8 amd64 [upgradable from: 2.22.3-1+cuda12.5]\n",
            "\u001b[32mlibnccl2\u001b[0m/unknown 2.26.2-1+cuda12.8 amd64 [upgradable from: 2.22.3-1+cuda12.5]\n",
            "\u001b[32mlibpam-modules-bin\u001b[0m/jammy-updates 1.4.0-11ubuntu2.5 amd64 [upgradable from: 1.4.0-11ubuntu2.4]\n",
            "\u001b[32mlibpam-modules\u001b[0m/jammy-updates 1.4.0-11ubuntu2.5 amd64 [upgradable from: 1.4.0-11ubuntu2.4]\n",
            "\u001b[32mlibpam-runtime\u001b[0m/jammy-updates 1.4.0-11ubuntu2.5 all [upgradable from: 1.4.0-11ubuntu2.4]\n",
            "\u001b[32mlibpam0g\u001b[0m/jammy-updates 1.4.0-11ubuntu2.5 amd64 [upgradable from: 1.4.0-11ubuntu2.4]\n",
            "\u001b[32mlibseccomp2\u001b[0m/jammy-updates 2.5.3-2ubuntu3~22.04.1 amd64 [upgradable from: 2.5.3-2ubuntu2]\n",
            "\u001b[32mlibss2\u001b[0m/jammy-updates 1.46.5-2ubuntu1.2 amd64 [upgradable from: 1.46.5-2ubuntu1.1]\n",
            "\u001b[32mlibtasn1-6\u001b[0m/jammy-updates,jammy-security 4.18.0-4ubuntu0.1 amd64 [upgradable from: 4.18.0-4build1]\n",
            "\u001b[32mlinux-headers-generic\u001b[0m/jammy-updates 5.15.0.135.133 amd64 [upgradable from: 5.15.0.134.133]\n",
            "\u001b[32mlinux-libc-dev\u001b[0m/jammy-updates 5.15.0-135.146 amd64 [upgradable from: 5.15.0-113.123]\n",
            "\u001b[32mlogsave\u001b[0m/jammy-updates 1.46.5-2ubuntu1.2 amd64 [upgradable from: 1.46.5-2ubuntu1.1]\n",
            "\u001b[32mopenssl\u001b[0m/jammy-updates,jammy-security 3.0.2-0ubuntu1.19 amd64 [upgradable from: 3.0.2-0ubuntu1.16]\n"
          ]
        }
      ]
    },
    {
      "cell_type": "code",
      "source": [
        "!sudo apt install -y linux-headers-generic"
      ],
      "metadata": {
        "colab": {
          "base_uri": "https://localhost:8080/"
        },
        "id": "u_LUnWsW61C-",
        "outputId": "4f9928dc-051e-445d-ced2-e529dd2efc08"
      },
      "execution_count": 32,
      "outputs": [
        {
          "output_type": "stream",
          "name": "stdout",
          "text": [
            "Reading package lists... Done\n",
            "Building dependency tree... Done\n",
            "Reading state information... Done\n",
            "The following packages were automatically installed and are no longer required:\n",
            "  linux-headers-5.15.0-134 linux-headers-5.15.0-134-generic\n",
            "Use 'sudo apt autoremove' to remove them.\n",
            "The following additional packages will be installed:\n",
            "  linux-headers-5.15.0-135 linux-headers-5.15.0-135-generic\n",
            "The following NEW packages will be installed:\n",
            "  linux-headers-5.15.0-135 linux-headers-5.15.0-135-generic\n",
            "The following packages will be upgraded:\n",
            "  linux-headers-generic\n",
            "1 upgraded, 2 newly installed, 0 to remove and 31 not upgraded.\n",
            "Need to get 15.2 MB of archives.\n",
            "After this operation, 103 MB of additional disk space will be used.\n",
            "Get:1 http://archive.ubuntu.com/ubuntu jammy-updates/main amd64 linux-headers-5.15.0-135 all 5.15.0-135.146 [12.3 MB]\n",
            "Get:2 http://archive.ubuntu.com/ubuntu jammy-updates/main amd64 linux-headers-5.15.0-135-generic amd64 5.15.0-135.146 [2,847 kB]\n",
            "Get:3 http://archive.ubuntu.com/ubuntu jammy-updates/main amd64 linux-headers-generic amd64 5.15.0.135.133 [2,372 B]\n",
            "Fetched 15.2 MB in 1s (13.9 MB/s)\n",
            "debconf: unable to initialize frontend: Dialog\n",
            "debconf: (No usable dialog-like program is installed, so the dialog based frontend cannot be used. at /usr/share/perl5/Debconf/FrontEnd/Dialog.pm line 78, <> line 3.)\n",
            "debconf: falling back to frontend: Readline\n",
            "debconf: unable to initialize frontend: Readline\n",
            "debconf: (This frontend requires a controlling tty.)\n",
            "debconf: falling back to frontend: Teletype\n",
            "dpkg-preconfigure: unable to re-open stdin: \n",
            "Selecting previously unselected package linux-headers-5.15.0-135.\n",
            "(Reading database ... 126209 files and directories currently installed.)\n",
            "Preparing to unpack .../linux-headers-5.15.0-135_5.15.0-135.146_all.deb ...\n",
            "Unpacking linux-headers-5.15.0-135 (5.15.0-135.146) ...\n",
            "Selecting previously unselected package linux-headers-5.15.0-135-generic.\n",
            "Preparing to unpack .../linux-headers-5.15.0-135-generic_5.15.0-135.146_amd64.deb ...\n",
            "Unpacking linux-headers-5.15.0-135-generic (5.15.0-135.146) ...\n",
            "Preparing to unpack .../linux-headers-generic_5.15.0.135.133_amd64.deb ...\n",
            "Unpacking linux-headers-generic (5.15.0.135.133) over (5.15.0.134.133) ...\n",
            "Setting up linux-headers-5.15.0-135 (5.15.0-135.146) ...\n",
            "Setting up linux-headers-5.15.0-135-generic (5.15.0-135.146) ...\n",
            "Setting up linux-headers-generic (5.15.0.135.133) ...\n"
          ]
        }
      ]
    },
    {
      "cell_type": "code",
      "source": [
        "!uname -r\n"
      ],
      "metadata": {
        "colab": {
          "base_uri": "https://localhost:8080/"
        },
        "id": "od9eV9R57CcE",
        "outputId": "817c8374-98f8-4396-9015-a8f02315b4e3"
      },
      "execution_count": 33,
      "outputs": [
        {
          "output_type": "stream",
          "name": "stdout",
          "text": [
            "6.1.85+\n"
          ]
        }
      ]
    },
    {
      "cell_type": "code",
      "source": [
        "!apt-cache search linux-headers\n"
      ],
      "metadata": {
        "colab": {
          "base_uri": "https://localhost:8080/"
        },
        "id": "6hqB1Gse7y3N",
        "outputId": "203df93a-d579-43f7-cb4c-eea3374ab00a"
      },
      "execution_count": 35,
      "outputs": [
        {
          "output_type": "stream",
          "name": "stdout",
          "text": [
            "linux-headers-5.15.0-1002-gke - Linux kernel headers for version 5.15.0 on 64 bit x86 SMP\n",
            "linux-headers-5.15.0-1002-ibm - Linux kernel headers for version 5.15.0 on 64 bit x86 SMP\n",
            "linux-headers-5.15.0-1002-oracle - Oracle Linux kernel headers for version 5.15.0 on 64 bit x86 SMP\n",
            "linux-headers-5.15.0-1003-azure - Linux kernel headers for version 5.15.0 on 64 bit x86 SMP\n",
            "linux-headers-5.15.0-1003-gcp - Linux kernel headers for version 5.15.0 on 64 bit x86 SMP\n",
            "linux-headers-5.15.0-1004-aws - Linux kernel headers for version 5.15.0 on 64 bit x86 SMP\n",
            "linux-headers-5.15.0-1004-intel-iotg - Linux kernel headers for version 5.15.0 on 64 bit x86 SMP\n",
            "linux-headers-5.15.0-1004-kvm - Linux kernel headers for version 5.15.0 on 64 bit x86 SMP\n",
            "linux-headers-5.15.0-24-lowlatency - Linux kernel headers for version 5.15.0 on 64 bit x86 SMP\n",
            "linux-headers-5.15.0-25 - Header files related to Linux kernel version 5.15.0\n",
            "linux-headers-5.15.0-25-generic - Linux kernel headers for version 5.15.0 on 64 bit x86 SMP\n",
            "linux-headers-5.17.0-1003-oem - Linux kernel headers for version 5.17.0 on 64 bit x86 SMP\n",
            "linux-headers-aws - Linux kernel headers for Amazon Web Services (AWS) systems.\n",
            "linux-headers-azure - Linux kernel headers for Azure systems.\n",
            "linux-headers-gcp - Google Cloud Platform (GCP) Linux kernel headers\n",
            "linux-headers-generic - Generic Linux kernel headers\n",
            "linux-headers-generic-hwe-20.04 - Generic Linux kernel headers (dummy transitional package)\n",
            "linux-headers-generic-hwe-20.04-edge - Generic Linux kernel headers (dummy transitional package)\n",
            "linux-headers-generic-hwe-22.04 - Generic Linux kernel headers\n",
            "linux-headers-generic-hwe-22.04-edge - Generic Linux kernel headers\n",
            "linux-headers-gke - Linux kernel headers for gke systems.\n",
            "linux-headers-gke-5.15 - Linux kernel headers for gke systems.\n",
            "linux-headers-ibm - IBM Cloud Platform (ibm) Linux kernel headers\n",
            "linux-headers-intel-iotg - Intel-Iotg Linux kernel headers\n",
            "linux-headers-kvm - Linux kernel headers for virtual systems.\n",
            "linux-headers-lowlatency - lowlatency Linux kernel headers\n",
            "linux-headers-lowlatency-hwe-20.04 - lowlatency Linux kernel headers (dummy transitional package)\n",
            "linux-headers-lowlatency-hwe-20.04-edge - lowlatency Linux kernel headers (dummy transitional package)\n",
            "linux-headers-lowlatency-hwe-22.04 - lowlatency Linux kernel headers\n",
            "linux-headers-lowlatency-hwe-22.04-edge - lowlatency Linux kernel headers\n",
            "linux-headers-oem-20.04 - OEM Linux kernel headers (dummy transitional package)\n",
            "linux-headers-oracle - Linux kernel headers for Oracle systems.\n",
            "linux-headers-virtual - Virtual Linux kernel headers\n",
            "linux-headers-virtual-hwe-20.04 - Virtual Linux kernel headers (dummy transitional package)\n",
            "linux-headers-virtual-hwe-20.04-edge - Virtual Linux kernel headers (dummy transitional package)\n",
            "linux-headers-virtual-hwe-22.04 - Virtual Linux kernel headers\n",
            "linux-headers-virtual-hwe-22.04-edge - Virtual Linux kernel headers\n",
            "linux-headers-5.15.0-100 - Header files related to Linux kernel version 5.15.0\n",
            "linux-headers-5.15.0-100-generic - Linux kernel headers for version 5.15.0 on 64 bit x86 SMP\n",
            "linux-headers-5.15.0-100-lowlatency - Linux kernel headers for version 5.15.0 on 64 bit x86 SMP\n",
            "linux-headers-5.15.0-101 - Header files related to Linux kernel version 5.15.0\n",
            "linux-headers-5.15.0-101-generic - Linux kernel headers for version 5.15.0 on 64 bit x86 SMP\n",
            "linux-headers-5.15.0-101-lowlatency - Linux kernel headers for version 5.15.0 on 64 bit x86 SMP\n",
            "linux-headers-5.15.0-102 - Header files related to Linux kernel version 5.15.0\n",
            "linux-headers-5.15.0-102-generic - Linux kernel headers for version 5.15.0 on 64 bit x86 SMP\n",
            "linux-headers-5.15.0-102-lowlatency - Linux kernel headers for version 5.15.0 on 64 bit x86 SMP\n",
            "linux-headers-5.15.0-1025-nvidia - Linux kernel headers for version 5.15.0 on 64 bit x86 SMP\n",
            "linux-headers-5.15.0-1025-nvidia-lowlatency - Linux kernel headers for version 5.15.0 on 64 bit x86 SMP\n",
            "linux-headers-5.15.0-1026-nvidia - Linux kernel headers for version 5.15.0 on 64 bit x86 SMP\n",
            "linux-headers-5.15.0-1026-nvidia-lowlatency - Linux kernel headers for version 5.15.0 on 64 bit x86 SMP\n",
            "linux-headers-5.15.0-1027-gke - Linux kernel headers for version 5.15.0 on 64 bit x86 SMP\n",
            "linux-headers-5.15.0-1027-nvidia - Linux kernel headers for version 5.15.0 on 64 bit x86 SMP\n",
            "linux-headers-5.15.0-1027-nvidia-lowlatency - Linux kernel headers for version 5.15.0 on 64 bit x86 SMP\n",
            "linux-headers-5.15.0-1028-gke - Linux kernel headers for version 5.15.0 on 64 bit x86 SMP\n",
            "linux-headers-5.15.0-1028-intel-iotg - Linux kernel headers for version 5.15.0 on 64 bit x86 SMP\n",
            "linux-headers-5.15.0-1028-nvidia - Linux kernel headers for version 5.15.0 on 64 bit x86 SMP\n",
            "linux-headers-5.15.0-1028-nvidia-lowlatency - Linux kernel headers for version 5.15.0 on 64 bit x86 SMP\n",
            "linux-headers-5.15.0-1029-nvidia - Linux kernel headers for version 5.15.0 on 64 bit x86 SMP\n",
            "linux-headers-5.15.0-1029-nvidia-lowlatency - Linux kernel headers for version 5.15.0 on 64 bit x86 SMP\n",
            "linux-headers-5.15.0-1030-gke - Linux kernel headers for version 5.15.0 on 64 bit x86 SMP\n",
            "linux-headers-5.15.0-1030-ibm - Linux kernel headers for version 5.15.0 on 64 bit x86 SMP\n",
            "linux-headers-5.15.0-1030-intel-iotg - Linux kernel headers for version 5.15.0 on 64 bit x86 SMP\n",
            "linux-headers-5.15.0-1030-nvidia - Linux kernel headers for version 5.15.0 on 64 bit x86 SMP\n",
            "linux-headers-5.15.0-1030-nvidia-lowlatency - Linux kernel headers for version 5.15.0 on 64 bit x86 SMP\n",
            "linux-headers-5.15.0-1031-ibm - Linux kernel headers for version 5.15.0 on 64 bit x86 SMP\n",
            "linux-headers-5.15.0-1031-intel-iotg - Linux kernel headers for version 5.15.0 on 64 bit x86 SMP\n",
            "linux-headers-5.15.0-1031-nvidia - Linux kernel headers for version 5.15.0 on 64 bit x86 SMP\n",
            "linux-headers-5.15.0-1031-nvidia-lowlatency - Linux kernel headers for version 5.15.0 on 64 bit x86 SMP\n",
            "linux-headers-5.15.0-1032-gke - Linux kernel headers for version 5.15.0 on 64 bit x86 SMP\n",
            "linux-headers-5.15.0-1032-gkeop - Linux kernel headers for version 5.15.0 on 64 bit x86 SMP\n",
            "linux-headers-5.15.0-1032-ibm - Linux kernel headers for version 5.15.0 on 64 bit x86 SMP\n",
            "linux-headers-5.15.0-1032-nvidia - Linux kernel headers for version 5.15.0 on 64 bit x86 SMP\n",
            "linux-headers-5.15.0-1032-nvidia-lowlatency - Linux kernel headers for version 5.15.0 on 64 bit x86 SMP\n",
            "linux-headers-5.15.0-1033-gke - Linux kernel headers for version 5.15.0 on 64 bit x86 SMP\n",
            "linux-headers-5.15.0-1033-gkeop - Linux kernel headers for version 5.15.0 on 64 bit x86 SMP\n",
            "linux-headers-5.15.0-1033-ibm - Linux kernel headers for version 5.15.0 on 64 bit x86 SMP\n",
            "linux-headers-5.15.0-1033-intel-iotg - Linux kernel headers for version 5.15.0 on 64 bit x86 SMP\n",
            "linux-headers-5.15.0-1033-kvm - Linux kernel headers for version 5.15.0 on 64 bit x86 SMP\n",
            "linux-headers-5.15.0-1033-nvidia - Linux kernel headers for version 5.15.0 on 64 bit x86 SMP\n",
            "linux-headers-5.15.0-1033-nvidia-lowlatency - Linux kernel headers for version 5.15.0 on 64 bit x86 SMP\n",
            "linux-headers-5.15.0-1034-gcp - Linux kernel headers for version 5.15.0 on 64 bit x86 SMP\n",
            "linux-headers-5.15.0-1034-gke - Linux kernel headers for version 5.15.0 on 64 bit x86 SMP\n",
            "linux-headers-5.15.0-1034-gkeop - Linux kernel headers for version 5.15.0 on 64 bit x86 SMP\n",
            "linux-headers-5.15.0-1034-ibm - Linux kernel headers for version 5.15.0 on 64 bit x86 SMP\n",
            "linux-headers-5.15.0-1034-intel-iotg - Linux kernel headers for version 5.15.0 on 64 bit x86 SMP\n",
            "linux-headers-5.15.0-1034-kvm - Linux kernel headers for version 5.15.0 on 64 bit x86 SMP\n",
            "linux-headers-5.15.0-1035-aws - Linux kernel headers for version 5.15.0 on 64 bit x86 SMP\n",
            "linux-headers-5.15.0-1035-azure - Linux kernel headers for version 5.15.0 on 64 bit x86 SMP\n",
            "linux-headers-5.15.0-1035-gcp - Linux kernel headers for version 5.15.0 on 64 bit x86 SMP\n",
            "linux-headers-5.15.0-1035-gke - Linux kernel headers for version 5.15.0 on 64 bit x86 SMP\n",
            "linux-headers-5.15.0-1035-gkeop - Linux kernel headers for version 5.15.0 on 64 bit x86 SMP\n",
            "linux-headers-5.15.0-1035-ibm - Linux kernel headers for version 5.15.0 on 64 bit x86 SMP\n",
            "linux-headers-5.15.0-1035-intel-iotg - Linux kernel headers for version 5.15.0 on 64 bit x86 SMP\n",
            "linux-headers-5.15.0-1035-kvm - Linux kernel headers for version 5.15.0 on 64 bit x86 SMP\n",
            "linux-headers-5.15.0-1035-oracle - Oracle Linux kernel headers for version 5.15.0 on 64 bit x86 SMP\n",
            "linux-headers-5.15.0-1036-aws - Linux kernel headers for version 5.15.0 on 64 bit x86 SMP\n",
            "linux-headers-5.15.0-1036-azure - Linux kernel headers for version 5.15.0 on 64 bit x86 SMP\n",
            "linux-headers-5.15.0-1036-gcp - Linux kernel headers for version 5.15.0 on 64 bit x86 SMP\n",
            "linux-headers-5.15.0-1036-gke - Linux kernel headers for version 5.15.0 on 64 bit x86 SMP\n",
            "linux-headers-5.15.0-1036-gkeop - Linux kernel headers for version 5.15.0 on 64 bit x86 SMP\n",
            "linux-headers-5.15.0-1036-ibm - Linux kernel headers for version 5.15.0 on 64 bit x86 SMP\n",
            "linux-headers-5.15.0-1036-intel-iotg - Linux kernel headers for version 5.15.0 on 64 bit x86 SMP\n",
            "linux-headers-5.15.0-1036-oracle - Oracle Linux kernel headers for version 5.15.0 on 64 bit x86 SMP\n",
            "linux-headers-5.15.0-1037-aws - Linux kernel headers for version 5.15.0 on 64 bit x86 SMP\n",
            "linux-headers-5.15.0-1037-azure - Linux kernel headers for version 5.15.0 on 64 bit x86 SMP\n",
            "linux-headers-5.15.0-1037-gcp - Linux kernel headers for version 5.15.0 on 64 bit x86 SMP\n",
            "linux-headers-5.15.0-1037-gke - Linux kernel headers for version 5.15.0 on 64 bit x86 SMP\n",
            "linux-headers-5.15.0-1037-gkeop - Linux kernel headers for version 5.15.0 on 64 bit x86 SMP\n",
            "linux-headers-5.15.0-1037-ibm - Linux kernel headers for version 5.15.0 on 64 bit x86 SMP\n",
            "linux-headers-5.15.0-1037-intel-iotg - Linux kernel headers for version 5.15.0 on 64 bit x86 SMP\n",
            "linux-headers-5.15.0-1037-kvm - Linux kernel headers for version 5.15.0 on 64 bit x86 SMP\n",
            "linux-headers-5.15.0-1037-nvidia - Linux kernel headers for version 5.15.0 on 64 bit x86 SMP\n",
            "linux-headers-5.15.0-1037-nvidia-lowlatency - Linux kernel headers for version 5.15.0 on 64 bit x86 SMP\n",
            "linux-headers-5.15.0-1037-oracle - Oracle Linux kernel headers for version 5.15.0 on 64 bit x86 SMP\n",
            "linux-headers-5.15.0-1038-aws - Linux kernel headers for version 5.15.0 on 64 bit x86 SMP\n",
            "linux-headers-5.15.0-1038-azure - Linux kernel headers for version 5.15.0 on 64 bit x86 SMP\n",
            "linux-headers-5.15.0-1038-gcp - Linux kernel headers for version 5.15.0 on 64 bit x86 SMP\n",
            "linux-headers-5.15.0-1038-gke - Linux kernel headers for version 5.15.0 on 64 bit x86 SMP\n",
            "linux-headers-5.15.0-1038-gkeop - Linux kernel headers for version 5.15.0 on 64 bit x86 SMP\n",
            "linux-headers-5.15.0-1038-ibm - Linux kernel headers for version 5.15.0 on 64 bit x86 SMP\n",
            "linux-headers-5.15.0-1038-intel-iotg - Linux kernel headers for version 5.15.0 on 64 bit x86 SMP\n",
            "linux-headers-5.15.0-1038-kvm - Linux kernel headers for version 5.15.0 on 64 bit x86 SMP\n",
            "linux-headers-5.15.0-1038-oracle - Oracle Linux kernel headers for version 5.15.0 on 64 bit x86 SMP\n",
            "linux-headers-5.15.0-1039-aws - Linux kernel headers for version 5.15.0 on 64 bit x86 SMP\n",
            "linux-headers-5.15.0-1039-azure - Linux kernel headers for version 5.15.0 on 64 bit x86 SMP\n",
            "linux-headers-5.15.0-1039-gcp - Linux kernel headers for version 5.15.0 on 64 bit x86 SMP\n",
            "linux-headers-5.15.0-1039-gke - Linux kernel headers for version 5.15.0 on 64 bit x86 SMP\n",
            "linux-headers-5.15.0-1039-gkeop - Linux kernel headers for version 5.15.0 on 64 bit x86 SMP\n",
            "linux-headers-5.15.0-1039-intel-iotg - Linux kernel headers for version 5.15.0 on 64 bit x86 SMP\n",
            "linux-headers-5.15.0-1039-kvm - Linux kernel headers for version 5.15.0 on 64 bit x86 SMP\n",
            "linux-headers-5.15.0-1039-nvidia - Linux kernel headers for version 5.15.0 on 64 bit x86 SMP\n",
            "linux-headers-5.15.0-1039-nvidia-lowlatency - Linux kernel headers for version 5.15.0 on 64 bit x86 SMP\n",
            "linux-headers-5.15.0-1039-oracle - Oracle Linux kernel headers for version 5.15.0 on 64 bit x86 SMP\n",
            "linux-headers-5.15.0-1040-aws - Linux kernel headers for version 5.15.0 on 64 bit x86 SMP\n",
            "linux-headers-5.15.0-1040-azure - Linux kernel headers for version 5.15.0 on 64 bit x86 SMP\n",
            "linux-headers-5.15.0-1040-gcp - Linux kernel headers for version 5.15.0 on 64 bit x86 SMP\n",
            "linux-headers-5.15.0-1040-gke - Linux kernel headers for version 5.15.0 on 64 bit x86 SMP\n",
            "linux-headers-5.15.0-1040-gkeop - Linux kernel headers for version 5.15.0 on 64 bit x86 SMP\n",
            "linux-headers-5.15.0-1040-ibm - Linux kernel headers for version 5.15.0 on 64 bit x86 SMP\n",
            "linux-headers-5.15.0-1040-intel-iotg - Linux kernel headers for version 5.15.0 on 64 bit x86 SMP\n",
            "linux-headers-5.15.0-1040-kvm - Linux kernel headers for version 5.15.0 on 64 bit x86 SMP\n",
            "linux-headers-5.15.0-1040-nvidia - Linux kernel headers for version 5.15.0 on 64 bit x86 SMP\n",
            "linux-headers-5.15.0-1040-nvidia-lowlatency - Linux kernel headers for version 5.15.0 on 64 bit x86 SMP\n",
            "linux-headers-5.15.0-1040-oracle - Oracle Linux kernel headers for version 5.15.0 on 64 bit x86 SMP\n",
            "linux-headers-5.15.0-1041-azure - Linux kernel headers for version 5.15.0 on 64 bit x86 SMP\n",
            "linux-headers-5.15.0-1041-gcp - Linux kernel headers for version 5.15.0 on 64 bit x86 SMP\n",
            "linux-headers-5.15.0-1041-gke - Linux kernel headers for version 5.15.0 on 64 bit x86 SMP\n",
            "linux-headers-5.15.0-1041-ibm - Linux kernel headers for version 5.15.0 on 64 bit x86 SMP\n",
            "linux-headers-5.15.0-1041-kvm - Linux kernel headers for version 5.15.0 on 64 bit x86 SMP\n",
            "linux-headers-5.15.0-1041-nvidia - Linux kernel headers for version 5.15.0 on 64 bit x86 SMP\n",
            "linux-headers-5.15.0-1041-nvidia-lowlatency - Linux kernel headers for version 5.15.0 on 64 bit x86 SMP\n",
            "linux-headers-5.15.0-1041-oracle - Oracle Linux kernel headers for version 5.15.0 on 64 bit x86 SMP\n",
            "linux-headers-5.15.0-1042-aws - Linux kernel headers for version 5.15.0 on 64 bit x86 SMP\n",
            "linux-headers-5.15.0-1042-azure - Linux kernel headers for version 5.15.0 on 64 bit x86 SMP\n",
            "linux-headers-5.15.0-1042-gcp - Linux kernel headers for version 5.15.0 on 64 bit x86 SMP\n",
            "linux-headers-5.15.0-1042-gke - Linux kernel headers for version 5.15.0 on 64 bit x86 SMP\n",
            "linux-headers-5.15.0-1042-ibm - Linux kernel headers for version 5.15.0 on 64 bit x86 SMP\n",
            "linux-headers-5.15.0-1042-kvm - Linux kernel headers for version 5.15.0 on 64 bit x86 SMP\n",
            "linux-headers-5.15.0-1042-nvidia - Linux kernel headers for version 5.15.0 on 64 bit x86 SMP\n",
            "linux-headers-5.15.0-1042-nvidia-lowlatency - Linux kernel headers for version 5.15.0 on 64 bit x86 SMP\n",
            "linux-headers-5.15.0-1042-oracle - Oracle Linux kernel headers for version 5.15.0 on 64 bit x86 SMP\n",
            "linux-headers-5.15.0-1043-aws - Linux kernel headers for version 5.15.0 on 64 bit x86 SMP\n",
            "linux-headers-5.15.0-1043-gkeop - Linux kernel headers for version 5.15.0 on 64 bit x86 SMP\n",
            "linux-headers-5.15.0-1043-ibm - Linux kernel headers for version 5.15.0 on 64 bit x86 SMP\n",
            "linux-headers-5.15.0-1043-intel-iotg - Linux kernel headers for version 5.15.0 on 64 bit x86 SMP\n",
            "linux-headers-5.15.0-1043-nvidia - Linux kernel headers for version 5.15.0 on 64 bit x86 SMP\n",
            "linux-headers-5.15.0-1043-nvidia-lowlatency - Linux kernel headers for version 5.15.0 on 64 bit x86 SMP\n",
            "linux-headers-5.15.0-1044-aws - Linux kernel headers for version 5.15.0 on 64 bit x86 SMP\n",
            "linux-headers-5.15.0-1044-azure - Linux kernel headers for version 5.15.0 on 64 bit x86 SMP\n",
            "linux-headers-5.15.0-1044-gcp - Linux kernel headers for version 5.15.0 on 64 bit x86 SMP\n",
            "linux-headers-5.15.0-1044-gke - Linux kernel headers for version 5.15.0 on 64 bit x86 SMP\n",
            "linux-headers-5.15.0-1044-gkeop - Linux kernel headers for version 5.15.0 on 64 bit x86 SMP\n",
            "linux-headers-5.15.0-1044-ibm - Linux kernel headers for version 5.15.0 on 64 bit x86 SMP\n",
            "linux-headers-5.15.0-1044-kvm - Linux kernel headers for version 5.15.0 on 64 bit x86 SMP\n",
            "linux-headers-5.15.0-1044-nvidia - Linux kernel headers for version 5.15.0 on 64 bit x86 SMP\n",
            "linux-headers-5.15.0-1044-nvidia-lowlatency - Linux kernel headers for version 5.15.0 on 64 bit x86 SMP\n",
            "linux-headers-5.15.0-1044-oracle - Oracle Linux kernel headers for version 5.15.0 on 64 bit x86 SMP\n",
            "linux-headers-5.15.0-1045-aws - Linux kernel headers for version 5.15.0 on 64 bit x86 SMP\n",
            "linux-headers-5.15.0-1045-azure - Linux kernel headers for version 5.15.0 on 64 bit x86 SMP\n",
            "linux-headers-5.15.0-1045-gcp - Linux kernel headers for version 5.15.0 on 64 bit x86 SMP\n",
            "linux-headers-5.15.0-1045-gke - Linux kernel headers for version 5.15.0 on 64 bit x86 SMP\n",
            "linux-headers-5.15.0-1045-gkeop - Linux kernel headers for version 5.15.0 on 64 bit x86 SMP\n",
            "linux-headers-5.15.0-1045-ibm - Linux kernel headers for version 5.15.0 on 64 bit x86 SMP\n",
            "linux-headers-5.15.0-1045-intel-iotg - Linux kernel headers for version 5.15.0 on 64 bit x86 SMP\n",
            "linux-headers-5.15.0-1045-kvm - Linux kernel headers for version 5.15.0 on 64 bit x86 SMP\n",
            "linux-headers-5.15.0-1045-nvidia - Linux kernel headers for version 5.15.0 on 64 bit x86 SMP\n",
            "linux-headers-5.15.0-1045-nvidia-lowlatency - Linux kernel headers for version 5.15.0 on 64 bit x86 SMP\n",
            "linux-headers-5.15.0-1045-oracle - Oracle Linux kernel headers for version 5.15.0 on 64 bit x86 SMP\n",
            "linux-headers-5.15.0-1046-azure - Linux kernel headers for version 5.15.0 on 64 bit x86 SMP\n",
            "linux-headers-5.15.0-1046-gcp - Linux kernel headers for version 5.15.0 on 64 bit x86 SMP\n",
            "linux-headers-5.15.0-1046-gke - Linux kernel headers for version 5.15.0 on 64 bit x86 SMP\n",
            "linux-headers-5.15.0-1046-gkeop - Linux kernel headers for version 5.15.0 on 64 bit x86 SMP\n",
            "linux-headers-5.15.0-1046-ibm - Linux kernel headers for version 5.15.0 on 64 bit x86 SMP\n",
            "linux-headers-5.15.0-1046-intel-iotg - Linux kernel headers for version 5.15.0 on 64 bit x86 SMP\n",
            "linux-headers-5.15.0-1046-kvm - Linux kernel headers for version 5.15.0 on 64 bit x86 SMP\n",
            "linux-headers-5.15.0-1046-nvidia - Linux kernel headers for version 5.15.0 on 64 bit x86 SMP\n",
            "linux-headers-5.15.0-1046-nvidia-lowlatency - Linux kernel headers for version 5.15.0 on 64 bit x86 SMP\n",
            "linux-headers-5.15.0-1046-oracle - Oracle Linux kernel headers for version 5.15.0 on 64 bit x86 SMP\n",
            "linux-headers-5.15.0-1047-aws - Linux kernel headers for version 5.15.0 on 64 bit x86 SMP\n",
            "linux-headers-5.15.0-1047-azure - Linux kernel headers for version 5.15.0 on 64 bit x86 SMP\n",
            "linux-headers-5.15.0-1047-gcp - Linux kernel headers for version 5.15.0 on 64 bit x86 SMP\n",
            "linux-headers-5.15.0-1047-gke - Linux kernel headers for version 5.15.0 on 64 bit x86 SMP\n",
            "linux-headers-5.15.0-1047-gkeop - Linux kernel headers for version 5.15.0 on 64 bit x86 SMP\n",
            "linux-headers-5.15.0-1047-ibm - Linux kernel headers for version 5.15.0 on 64 bit x86 SMP\n",
            "linux-headers-5.15.0-1047-intel-iotg - Linux kernel headers for version 5.15.0 on 64 bit x86 SMP\n",
            "linux-headers-5.15.0-1047-kvm - Linux kernel headers for version 5.15.0 on 64 bit x86 SMP\n",
            "linux-headers-5.15.0-1047-nvidia - Linux kernel headers for version 5.15.0 on 64 bit x86 SMP\n",
            "linux-headers-5.15.0-1047-nvidia-lowlatency - Linux kernel headers for version 5.15.0 on 64 bit x86 SMP\n",
            "linux-headers-5.15.0-1047-oracle - Oracle Linux kernel headers for version 5.15.0 on 64 bit x86 SMP\n",
            "linux-headers-5.15.0-1048-aws - Linux kernel headers for version 5.15.0 on 64 bit x86 SMP\n",
            "linux-headers-5.15.0-1048-gcp - Linux kernel headers for version 5.15.0 on 64 bit x86 SMP\n",
            "linux-headers-5.15.0-1048-gke - Linux kernel headers for version 5.15.0 on 64 bit x86 SMP\n",
            "linux-headers-5.15.0-1048-gkeop - Linux kernel headers for version 5.15.0 on 64 bit x86 SMP\n",
            "linux-headers-5.15.0-1048-ibm - Linux kernel headers for version 5.15.0 on 64 bit x86 SMP\n",
            "linux-headers-5.15.0-1048-intel-iotg - Linux kernel headers for version 5.15.0 on 64 bit x86 SMP\n",
            "linux-headers-5.15.0-1048-kvm - Linux kernel headers for version 5.15.0 on 64 bit x86 SMP\n",
            "linux-headers-5.15.0-1048-nvidia - Linux kernel headers for version 5.15.0 on 64 bit x86 SMP\n",
            "linux-headers-5.15.0-1048-nvidia-lowlatency - Linux kernel headers for version 5.15.0 on 64 bit x86 SMP\n",
            "linux-headers-5.15.0-1048-oracle - Oracle Linux kernel headers for version 5.15.0 on 64 bit x86 SMP\n",
            "linux-headers-5.15.0-1049-aws - Linux kernel headers for version 5.15.0 on 64 bit x86 SMP\n",
            "linux-headers-5.15.0-1049-azure - Linux kernel headers for version 5.15.0 on 64 bit x86 SMP\n",
            "linux-headers-5.15.0-1049-gcp - Linux kernel headers for version 5.15.0 on 64 bit x86 SMP\n",
            "linux-headers-5.15.0-1049-gke - Linux kernel headers for version 5.15.0 on 64 bit x86 SMP\n",
            "linux-headers-5.15.0-1049-gkeop - Linux kernel headers for version 5.15.0 on 64 bit x86 SMP\n",
            "linux-headers-5.15.0-1049-ibm - Linux kernel headers for version 5.15.0 on 64 bit x86 SMP\n",
            "linux-headers-5.15.0-1049-intel-iotg - Linux kernel headers for version 5.15.0 on 64 bit x86 SMP\n",
            "linux-headers-5.15.0-1049-kvm - Linux kernel headers for version 5.15.0 on 64 bit x86 SMP\n",
            "linux-headers-5.15.0-1049-oracle - Oracle Linux kernel headers for version 5.15.0 on 64 bit x86 SMP\n",
            "linux-headers-5.15.0-105 - Header files related to Linux kernel version 5.15.0\n",
            "linux-headers-5.15.0-105-generic - Linux kernel headers for version 5.15.0 on 64 bit x86 SMP\n",
            "linux-headers-5.15.0-105-lowlatency - Linux kernel headers for version 5.15.0 on 64 bit x86 SMP\n",
            "linux-headers-5.15.0-1050-aws - Linux kernel headers for version 5.15.0 on 64 bit x86 SMP\n",
            "linux-headers-5.15.0-1050-azure - Linux kernel headers for version 5.15.0 on 64 bit x86 SMP\n",
            "linux-headers-5.15.0-1050-gke - Linux kernel headers for version 5.15.0 on 64 bit x86 SMP\n",
            "linux-headers-5.15.0-1050-gkeop - Linux kernel headers for version 5.15.0 on 64 bit x86 SMP\n",
            "linux-headers-5.15.0-1050-ibm - Linux kernel headers for version 5.15.0 on 64 bit x86 SMP\n",
            "linux-headers-5.15.0-1050-intel-iotg - Linux kernel headers for version 5.15.0 on 64 bit x86 SMP\n",
            "linux-headers-5.15.0-1050-kvm - Linux kernel headers for version 5.15.0 on 64 bit x86 SMP\n",
            "linux-headers-5.15.0-1050-oracle - Oracle Linux kernel headers for version 5.15.0 on 64 bit x86 SMP\n",
            "linux-headers-5.15.0-1051-aws - Linux kernel headers for version 5.15.0 on 64 bit x86 SMP\n",
            "linux-headers-5.15.0-1051-azure - Linux kernel headers for version 5.15.0 on 64 bit x86 SMP\n",
            "linux-headers-5.15.0-1051-gcp - Linux kernel headers for version 5.15.0 on 64 bit x86 SMP\n",
            "linux-headers-5.15.0-1051-gke - Linux kernel headers for version 5.15.0 on 64 bit x86 SMP\n",
            "linux-headers-5.15.0-1051-gkeop - Linux kernel headers for version 5.15.0 on 64 bit x86 SMP\n",
            "linux-headers-5.15.0-1051-intel-iotg - Linux kernel headers for version 5.15.0 on 64 bit x86 SMP\n",
            "linux-headers-5.15.0-1051-kvm - Linux kernel headers for version 5.15.0 on 64 bit x86 SMP\n",
            "linux-headers-5.15.0-1051-oracle - Oracle Linux kernel headers for version 5.15.0 on 64 bit x86 SMP\n",
            "linux-headers-5.15.0-1052-aws - Linux kernel headers for version 5.15.0 on 64 bit x86 SMP\n",
            "linux-headers-5.15.0-1052-azure - Linux kernel headers for version 5.15.0 on 64 bit x86 SMP\n",
            "linux-headers-5.15.0-1052-gcp - Linux kernel headers for version 5.15.0 on 64 bit x86 SMP\n",
            "linux-headers-5.15.0-1052-gke - Linux kernel headers for version 5.15.0 on 64 bit x86 SMP\n",
            "linux-headers-5.15.0-1052-gkeop - Linux kernel headers for version 5.15.0 on 64 bit x86 SMP\n",
            "linux-headers-5.15.0-1052-intel-iotg - Linux kernel headers for version 5.15.0 on 64 bit x86 SMP\n",
            "linux-headers-5.15.0-1052-kvm - Linux kernel headers for version 5.15.0 on 64 bit x86 SMP\n",
            "linux-headers-5.15.0-1052-oracle - Oracle Linux kernel headers for version 5.15.0 on 64 bit x86 SMP\n",
            "linux-headers-5.15.0-1053-aws - Linux kernel headers for version 5.15.0 on 64 bit x86 SMP\n",
            "linux-headers-5.15.0-1053-azure - Linux kernel headers for version 5.15.0 on 64 bit x86 SMP\n",
            "linux-headers-5.15.0-1053-gcp - Linux kernel headers for version 5.15.0 on 64 bit x86 SMP\n",
            "linux-headers-5.15.0-1053-gke - Linux kernel headers for version 5.15.0 on 64 bit x86 SMP\n",
            "linux-headers-5.15.0-1053-gkeop - Linux kernel headers for version 5.15.0 on 64 bit x86 SMP\n",
            "linux-headers-5.15.0-1053-ibm - Linux kernel headers for version 5.15.0 on 64 bit x86 SMP\n",
            "linux-headers-5.15.0-1053-kvm - Linux kernel headers for version 5.15.0 on 64 bit x86 SMP\n",
            "linux-headers-5.15.0-1053-nvidia - Linux kernel headers for version 5.15.0 on 64 bit x86 SMP\n",
            "linux-headers-5.15.0-1053-nvidia-lowlatency - Linux kernel headers for version 5.15.0 on 64 bit x86 SMP\n",
            "linux-headers-5.15.0-1053-oracle - Oracle Linux kernel headers for version 5.15.0 on 64 bit x86 SMP\n",
            "linux-headers-5.15.0-1054-azure - Linux kernel headers for version 5.15.0 on 64 bit x86 SMP\n",
            "linux-headers-5.15.0-1054-gcp - Linux kernel headers for version 5.15.0 on 64 bit x86 SMP\n",
            "linux-headers-5.15.0-1054-gke - Linux kernel headers for version 5.15.0 on 64 bit x86 SMP\n",
            "linux-headers-5.15.0-1054-gkeop - Linux kernel headers for version 5.15.0 on 64 bit x86 SMP\n",
            "linux-headers-5.15.0-1054-ibm - Linux kernel headers for version 5.15.0 on 64 bit x86 SMP\n",
            "linux-headers-5.15.0-1054-kvm - Linux kernel headers for version 5.15.0 on 64 bit x86 SMP\n",
            "linux-headers-5.15.0-1054-nvidia - Linux kernel headers for version 5.15.0 on 64 bit x86 SMP\n",
            "linux-headers-5.15.0-1054-nvidia-lowlatency - Linux kernel headers for version 5.15.0 on 64 bit x86 SMP\n",
            "linux-headers-5.15.0-1054-oracle - Oracle Linux kernel headers for version 5.15.0 on 64 bit x86 SMP\n",
            "linux-headers-5.15.0-1055-aws - Linux kernel headers for version 5.15.0 on 64 bit x86 SMP\n",
            "linux-headers-5.15.0-1055-gcp - Linux kernel headers for version 5.15.0 on 64 bit x86 SMP\n",
            "linux-headers-5.15.0-1055-gkeop - Linux kernel headers for version 5.15.0 on 64 bit x86 SMP\n",
            "linux-headers-5.15.0-1055-ibm - Linux kernel headers for version 5.15.0 on 64 bit x86 SMP\n",
            "linux-headers-5.15.0-1055-intel-iotg - Linux kernel headers for version 5.15.0 on 64 bit x86 SMP\n",
            "linux-headers-5.15.0-1055-nvidia - Linux kernel headers for version 5.15.0 on 64 bit x86 SMP\n",
            "linux-headers-5.15.0-1055-nvidia-lowlatency - Linux kernel headers for version 5.15.0 on 64 bit x86 SMP\n",
            "linux-headers-5.15.0-1055-oracle - Oracle Linux kernel headers for version 5.15.0 on 64 bit x86 SMP\n",
            "linux-headers-5.15.0-1056-aws - Linux kernel headers for version 5.15.0 on 64 bit x86 SMP\n",
            "linux-headers-5.15.0-1056-azure - Linux kernel headers for version 5.15.0 on 64 bit x86 SMP\n",
            "linux-headers-5.15.0-1056-gkeop - Linux kernel headers for version 5.15.0 on 64 bit x86 SMP\n",
            "linux-headers-5.15.0-1056-ibm - Linux kernel headers for version 5.15.0 on 64 bit x86 SMP\n",
            "linux-headers-5.15.0-1057-aws - Linux kernel headers for version 5.15.0 on 64 bit x86 SMP\n",
            "linux-headers-5.15.0-1057-azure - Linux kernel headers for version 5.15.0 on 64 bit x86 SMP\n",
            "linux-headers-5.15.0-1057-gke - Linux kernel headers for version 5.15.0 on 64 bit x86 SMP\n",
            "linux-headers-5.15.0-1057-gkeop - Linux kernel headers for version 5.15.0 on 64 bit x86 SMP\n",
            "linux-headers-5.15.0-1057-ibm - Linux kernel headers for version 5.15.0 on 64 bit x86 SMP\n",
            "linux-headers-5.15.0-1057-intel-iotg - Linux kernel headers for version 5.15.0 on 64 bit x86 SMP\n",
            "linux-headers-5.15.0-1057-kvm - Linux kernel headers for version 5.15.0 on 64 bit x86 SMP\n",
            "linux-headers-5.15.0-1058-azure - Linux kernel headers for version 5.15.0 on 64 bit x86 SMP\n",
            "linux-headers-5.15.0-1058-gcp - Linux kernel headers for version 5.15.0 on 64 bit x86 SMP\n",
            "linux-headers-5.15.0-1058-gke - Linux kernel headers for version 5.15.0 on 64 bit x86 SMP\n",
            "linux-headers-5.15.0-1058-gkeop - Linux kernel headers for version 5.15.0 on 64 bit x86 SMP\n",
            "linux-headers-5.15.0-1058-ibm - Linux kernel headers for version 5.15.0 on 64 bit x86 SMP\n",
            "linux-headers-5.15.0-1058-intel-iotg - Linux kernel headers for version 5.15.0 on 64 bit x86 SMP\n",
            "linux-headers-5.15.0-1058-kvm - Linux kernel headers for version 5.15.0 on 64 bit x86 SMP\n",
            "linux-headers-5.15.0-1058-nvidia - Linux kernel headers for version 5.15.0 on 64 bit x86 SMP\n",
            "linux-headers-5.15.0-1058-nvidia-lowlatency - Linux kernel headers for version 5.15.0 on 64 bit x86 SMP\n",
            "linux-headers-5.15.0-1058-oracle - Oracle Linux kernel headers for version 5.15.0 on 64 bit x86 SMP\n",
            "linux-headers-5.15.0-1059-azure - Linux kernel headers for version 5.15.0 on 64 bit x86 SMP\n",
            "linux-headers-5.15.0-1059-gcp - Linux kernel headers for version 5.15.0 on 64 bit x86 SMP\n",
            "linux-headers-5.15.0-1059-gke - Linux kernel headers for version 5.15.0 on 64 bit x86 SMP\n",
            "linux-headers-5.15.0-1059-gkeop - Linux kernel headers for version 5.15.0 on 64 bit x86 SMP\n",
            "linux-headers-5.15.0-1059-ibm - Linux kernel headers for version 5.15.0 on 64 bit x86 SMP\n",
            "linux-headers-5.15.0-1059-intel-iotg - Linux kernel headers for version 5.15.0 on 64 bit x86 SMP\n",
            "linux-headers-5.15.0-1059-kvm - Linux kernel headers for version 5.15.0 on 64 bit x86 SMP\n",
            "linux-headers-5.15.0-1059-nvidia - Linux kernel headers for version 5.15.0 on 64 bit x86 SMP\n",
            "linux-headers-5.15.0-1059-nvidia-lowlatency - Linux kernel headers for version 5.15.0 on 64 bit x86 SMP\n",
            "linux-headers-5.15.0-1059-oracle - Oracle Linux kernel headers for version 5.15.0 on 64 bit x86 SMP\n",
            "linux-headers-5.15.0-106 - Header files related to Linux kernel version 5.15.0\n",
            "linux-headers-5.15.0-106-generic - Linux kernel headers for version 5.15.0 on 64 bit x86 SMP\n",
            "linux-headers-5.15.0-106-lowlatency - Linux kernel headers for version 5.15.0 on 64 bit x86 SMP\n",
            "linux-headers-5.15.0-1060-aws - Linux kernel headers for version 5.15.0 on 64 bit x86 SMP\n",
            "linux-headers-5.15.0-1060-azure - Linux kernel headers for version 5.15.0 on 64 bit x86 SMP\n",
            "linux-headers-5.15.0-1060-gcp - Linux kernel headers for version 5.15.0 on 64 bit x86 SMP\n",
            "linux-headers-5.15.0-1060-gke - Linux kernel headers for version 5.15.0 on 64 bit x86 SMP\n",
            "linux-headers-5.15.0-1060-gkeop - Linux kernel headers for version 5.15.0 on 64 bit x86 SMP\n",
            "linux-headers-5.15.0-1060-ibm - Linux kernel headers for version 5.15.0 on 64 bit x86 SMP\n",
            "linux-headers-5.15.0-1060-intel-iotg - Linux kernel headers for version 5.15.0 on 64 bit x86 SMP\n",
            "linux-headers-5.15.0-1060-kvm - Linux kernel headers for version 5.15.0 on 64 bit x86 SMP\n",
            "linux-headers-5.15.0-1060-nvidia - Linux kernel headers for version 5.15.0 on 64 bit x86 SMP\n",
            "linux-headers-5.15.0-1060-nvidia-lowlatency - Linux kernel headers for version 5.15.0 on 64 bit x86 SMP\n",
            "linux-headers-5.15.0-1060-oracle - Oracle Linux kernel headers for version 5.15.0 on 64 bit x86 SMP\n",
            "linux-headers-5.15.0-1061-aws - Linux kernel headers for version 5.15.0 on 64 bit x86 SMP\n",
            "linux-headers-5.15.0-1061-azure - Linux kernel headers for version 5.15.0 on 64 bit x86 SMP\n",
            "linux-headers-5.15.0-1061-gke - Linux kernel headers for version 5.15.0 on 64 bit x86 SMP\n",
            "linux-headers-5.15.0-1061-gkeop - Linux kernel headers for version 5.15.0 on 64 bit x86 SMP\n",
            "linux-headers-5.15.0-1061-ibm - Linux kernel headers for version 5.15.0 on 64 bit x86 SMP\n",
            "linux-headers-5.15.0-1061-intel-iotg - Linux kernel headers for version 5.15.0 on 64 bit x86 SMP\n",
            "linux-headers-5.15.0-1061-kvm - Linux kernel headers for version 5.15.0 on 64 bit x86 SMP\n",
            "linux-headers-5.15.0-1061-nvidia - Linux kernel headers for version 5.15.0 on 64 bit x86 SMP\n",
            "linux-headers-5.15.0-1061-nvidia-lowlatency - Linux kernel headers for version 5.15.0 on 64 bit x86 SMP\n",
            "linux-headers-5.15.0-1061-oracle - Oracle Linux kernel headers for version 5.15.0 on 64 bit x86 SMP\n",
            "linux-headers-5.15.0-1062-aws - Linux kernel headers for version 5.15.0 on 64 bit x86 SMP\n",
            "linux-headers-5.15.0-1062-gcp - Linux kernel headers for version 5.15.0 on 64 bit x86 SMP\n",
            "linux-headers-5.15.0-1062-gke - Linux kernel headers for version 5.15.0 on 64 bit x86 SMP\n",
            "linux-headers-5.15.0-1062-gkeop - Linux kernel headers for version 5.15.0 on 64 bit x86 SMP\n",
            "linux-headers-5.15.0-1062-ibm - Linux kernel headers for version 5.15.0 on 64 bit x86 SMP\n",
            "linux-headers-5.15.0-1062-intel-iotg - Linux kernel headers for version 5.15.0 on 64 bit x86 SMP\n",
            "linux-headers-5.15.0-1062-kvm - Linux kernel headers for version 5.15.0 on 64 bit x86 SMP\n",
            "linux-headers-5.15.0-1062-nvidia - Linux kernel headers for version 5.15.0 on 64 bit x86 SMP\n",
            "linux-headers-5.15.0-1062-nvidia-lowlatency - Linux kernel headers for version 5.15.0 on 64 bit x86 SMP\n",
            "linux-headers-5.15.0-1062-oracle - Oracle Linux kernel headers for version 5.15.0 on 64 bit x86 SMP\n",
            "linux-headers-5.15.0-1063-aws - Linux kernel headers for version 5.15.0 on 64 bit x86 SMP\n",
            "linux-headers-5.15.0-1063-azure - Linux kernel headers for version 5.15.0 on 64 bit x86 SMP\n",
            "linux-headers-5.15.0-1063-gcp - Linux kernel headers for version 5.15.0 on 64 bit x86 SMP\n",
            "linux-headers-5.15.0-1063-gke - Linux kernel headers for version 5.15.0 on 64 bit x86 SMP\n",
            "linux-headers-5.15.0-1063-ibm - Linux kernel headers for version 5.15.0 on 64 bit x86 SMP\n",
            "linux-headers-5.15.0-1063-intel-iotg - Linux kernel headers for version 5.15.0 on 64 bit x86 SMP\n",
            "linux-headers-5.15.0-1063-kvm - Linux kernel headers for version 5.15.0 on 64 bit x86 SMP\n",
            "linux-headers-5.15.0-1063-nvidia - Linux kernel headers for version 5.15.0 on 64 bit x86 SMP\n",
            "linux-headers-5.15.0-1063-nvidia-lowlatency - Linux kernel headers for version 5.15.0 on 64 bit x86 SMP\n",
            "linux-headers-5.15.0-1063-oracle - Oracle Linux kernel headers for version 5.15.0 on 64 bit x86 SMP\n",
            "linux-headers-5.15.0-1064-aws - Linux kernel headers for version 5.15.0 on 64 bit x86 SMP\n",
            "linux-headers-5.15.0-1064-azure - Linux kernel headers for version 5.15.0 on 64 bit x86 SMP\n",
            "linux-headers-5.15.0-1064-gcp - Linux kernel headers for version 5.15.0 on 64 bit x86 SMP\n",
            "linux-headers-5.15.0-1064-gke - Linux kernel headers for version 5.15.0 on 64 bit x86 SMP\n",
            "linux-headers-5.15.0-1064-ibm - Linux kernel headers for version 5.15.0 on 64 bit x86 SMP\n",
            "linux-headers-5.15.0-1064-intel-iotg - Linux kernel headers for version 5.15.0 on 64 bit x86 SMP\n",
            "linux-headers-5.15.0-1064-kvm - Linux kernel headers for version 5.15.0 on 64 bit x86 SMP\n",
            "linux-headers-5.15.0-1064-nvidia - Linux kernel headers for version 5.15.0 on 64 bit x86 SMP\n",
            "linux-headers-5.15.0-1064-nvidia-lowlatency - Linux kernel headers for version 5.15.0 on 64 bit x86 SMP\n",
            "linux-headers-5.15.0-1064-oracle - Oracle Linux kernel headers for version 5.15.0 on 64 bit x86 SMP\n",
            "linux-headers-5.15.0-1065-aws - Linux kernel headers for version 5.15.0 on 64 bit x86 SMP\n",
            "linux-headers-5.15.0-1065-gcp - Linux kernel headers for version 5.15.0 on 64 bit x86 SMP\n",
            "linux-headers-5.15.0-1065-gke - Linux kernel headers for version 5.15.0 on 64 bit x86 SMP\n",
            "linux-headers-5.15.0-1065-ibm - Linux kernel headers for version 5.15.0 on 64 bit x86 SMP\n",
            "linux-headers-5.15.0-1065-intel-iotg - Linux kernel headers for version 5.15.0 on 64 bit x86 SMP\n",
            "linux-headers-5.15.0-1065-kvm - Linux kernel headers for version 5.15.0 on 64 bit x86 SMP\n",
            "linux-headers-5.15.0-1065-nvidia - Linux kernel headers for version 5.15.0 on 64 bit x86 SMP\n",
            "linux-headers-5.15.0-1065-nvidia-lowlatency - Linux kernel headers for version 5.15.0 on 64 bit x86 SMP\n",
            "linux-headers-5.15.0-1065-oracle - Oracle Linux kernel headers for version 5.15.0 on 64 bit x86 SMP\n",
            "linux-headers-5.15.0-1066-aws - Linux kernel headers for version 5.15.0 on 64 bit x86 SMP\n",
            "linux-headers-5.15.0-1066-azure - Linux kernel headers for version 5.15.0 on 64 bit x86 SMP\n",
            "linux-headers-5.15.0-1066-gcp - Linux kernel headers for version 5.15.0 on 64 bit x86 SMP\n",
            "linux-headers-5.15.0-1066-gke - Linux kernel headers for version 5.15.0 on 64 bit x86 SMP\n",
            "linux-headers-5.15.0-1066-ibm - Linux kernel headers for version 5.15.0 on 64 bit x86 SMP\n",
            "linux-headers-5.15.0-1066-intel-iotg - Linux kernel headers for version 5.15.0 on 64 bit x86 SMP\n",
            "linux-headers-5.15.0-1066-kvm - Linux kernel headers for version 5.15.0 on 64 bit x86 SMP\n",
            "linux-headers-5.15.0-1066-nvidia - Linux kernel headers for version 5.15.0 on 64 bit x86 SMP\n",
            "linux-headers-5.15.0-1066-nvidia-lowlatency - Linux kernel headers for version 5.15.0 on 64 bit x86 SMP\n",
            "linux-headers-5.15.0-1066-oracle - Oracle Linux kernel headers for version 5.15.0 on 64 bit x86 SMP\n",
            "linux-headers-5.15.0-1067-aws - Linux kernel headers for version 5.15.0 on 64 bit x86 SMP\n",
            "linux-headers-5.15.0-1067-azure - Linux kernel headers for version 5.15.0 on 64 bit x86 SMP\n",
            "linux-headers-5.15.0-1067-gcp - Linux kernel headers for version 5.15.0 on 64 bit x86 SMP\n",
            "linux-headers-5.15.0-1067-gke - Linux kernel headers for version 5.15.0 on 64 bit x86 SMP\n",
            "linux-headers-5.15.0-1067-ibm - Linux kernel headers for version 5.15.0 on 64 bit x86 SMP\n",
            "linux-headers-5.15.0-1067-intel-iotg - Linux kernel headers for version 5.15.0 on 64 bit x86 SMP\n",
            "linux-headers-5.15.0-1067-kvm - Linux kernel headers for version 5.15.0 on 64 bit x86 SMP\n",
            "linux-headers-5.15.0-1067-nvidia - Linux kernel headers for version 5.15.0 on 64 bit x86 SMP\n",
            "linux-headers-5.15.0-1067-nvidia-lowlatency - Linux kernel headers for version 5.15.0 on 64 bit x86 SMP\n",
            "linux-headers-5.15.0-1067-oracle - Oracle Linux kernel headers for version 5.15.0 on 64 bit x86 SMP\n",
            "linux-headers-5.15.0-1068-aws - Linux kernel headers for version 5.15.0 on 64 bit x86 SMP\n",
            "linux-headers-5.15.0-1068-azure - Linux kernel headers for version 5.15.0 on 64 bit x86 SMP\n",
            "linux-headers-5.15.0-1068-gcp - Linux kernel headers for version 5.15.0 on 64 bit x86 SMP\n",
            "linux-headers-5.15.0-1068-gke - Linux kernel headers for version 5.15.0 on 64 bit x86 SMP\n",
            "linux-headers-5.15.0-1068-ibm - Linux kernel headers for version 5.15.0 on 64 bit x86 SMP\n",
            "linux-headers-5.15.0-1068-kvm - Linux kernel headers for version 5.15.0 on 64 bit x86 SMP\n",
            "linux-headers-5.15.0-1068-nvidia - Linux kernel headers for version 5.15.0 on 64 bit x86 SMP\n",
            "linux-headers-5.15.0-1068-nvidia-lowlatency - Linux kernel headers for version 5.15.0 on 64 bit x86 SMP\n",
            "linux-headers-5.15.0-1068-oracle - Oracle Linux kernel headers for version 5.15.0 on 64 bit x86 SMP\n",
            "linux-headers-5.15.0-1069-aws - Linux kernel headers for version 5.15.0 on 64 bit x86 SMP\n",
            "linux-headers-5.15.0-1069-gcp - Linux kernel headers for version 5.15.0 on 64 bit x86 SMP\n",
            "linux-headers-5.15.0-1069-gke - Linux kernel headers for version 5.15.0 on 64 bit x86 SMP\n",
            "linux-headers-5.15.0-1069-ibm - Linux kernel headers for version 5.15.0 on 64 bit x86 SMP\n",
            "linux-headers-5.15.0-1069-kvm - Linux kernel headers for version 5.15.0 on 64 bit x86 SMP\n",
            "linux-headers-5.15.0-1069-nvidia - Linux kernel headers for version 5.15.0 on 64 bit x86 SMP\n",
            "linux-headers-5.15.0-1069-nvidia-lowlatency - Linux kernel headers for version 5.15.0 on 64 bit x86 SMP\n",
            "linux-headers-5.15.0-1069-oracle - Oracle Linux kernel headers for version 5.15.0 on 64 bit x86 SMP\n",
            "linux-headers-5.15.0-107 - Header files related to Linux kernel version 5.15.0\n",
            "linux-headers-5.15.0-107-generic - Linux kernel headers for version 5.15.0 on 64 bit x86 SMP\n",
            "linux-headers-5.15.0-107-lowlatency - Linux kernel headers for version 5.15.0 on 64 bit x86 SMP\n",
            "linux-headers-5.15.0-1070-aws - Linux kernel headers for version 5.15.0 on 64 bit x86 SMP\n",
            "linux-headers-5.15.0-1070-azure - Linux kernel headers for version 5.15.0 on 64 bit x86 SMP\n",
            "linux-headers-5.15.0-1070-gcp - Linux kernel headers for version 5.15.0 on 64 bit x86 SMP\n",
            "linux-headers-5.15.0-1070-gke - Linux kernel headers for version 5.15.0 on 64 bit x86 SMP\n",
            "linux-headers-5.15.0-1070-ibm - Linux kernel headers for version 5.15.0 on 64 bit x86 SMP\n",
            "linux-headers-5.15.0-1070-kvm - Linux kernel headers for version 5.15.0 on 64 bit x86 SMP\n",
            "linux-headers-5.15.0-1070-nvidia - Linux kernel headers for version 5.15.0 on 64 bit x86 SMP\n",
            "linux-headers-5.15.0-1070-nvidia-lowlatency - Linux kernel headers for version 5.15.0 on 64 bit x86 SMP\n",
            "linux-headers-5.15.0-1070-oracle - Oracle Linux kernel headers for version 5.15.0 on 64 bit x86 SMP\n",
            "linux-headers-5.15.0-1071-aws - Linux kernel headers for version 5.15.0 on 64 bit x86 SMP\n",
            "linux-headers-5.15.0-1071-azure - Linux kernel headers for version 5.15.0 on 64 bit x86 SMP\n",
            "linux-headers-5.15.0-1071-gcp - Linux kernel headers for version 5.15.0 on 64 bit x86 SMP\n",
            "linux-headers-5.15.0-1071-gke - Linux kernel headers for version 5.15.0 on 64 bit x86 SMP\n",
            "linux-headers-5.15.0-1071-ibm - Linux kernel headers for version 5.15.0 on 64 bit x86 SMP\n",
            "linux-headers-5.15.0-1071-intel-iotg - Linux kernel headers for version 5.15.0 on 64 bit x86 SMP\n",
            "linux-headers-5.15.0-1071-kvm - Linux kernel headers for version 5.15.0 on 64 bit x86 SMP\n",
            "linux-headers-5.15.0-1071-nvidia - Linux kernel headers for version 5.15.0 on 64 bit x86 SMP\n",
            "linux-headers-5.15.0-1071-nvidia-lowlatency - Linux kernel headers for version 5.15.0 on 64 bit x86 SMP\n",
            "linux-headers-5.15.0-1071-oracle - Oracle Linux kernel headers for version 5.15.0 on 64 bit x86 SMP\n",
            "linux-headers-5.15.0-1072-aws - Linux kernel headers for version 5.15.0 on 64 bit x86 SMP\n",
            "linux-headers-5.15.0-1072-azure - Linux kernel headers for version 5.15.0 on 64 bit x86 SMP\n",
            "linux-headers-5.15.0-1072-gcp - Linux kernel headers for version 5.15.0 on 64 bit x86 SMP\n",
            "linux-headers-5.15.0-1072-gke - Linux kernel headers for version 5.15.0 on 64 bit x86 SMP\n",
            "linux-headers-5.15.0-1072-ibm - Linux kernel headers for version 5.15.0 on 64 bit x86 SMP\n",
            "linux-headers-5.15.0-1072-intel-iotg - Linux kernel headers for version 5.15.0 on 64 bit x86 SMP\n",
            "linux-headers-5.15.0-1072-kvm - Linux kernel headers for version 5.15.0 on 64 bit x86 SMP\n",
            "linux-headers-5.15.0-1072-nvidia - Linux kernel headers for version 5.15.0 on 64 bit x86 SMP\n",
            "linux-headers-5.15.0-1072-nvidia-lowlatency - Linux kernel headers for version 5.15.0 on 64 bit x86 SMP\n",
            "linux-headers-5.15.0-1072-oracle - Oracle Linux kernel headers for version 5.15.0 on 64 bit x86 SMP\n",
            "linux-headers-5.15.0-1073-aws - Linux kernel headers for version 5.15.0 on 64 bit x86 SMP\n",
            "linux-headers-5.15.0-1073-azure - Linux kernel headers for version 5.15.0 on 64 bit x86 SMP\n",
            "linux-headers-5.15.0-1073-gcp - Linux kernel headers for version 5.15.0 on 64 bit x86 SMP\n",
            "linux-headers-5.15.0-1073-gke - Linux kernel headers for version 5.15.0 on 64 bit x86 SMP\n",
            "linux-headers-5.15.0-1073-intel-iotg - Linux kernel headers for version 5.15.0 on 64 bit x86 SMP\n",
            "linux-headers-5.15.0-1073-kvm - Linux kernel headers for version 5.15.0 on 64 bit x86 SMP\n",
            "linux-headers-5.15.0-1073-nvidia - Linux kernel headers for version 5.15.0 on 64 bit x86 SMP\n",
            "linux-headers-5.15.0-1073-nvidia-lowlatency - Linux kernel headers for version 5.15.0 on 64 bit x86 SMP\n",
            "linux-headers-5.15.0-1073-oracle - Oracle Linux kernel headers for version 5.15.0 on 64 bit x86 SMP\n",
            "linux-headers-5.15.0-1074-azure - Linux kernel headers for version 5.15.0 on 64 bit x86 SMP\n",
            "linux-headers-5.15.0-1074-gcp - Linux kernel headers for version 5.15.0 on 64 bit x86 SMP\n",
            "linux-headers-5.15.0-1074-intel-iotg - Linux kernel headers for version 5.15.0 on 64 bit x86 SMP\n",
            "linux-headers-5.15.0-1074-nvidia - Linux kernel headers for version 5.15.0 on 64 bit x86 SMP\n",
            "linux-headers-5.15.0-1074-nvidia-lowlatency - Linux kernel headers for version 5.15.0 on 64 bit x86 SMP\n",
            "linux-headers-5.15.0-1074-oracle - Oracle Linux kernel headers for version 5.15.0 on 64 bit x86 SMP\n",
            "linux-headers-5.15.0-1075-azure - Linux kernel headers for version 5.15.0 on 64 bit x86 SMP\n",
            "linux-headers-5.15.0-1075-gcp - Linux kernel headers for version 5.15.0 on 64 bit x86 SMP\n",
            "linux-headers-5.15.0-1075-gke - Linux kernel headers for version 5.15.0 on 64 bit x86 SMP\n",
            "linux-headers-5.15.0-1075-intel-iotg - Linux kernel headers for version 5.15.0 on 64 bit x86 SMP\n",
            "linux-headers-5.15.0-1075-oracle - Oracle Linux kernel headers for version 5.15.0 on 64 bit x86 SMP\n",
            "linux-headers-5.15.0-1076-aws - Linux kernel headers for version 5.15.0 on 64 bit x86 SMP\n",
            "linux-headers-5.15.0-1076-gke - Linux kernel headers for version 5.15.0 on 64 bit x86 SMP\n",
            "linux-headers-5.15.0-1076-oracle - Oracle Linux kernel headers for version 5.15.0 on 64 bit x86 SMP\n",
            "linux-headers-5.15.0-1077-gcp - Linux kernel headers for version 5.15.0 on 64 bit x86 SMP\n",
            "linux-headers-5.15.0-1077-gke - Linux kernel headers for version 5.15.0 on 64 bit x86 SMP\n",
            "linux-headers-5.15.0-1077-oracle - Oracle Linux kernel headers for version 5.15.0 on 64 bit x86 SMP\n",
            "linux-headers-5.15.0-1078-aws - Linux kernel headers for version 5.15.0 on 64 bit x86 SMP\n",
            "linux-headers-5.15.0-1078-azure - Linux kernel headers for version 5.15.0 on 64 bit x86 SMP\n",
            "linux-headers-5.15.0-1078-gcp - Linux kernel headers for version 5.15.0 on 64 bit x86 SMP\n",
            "linux-headers-5.15.0-1079-aws - Linux kernel headers for version 5.15.0 on 64 bit x86 SMP\n",
            "linux-headers-5.15.0-1079-azure - Linux kernel headers for version 5.15.0 on 64 bit x86 SMP\n",
            "linux-headers-5.15.0-1080-aws - Linux kernel headers for version 5.15.0 on 64 bit x86 SMP\n",
            "linux-headers-5.15.0-1081-azure - Linux kernel headers for version 5.15.0 on 64 bit x86 SMP\n",
            "linux-headers-5.15.0-1082-azure - Linux kernel headers for version 5.15.0 on 64 bit x86 SMP\n",
            "linux-headers-5.15.0-1084-azure - Linux kernel headers for version 5.15.0 on 64 bit x86 SMP\n",
            "linux-headers-5.15.0-110-lowlatency - Linux kernel headers for version 5.15.0 on 64 bit x86 SMP\n",
            "linux-headers-5.15.0-112 - Header files related to Linux kernel version 5.15.0\n",
            "linux-headers-5.15.0-112-generic - Linux kernel headers for version 5.15.0 on 64 bit x86 SMP\n",
            "linux-headers-5.15.0-113 - Header files related to Linux kernel version 5.15.0\n",
            "linux-headers-5.15.0-113-generic - Linux kernel headers for version 5.15.0 on 64 bit x86 SMP\n",
            "linux-headers-5.15.0-113-lowlatency - Linux kernel headers for version 5.15.0 on 64 bit x86 SMP\n",
            "linux-headers-5.15.0-116 - Header files related to Linux kernel version 5.15.0\n",
            "linux-headers-5.15.0-116-generic - Linux kernel headers for version 5.15.0 on 64 bit x86 SMP\n",
            "linux-headers-5.15.0-116-lowlatency - Linux kernel headers for version 5.15.0 on 64 bit x86 SMP\n",
            "linux-headers-5.15.0-117 - Header files related to Linux kernel version 5.15.0\n",
            "linux-headers-5.15.0-117-generic - Linux kernel headers for version 5.15.0 on 64 bit x86 SMP\n",
            "linux-headers-5.15.0-117-lowlatency - Linux kernel headers for version 5.15.0 on 64 bit x86 SMP\n",
            "linux-headers-5.15.0-118 - Header files related to Linux kernel version 5.15.0\n",
            "linux-headers-5.15.0-118-generic - Linux kernel headers for version 5.15.0 on 64 bit x86 SMP\n",
            "linux-headers-5.15.0-118-lowlatency - Linux kernel headers for version 5.15.0 on 64 bit x86 SMP\n",
            "linux-headers-5.15.0-119 - Header files related to Linux kernel version 5.15.0\n",
            "linux-headers-5.15.0-119-generic - Linux kernel headers for version 5.15.0 on 64 bit x86 SMP\n",
            "linux-headers-5.15.0-119-lowlatency - Linux kernel headers for version 5.15.0 on 64 bit x86 SMP\n",
            "linux-headers-5.15.0-121 - Header files related to Linux kernel version 5.15.0\n",
            "linux-headers-5.15.0-121-generic - Linux kernel headers for version 5.15.0 on 64 bit x86 SMP\n",
            "linux-headers-5.15.0-121-lowlatency - Linux kernel headers for version 5.15.0 on 64 bit x86 SMP\n",
            "linux-headers-5.15.0-122 - Header files related to Linux kernel version 5.15.0\n",
            "linux-headers-5.15.0-122-generic - Linux kernel headers for version 5.15.0 on 64 bit x86 SMP\n",
            "linux-headers-5.15.0-122-lowlatency - Linux kernel headers for version 5.15.0 on 64 bit x86 SMP\n",
            "linux-headers-5.15.0-124 - Header files related to Linux kernel version 5.15.0\n",
            "linux-headers-5.15.0-124-generic - Linux kernel headers for version 5.15.0 on 64 bit x86 SMP\n",
            "linux-headers-5.15.0-124-lowlatency - Linux kernel headers for version 5.15.0 on 64 bit x86 SMP\n",
            "linux-headers-5.15.0-125 - Header files related to Linux kernel version 5.15.0\n",
            "linux-headers-5.15.0-125-generic - Linux kernel headers for version 5.15.0 on 64 bit x86 SMP\n",
            "linux-headers-5.15.0-125-lowlatency - Linux kernel headers for version 5.15.0 on 64 bit x86 SMP\n",
            "linux-headers-5.15.0-126 - Header files related to Linux kernel version 5.15.0\n",
            "linux-headers-5.15.0-126-generic - Linux kernel headers for version 5.15.0 on 64 bit x86 SMP\n",
            "linux-headers-5.15.0-126-lowlatency - Linux kernel headers for version 5.15.0 on 64 bit x86 SMP\n",
            "linux-headers-5.15.0-127 - Header files related to Linux kernel version 5.15.0\n",
            "linux-headers-5.15.0-127-generic - Linux kernel headers for version 5.15.0 on 64 bit x86 SMP\n",
            "linux-headers-5.15.0-127-lowlatency - Linux kernel headers for version 5.15.0 on 64 bit x86 SMP\n",
            "linux-headers-5.15.0-128 - Header files related to Linux kernel version 5.15.0\n",
            "linux-headers-5.15.0-128-generic - Linux kernel headers for version 5.15.0 on 64 bit x86 SMP\n",
            "linux-headers-5.15.0-128-lowlatency - Linux kernel headers for version 5.15.0 on 64 bit x86 SMP\n",
            "linux-headers-5.15.0-129-lowlatency - Linux kernel headers for version 5.15.0 on 64 bit x86 SMP\n",
            "linux-headers-5.15.0-130 - Header files related to Linux kernel version 5.15.0\n",
            "linux-headers-5.15.0-130-generic - Linux kernel headers for version 5.15.0 on 64 bit x86 SMP\n",
            "linux-headers-5.15.0-131 - Header files related to Linux kernel version 5.15.0\n",
            "linux-headers-5.15.0-131-generic - Linux kernel headers for version 5.15.0 on 64 bit x86 SMP\n",
            "linux-headers-5.15.0-131-lowlatency - Linux kernel headers for version 5.15.0 on 64 bit x86 SMP\n",
            "linux-headers-5.15.0-133 - Header files related to Linux kernel version 5.15.0\n",
            "linux-headers-5.15.0-133-generic - Linux kernel headers for version 5.15.0 on 64 bit x86 SMP\n",
            "linux-headers-5.15.0-133-lowlatency - Linux kernel headers for version 5.15.0 on 64 bit x86 SMP\n",
            "linux-headers-5.15.0-134 - Header files related to Linux kernel version 5.15.0\n",
            "linux-headers-5.15.0-134-generic - Linux kernel headers for version 5.15.0 on 64 bit x86 SMP\n",
            "linux-headers-5.15.0-134-lowlatency - Linux kernel headers for version 5.15.0 on 64 bit x86 SMP\n",
            "linux-headers-5.15.0-135 - Header files related to Linux kernel version 5.15.0\n",
            "linux-headers-5.15.0-135-generic - Linux kernel headers for version 5.15.0 on 64 bit x86 SMP\n",
            "linux-headers-5.15.0-135-lowlatency - Linux kernel headers for version 5.15.0 on 64 bit x86 SMP\n",
            "linux-headers-5.15.0-72 - Header files related to Linux kernel version 5.15.0\n",
            "linux-headers-5.15.0-72-generic - Linux kernel headers for version 5.15.0 on 64 bit x86 SMP\n",
            "linux-headers-5.15.0-72-lowlatency - Linux kernel headers for version 5.15.0 on 64 bit x86 SMP\n",
            "linux-headers-5.15.0-73 - Header files related to Linux kernel version 5.15.0\n",
            "linux-headers-5.15.0-73-generic - Linux kernel headers for version 5.15.0 on 64 bit x86 SMP\n",
            "linux-headers-5.15.0-73-lowlatency - Linux kernel headers for version 5.15.0 on 64 bit x86 SMP\n",
            "linux-headers-5.15.0-75 - Header files related to Linux kernel version 5.15.0\n",
            "linux-headers-5.15.0-75-generic - Linux kernel headers for version 5.15.0 on 64 bit x86 SMP\n",
            "linux-headers-5.15.0-75-lowlatency - Linux kernel headers for version 5.15.0 on 64 bit x86 SMP\n",
            "linux-headers-5.15.0-76-lowlatency - Linux kernel headers for version 5.15.0 on 64 bit x86 SMP\n",
            "linux-headers-5.15.0-78 - Header files related to Linux kernel version 5.15.0\n",
            "linux-headers-5.15.0-78-generic - Linux kernel headers for version 5.15.0 on 64 bit x86 SMP\n",
            "linux-headers-5.15.0-78-lowlatency - Linux kernel headers for version 5.15.0 on 64 bit x86 SMP\n",
            "linux-headers-5.15.0-79 - Header files related to Linux kernel version 5.15.0\n",
            "linux-headers-5.15.0-79-generic - Linux kernel headers for version 5.15.0 on 64 bit x86 SMP\n",
            "linux-headers-5.15.0-79-lowlatency - Linux kernel headers for version 5.15.0 on 64 bit x86 SMP\n",
            "linux-headers-5.15.0-82 - Header files related to Linux kernel version 5.15.0\n",
            "linux-headers-5.15.0-82-generic - Linux kernel headers for version 5.15.0 on 64 bit x86 SMP\n",
            "linux-headers-5.15.0-82-lowlatency - Linux kernel headers for version 5.15.0 on 64 bit x86 SMP\n",
            "linux-headers-5.15.0-83 - Header files related to Linux kernel version 5.15.0\n",
            "linux-headers-5.15.0-83-generic - Linux kernel headers for version 5.15.0 on 64 bit x86 SMP\n",
            "linux-headers-5.15.0-83-lowlatency - Linux kernel headers for version 5.15.0 on 64 bit x86 SMP\n",
            "linux-headers-5.15.0-84 - Header files related to Linux kernel version 5.15.0\n",
            "linux-headers-5.15.0-84-generic - Linux kernel headers for version 5.15.0 on 64 bit x86 SMP\n",
            "linux-headers-5.15.0-84-lowlatency - Linux kernel headers for version 5.15.0 on 64 bit x86 SMP\n",
            "linux-headers-5.15.0-86 - Header files related to Linux kernel version 5.15.0\n",
            "linux-headers-5.15.0-86-generic - Linux kernel headers for version 5.15.0 on 64 bit x86 SMP\n",
            "linux-headers-5.15.0-86-lowlatency - Linux kernel headers for version 5.15.0 on 64 bit x86 SMP\n",
            "linux-headers-5.15.0-87 - Header files related to Linux kernel version 5.15.0\n",
            "linux-headers-5.15.0-87-generic - Linux kernel headers for version 5.15.0 on 64 bit x86 SMP\n",
            "linux-headers-5.15.0-87-lowlatency - Linux kernel headers for version 5.15.0 on 64 bit x86 SMP\n",
            "linux-headers-5.15.0-88 - Header files related to Linux kernel version 5.15.0\n",
            "linux-headers-5.15.0-88-generic - Linux kernel headers for version 5.15.0 on 64 bit x86 SMP\n",
            "linux-headers-5.15.0-88-lowlatency - Linux kernel headers for version 5.15.0 on 64 bit x86 SMP\n",
            "linux-headers-5.15.0-89 - Header files related to Linux kernel version 5.15.0\n",
            "linux-headers-5.15.0-89-generic - Linux kernel headers for version 5.15.0 on 64 bit x86 SMP\n",
            "linux-headers-5.15.0-89-lowlatency - Linux kernel headers for version 5.15.0 on 64 bit x86 SMP\n",
            "linux-headers-5.15.0-91 - Header files related to Linux kernel version 5.15.0\n",
            "linux-headers-5.15.0-91-generic - Linux kernel headers for version 5.15.0 on 64 bit x86 SMP\n",
            "linux-headers-5.15.0-91-lowlatency - Linux kernel headers for version 5.15.0 on 64 bit x86 SMP\n",
            "linux-headers-5.15.0-92 - Header files related to Linux kernel version 5.15.0\n",
            "linux-headers-5.15.0-92-generic - Linux kernel headers for version 5.15.0 on 64 bit x86 SMP\n",
            "linux-headers-5.15.0-92-lowlatency - Linux kernel headers for version 5.15.0 on 64 bit x86 SMP\n",
            "linux-headers-5.15.0-94 - Header files related to Linux kernel version 5.15.0\n",
            "linux-headers-5.15.0-94-generic - Linux kernel headers for version 5.15.0 on 64 bit x86 SMP\n",
            "linux-headers-5.15.0-94-lowlatency - Linux kernel headers for version 5.15.0 on 64 bit x86 SMP\n",
            "linux-headers-5.15.0-97 - Header files related to Linux kernel version 5.15.0\n",
            "linux-headers-5.15.0-97-generic - Linux kernel headers for version 5.15.0 on 64 bit x86 SMP\n",
            "linux-headers-5.15.0-97-lowlatency - Linux kernel headers for version 5.15.0 on 64 bit x86 SMP\n",
            "linux-headers-5.17.0-1031-oem - Linux kernel headers for version 5.17.0 on 64 bit x86 SMP\n",
            "linux-headers-5.17.0-1032-oem - Linux kernel headers for version 5.17.0 on 64 bit x86 SMP\n",
            "linux-headers-5.17.0-1033-oem - Linux kernel headers for version 5.17.0 on 64 bit x86 SMP\n",
            "linux-headers-5.17.0-1034-oem - Linux kernel headers for version 5.17.0 on 64 bit x86 SMP\n",
            "linux-headers-5.17.0-1035-oem - Linux kernel headers for version 5.17.0 on 64 bit x86 SMP\n",
            "linux-headers-5.19.0-1022-gcp - Linux kernel headers for version 5.19.0 on 64 bit x86 SMP\n",
            "linux-headers-5.19.0-1023-oracle - Oracle Linux kernel headers for version 5.19.0 on 64 bit x86 SMP\n",
            "linux-headers-5.19.0-1024-aws - Linux kernel headers for version 5.19.0 on 64 bit x86 SMP\n",
            "linux-headers-5.19.0-1024-gcp - Linux kernel headers for version 5.19.0 on 64 bit x86 SMP\n",
            "linux-headers-5.19.0-1024-lowlatency - Linux kernel headers for version 5.19.0 on 64 bit x86 SMP\n",
            "linux-headers-5.19.0-1024-oracle - Oracle Linux kernel headers for version 5.19.0 on 64 bit x86 SMP\n",
            "linux-headers-5.19.0-1025-aws - Linux kernel headers for version 5.19.0 on 64 bit x86 SMP\n",
            "linux-headers-5.19.0-1025-azure - Linux kernel headers for version 5.19.0 on 64 bit x86 SMP\n",
            "linux-headers-5.19.0-1025-gcp - Linux kernel headers for version 5.19.0 on 64 bit x86 SMP\n",
            "linux-headers-5.19.0-1025-lowlatency - Linux kernel headers for version 5.19.0 on 64 bit x86 SMP\n",
            "linux-headers-5.19.0-1025-oracle - Oracle Linux kernel headers for version 5.19.0 on 64 bit x86 SMP\n",
            "linux-headers-5.19.0-1026-aws - Linux kernel headers for version 5.19.0 on 64 bit x86 SMP\n",
            "linux-headers-5.19.0-1026-azure - Linux kernel headers for version 5.19.0 on 64 bit x86 SMP\n",
            "linux-headers-5.19.0-1026-gcp - Linux kernel headers for version 5.19.0 on 64 bit x86 SMP\n",
            "linux-headers-5.19.0-1026-oracle - Oracle Linux kernel headers for version 5.19.0 on 64 bit x86 SMP\n",
            "linux-headers-5.19.0-1027-aws - Linux kernel headers for version 5.19.0 on 64 bit x86 SMP\n",
            "linux-headers-5.19.0-1027-azure - Linux kernel headers for version 5.19.0 on 64 bit x86 SMP\n",
            "linux-headers-5.19.0-1027-gcp - Linux kernel headers for version 5.19.0 on 64 bit x86 SMP\n",
            "linux-headers-5.19.0-1027-lowlatency - Linux kernel headers for version 5.19.0 on 64 bit x86 SMP\n",
            "linux-headers-5.19.0-1027-oracle - Oracle Linux kernel headers for version 5.19.0 on 64 bit x86 SMP\n",
            "linux-headers-5.19.0-1028-aws - Linux kernel headers for version 5.19.0 on 64 bit x86 SMP\n",
            "linux-headers-5.19.0-1028-lowlatency - Linux kernel headers for version 5.19.0 on 64 bit x86 SMP\n",
            "linux-headers-5.19.0-1029-aws - Linux kernel headers for version 5.19.0 on 64 bit x86 SMP\n",
            "linux-headers-5.19.0-1030-gcp - Linux kernel headers for version 5.19.0 on 64 bit x86 SMP\n",
            "linux-headers-5.19.0-1030-lowlatency - Linux kernel headers for version 5.19.0 on 64 bit x86 SMP\n",
            "linux-headers-5.19.0-41-generic - Linux kernel headers for version 5.19.0 on 64 bit x86 SMP\n",
            "linux-headers-5.19.0-42-generic - Linux kernel headers for version 5.19.0 on 64 bit x86 SMP\n",
            "linux-headers-5.19.0-43-generic - Linux kernel headers for version 5.19.0 on 64 bit x86 SMP\n",
            "linux-headers-5.19.0-45-generic - Linux kernel headers for version 5.19.0 on 64 bit x86 SMP\n",
            "linux-headers-5.19.0-46-generic - Linux kernel headers for version 5.19.0 on 64 bit x86 SMP\n",
            "linux-headers-5.19.0-50-generic - Linux kernel headers for version 5.19.0 on 64 bit x86 SMP\n",
            "linux-headers-6.0.0-1016-oem - Linux kernel headers for version 6.0.0 on 64 bit x86 SMP\n",
            "linux-headers-6.0.0-1017-oem - Linux kernel headers for version 6.0.0 on 64 bit x86 SMP\n",
            "linux-headers-6.0.0-1018-oem - Linux kernel headers for version 6.0.0 on 64 bit x86 SMP\n",
            "linux-headers-6.0.0-1019-oem - Linux kernel headers for version 6.0.0 on 64 bit x86 SMP\n",
            "linux-headers-6.0.0-1020-oem - Linux kernel headers for version 6.0.0 on 64 bit x86 SMP\n",
            "linux-headers-6.0.0-1021-oem - Linux kernel headers for version 6.0.0 on 64 bit x86 SMP\n",
            "linux-headers-6.1.0-1012-oem - Linux kernel headers for version 6.1.0 on 64 bit x86 SMP\n",
            "linux-headers-6.1.0-1013-oem - Linux kernel headers for version 6.1.0 on 64 bit x86 SMP\n",
            "linux-headers-6.1.0-1014-oem - Linux kernel headers for version 6.1.0 on 64 bit x86 SMP\n",
            "linux-headers-6.1.0-1015-oem - Linux kernel headers for version 6.1.0 on 64 bit x86 SMP\n",
            "linux-headers-6.1.0-1016-oem - Linux kernel headers for version 6.1.0 on 64 bit x86 SMP\n",
            "linux-headers-6.1.0-1017-oem - Linux kernel headers for version 6.1.0 on 64 bit x86 SMP\n",
            "linux-headers-6.1.0-1019-oem - Linux kernel headers for version 6.1.0 on 64 bit x86 SMP\n",
            "linux-headers-6.1.0-1020-oem - Linux kernel headers for version 6.1.0 on 64 bit x86 SMP\n",
            "linux-headers-6.1.0-1021-oem - Linux kernel headers for version 6.1.0 on 64 bit x86 SMP\n",
            "linux-headers-6.1.0-1022-oem - Linux kernel headers for version 6.1.0 on 64 bit x86 SMP\n",
            "linux-headers-6.1.0-1023-oem - Linux kernel headers for version 6.1.0 on 64 bit x86 SMP\n",
            "linux-headers-6.1.0-1024-oem - Linux kernel headers for version 6.1.0 on 64 bit x86 SMP\n",
            "linux-headers-6.1.0-1025-oem - Linux kernel headers for version 6.1.0 on 64 bit x86 SMP\n",
            "linux-headers-6.1.0-1026-oem - Linux kernel headers for version 6.1.0 on 64 bit x86 SMP\n",
            "linux-headers-6.1.0-1027-oem - Linux kernel headers for version 6.1.0 on 64 bit x86 SMP\n",
            "linux-headers-6.1.0-1028-oem - Linux kernel headers for version 6.1.0 on 64 bit x86 SMP\n",
            "linux-headers-6.1.0-1029-oem - Linux kernel headers for version 6.1.0 on 64 bit x86 SMP\n",
            "linux-headers-6.1.0-1033-oem - Linux kernel headers for version 6.1.0 on 64 bit x86 SMP\n",
            "linux-headers-6.1.0-1034-oem - Linux kernel headers for version 6.1.0 on 64 bit x86 SMP\n",
            "linux-headers-6.1.0-1035-oem - Linux kernel headers for version 6.1.0 on 64 bit x86 SMP\n",
            "linux-headers-6.1.0-1036-oem - Linux kernel headers for version 6.1.0 on 64 bit x86 SMP\n",
            "linux-headers-6.2.0-1003-nvidia - Linux kernel headers for version 6.2.0 on 64 bit x86 SMP\n",
            "linux-headers-6.2.0-1005-aws - Linux kernel headers for version 6.2.0 on 64 bit x86 SMP\n",
            "linux-headers-6.2.0-1005-azure - Linux kernel headers for version 6.2.0 on 64 bit x86 SMP\n",
            "linux-headers-6.2.0-1006-aws - Linux kernel headers for version 6.2.0 on 64 bit x86 SMP\n",
            "linux-headers-6.2.0-1006-azure - Linux kernel headers for version 6.2.0 on 64 bit x86 SMP\n",
            "linux-headers-6.2.0-1007-aws - Linux kernel headers for version 6.2.0 on 64 bit x86 SMP\n",
            "linux-headers-6.2.0-1007-azure - Linux kernel headers for version 6.2.0 on 64 bit x86 SMP\n",
            "linux-headers-6.2.0-1008-aws - Linux kernel headers for version 6.2.0 on 64 bit x86 SMP\n",
            "linux-headers-6.2.0-1008-azure - Linux kernel headers for version 6.2.0 on 64 bit x86 SMP\n",
            "linux-headers-6.2.0-1008-lowlatency - Linux kernel headers for version 6.2.0 on 64 bit x86 SMP\n",
            "linux-headers-6.2.0-1009-aws - Linux kernel headers for version 6.2.0 on 64 bit x86 SMP\n",
            "linux-headers-6.2.0-1009-gcp - Linux kernel headers for version 6.2.0 on 64 bit x86 SMP\n",
            "linux-headers-6.2.0-1009-lowlatency - Linux kernel headers for version 6.2.0 on 64 bit x86 SMP\n",
            "linux-headers-6.2.0-1009-nvidia - Linux kernel headers for version 6.2.0 on 64 bit x86 SMP\n",
            "linux-headers-6.2.0-1010-aws - Linux kernel headers for version 6.2.0 on 64 bit x86 SMP\n",
            "linux-headers-6.2.0-1010-gcp - Linux kernel headers for version 6.2.0 on 64 bit x86 SMP\n",
            "linux-headers-6.2.0-1010-nvidia - Linux kernel headers for version 6.2.0 on 64 bit x86 SMP\n",
            "linux-headers-6.2.0-1011-aws - Linux kernel headers for version 6.2.0 on 64 bit x86 SMP\n",
            "linux-headers-6.2.0-1011-azure - Linux kernel headers for version 6.2.0 on 64 bit x86 SMP\n",
            "linux-headers-6.2.0-1011-gcp - Linux kernel headers for version 6.2.0 on 64 bit x86 SMP\n",
            "linux-headers-6.2.0-1011-lowlatency - Linux kernel headers for version 6.2.0 on 64 bit x86 SMP\n",
            "linux-headers-6.2.0-1011-nvidia - Linux kernel headers for version 6.2.0 on 64 bit x86 SMP\n",
            "linux-headers-6.2.0-1012-aws - Linux kernel headers for version 6.2.0 on 64 bit x86 SMP\n",
            "linux-headers-6.2.0-1012-azure - Linux kernel headers for version 6.2.0 on 64 bit x86 SMP\n",
            "linux-headers-6.2.0-1012-gcp - Linux kernel headers for version 6.2.0 on 64 bit x86 SMP\n",
            "linux-headers-6.2.0-1012-lowlatency - Linux kernel headers for version 6.2.0 on 64 bit x86 SMP\n",
            "linux-headers-6.2.0-1012-nvidia - Linux kernel headers for version 6.2.0 on 64 bit x86 SMP\n",
            "linux-headers-6.2.0-1013-aws - Linux kernel headers for version 6.2.0 on 64 bit x86 SMP\n",
            "linux-headers-6.2.0-1013-gcp - Linux kernel headers for version 6.2.0 on 64 bit x86 SMP\n",
            "linux-headers-6.2.0-1013-lowlatency - Linux kernel headers for version 6.2.0 on 64 bit x86 SMP\n",
            "linux-headers-6.2.0-1013-nvidia - Linux kernel headers for version 6.2.0 on 64 bit x86 SMP\n",
            "linux-headers-6.2.0-1013-oracle - Oracle Linux kernel headers for version 6.2.0 on 64 bit x86 SMP\n",
            "linux-headers-6.2.0-1014-aws - Linux kernel headers for version 6.2.0 on 64 bit x86 SMP\n",
            "linux-headers-6.2.0-1014-azure - Linux kernel headers for version 6.2.0 on 64 bit x86 SMP\n",
            "linux-headers-6.2.0-1014-gcp - Linux kernel headers for version 6.2.0 on 64 bit x86 SMP\n",
            "linux-headers-6.2.0-1014-lowlatency - Linux kernel headers for version 6.2.0 on 64 bit x86 SMP\n",
            "linux-headers-6.2.0-1014-oracle - Oracle Linux kernel headers for version 6.2.0 on 64 bit x86 SMP\n",
            "linux-headers-6.2.0-1015-aws - Linux kernel headers for version 6.2.0 on 64 bit x86 SMP\n",
            "linux-headers-6.2.0-1015-azure - Linux kernel headers for version 6.2.0 on 64 bit x86 SMP\n",
            "linux-headers-6.2.0-1015-lowlatency - Linux kernel headers for version 6.2.0 on 64 bit x86 SMP\n",
            "linux-headers-6.2.0-1015-nvidia - Linux kernel headers for version 6.2.0 on 64 bit x86 SMP\n",
            "linux-headers-6.2.0-1015-oracle - Oracle Linux kernel headers for version 6.2.0 on 64 bit x86 SMP\n",
            "linux-headers-6.2.0-1016-aws - Linux kernel headers for version 6.2.0 on 64 bit x86 SMP\n",
            "linux-headers-6.2.0-1016-azure - Linux kernel headers for version 6.2.0 on 64 bit x86 SMP\n",
            "linux-headers-6.2.0-1016-gcp - Linux kernel headers for version 6.2.0 on 64 bit x86 SMP\n",
            "linux-headers-6.2.0-1016-lowlatency - Linux kernel headers for version 6.2.0 on 64 bit x86 SMP\n",
            "linux-headers-6.2.0-1016-oracle - Oracle Linux kernel headers for version 6.2.0 on 64 bit x86 SMP\n",
            "linux-headers-6.2.0-1017-aws - Linux kernel headers for version 6.2.0 on 64 bit x86 SMP\n",
            "linux-headers-6.2.0-1017-azure - Linux kernel headers for version 6.2.0 on 64 bit x86 SMP\n",
            "linux-headers-6.2.0-1017-gcp - Linux kernel headers for version 6.2.0 on 64 bit x86 SMP\n",
            "linux-headers-6.2.0-1017-lowlatency - Linux kernel headers for version 6.2.0 on 64 bit x86 SMP\n",
            "linux-headers-6.2.0-1018-aws - Linux kernel headers for version 6.2.0 on 64 bit x86 SMP\n",
            "linux-headers-6.2.0-1018-azure - Linux kernel headers for version 6.2.0 on 64 bit x86 SMP\n",
            "linux-headers-6.2.0-1018-gcp - Linux kernel headers for version 6.2.0 on 64 bit x86 SMP\n",
            "linux-headers-6.2.0-1018-lowlatency - Linux kernel headers for version 6.2.0 on 64 bit x86 SMP\n",
            "linux-headers-6.2.0-1019-azure - Linux kernel headers for version 6.2.0 on 64 bit x86 SMP\n",
            "linux-headers-6.2.0-1019-gcp - Linux kernel headers for version 6.2.0 on 64 bit x86 SMP\n",
            "linux-headers-6.2.0-1021-gcp - Linux kernel headers for version 6.2.0 on 64 bit x86 SMP\n",
            "linux-headers-6.2.0-25-generic - Linux kernel headers for version 6.2.0 on 64 bit x86 SMP\n",
            "linux-headers-6.2.0-26-generic - Linux kernel headers for version 6.2.0 on 64 bit x86 SMP\n",
            "linux-headers-6.2.0-31-generic - Linux kernel headers for version 6.2.0 on 64 bit x86 SMP\n",
            "linux-headers-6.2.0-32-generic - Linux kernel headers for version 6.2.0 on 64 bit x86 SMP\n",
            "linux-headers-6.2.0-33-generic - Linux kernel headers for version 6.2.0 on 64 bit x86 SMP\n",
            "linux-headers-6.2.0-34-generic - Linux kernel headers for version 6.2.0 on 64 bit x86 SMP\n",
            "linux-headers-6.2.0-35-generic - Linux kernel headers for version 6.2.0 on 64 bit x86 SMP\n",
            "linux-headers-6.2.0-36-generic - Linux kernel headers for version 6.2.0 on 64 bit x86 SMP\n",
            "linux-headers-6.2.0-37-generic - Linux kernel headers for version 6.2.0 on 64 bit x86 SMP\n",
            "linux-headers-6.2.0-39-generic - Linux kernel headers for version 6.2.0 on 64 bit x86 SMP\n",
            "linux-headers-6.5.0-1003-oem - Linux kernel headers for version 6.5.0 on 64 bit x86 SMP\n",
            "linux-headers-6.5.0-1004-nvidia - Linux kernel headers for version 6.5.0 on 64 bit x86 SMP\n",
            "linux-headers-6.5.0-1004-oem - Linux kernel headers for version 6.5.0 on 64 bit x86 SMP\n",
            "linux-headers-6.5.0-1006-oem - Linux kernel headers for version 6.5.0 on 64 bit x86 SMP\n",
            "linux-headers-6.5.0-1007-azure - Linux kernel headers for version 6.5.0 on 64 bit x86 SMP\n",
            "linux-headers-6.5.0-1007-nvidia - Linux kernel headers for version 6.5.0 on 64 bit x86 SMP\n",
            "linux-headers-6.5.0-1007-oem - Linux kernel headers for version 6.5.0 on 64 bit x86 SMP\n",
            "linux-headers-6.5.0-1008-aws - Linux kernel headers for version 6.5.0 on 64 bit x86 SMP\n",
            "linux-headers-6.5.0-1008-oem - Linux kernel headers for version 6.5.0 on 64 bit x86 SMP\n",
            "linux-headers-6.5.0-1009-azure - Linux kernel headers for version 6.5.0 on 64 bit x86 SMP\n",
            "linux-headers-6.5.0-1009-oem - Linux kernel headers for version 6.5.0 on 64 bit x86 SMP\n",
            "linux-headers-6.5.0-1010-aws - Linux kernel headers for version 6.5.0 on 64 bit x86 SMP\n",
            "linux-headers-6.5.0-1010-azure - Linux kernel headers for version 6.5.0 on 64 bit x86 SMP\n",
            "linux-headers-6.5.0-1010-gcp - Linux kernel headers for version 6.5.0 on 64 bit x86 SMP\n",
            "linux-headers-6.5.0-1011-aws - Linux kernel headers for version 6.5.0 on 64 bit x86 SMP\n",
            "linux-headers-6.5.0-1011-azure - Linux kernel headers for version 6.5.0 on 64 bit x86 SMP\n",
            "linux-headers-6.5.0-1011-gcp - Linux kernel headers for version 6.5.0 on 64 bit x86 SMP\n",
            "linux-headers-6.5.0-1011-oem - Linux kernel headers for version 6.5.0 on 64 bit x86 SMP\n",
            "linux-headers-6.5.0-1012-aws - Linux kernel headers for version 6.5.0 on 64 bit x86 SMP\n",
            "linux-headers-6.5.0-1013-gcp - Linux kernel headers for version 6.5.0 on 64 bit x86 SMP\n",
            "linux-headers-6.5.0-1013-nvidia - Linux kernel headers for version 6.5.0 on 64 bit x86 SMP\n",
            "linux-headers-6.5.0-1013-oem - Linux kernel headers for version 6.5.0 on 64 bit x86 SMP\n",
            "linux-headers-6.5.0-1013-oracle - Oracle Linux kernel headers for version 6.5.0 on 64 bit x86 SMP\n",
            "linux-headers-6.5.0-1014-aws - Linux kernel headers for version 6.5.0 on 64 bit x86 SMP\n",
            "linux-headers-6.5.0-1014-gcp - Linux kernel headers for version 6.5.0 on 64 bit x86 SMP\n",
            "linux-headers-6.5.0-1014-nvidia - Linux kernel headers for version 6.5.0 on 64 bit x86 SMP\n",
            "linux-headers-6.5.0-1014-oem - Linux kernel headers for version 6.5.0 on 64 bit x86 SMP\n",
            "linux-headers-6.5.0-1014-oracle - Oracle Linux kernel headers for version 6.5.0 on 64 bit x86 SMP\n",
            "linux-headers-6.5.0-1015-aws - Linux kernel headers for version 6.5.0 on 64 bit x86 SMP\n",
            "linux-headers-6.5.0-1015-azure - Linux kernel headers for version 6.5.0 on 64 bit x86 SMP\n",
            "linux-headers-6.5.0-1015-gcp - Linux kernel headers for version 6.5.0 on 64 bit x86 SMP\n",
            "linux-headers-6.5.0-1015-nvidia - Linux kernel headers for version 6.5.0 on 64 bit x86 SMP\n",
            "linux-headers-6.5.0-1015-oem - Linux kernel headers for version 6.5.0 on 64 bit x86 SMP\n",
            "linux-headers-6.5.0-1015-oracle - Oracle Linux kernel headers for version 6.5.0 on 64 bit x86 SMP\n",
            "linux-headers-6.5.0-1016-aws - Linux kernel headers for version 6.5.0 on 64 bit x86 SMP\n",
            "linux-headers-6.5.0-1016-azure - Linux kernel headers for version 6.5.0 on 64 bit x86 SMP\n",
            "linux-headers-6.5.0-1016-gcp - Linux kernel headers for version 6.5.0 on 64 bit x86 SMP\n",
            "linux-headers-6.5.0-1016-oem - Linux kernel headers for version 6.5.0 on 64 bit x86 SMP\n",
            "linux-headers-6.5.0-1016-oracle - Oracle Linux kernel headers for version 6.5.0 on 64 bit x86 SMP\n",
            "linux-headers-6.5.0-1017-aws - Linux kernel headers for version 6.5.0 on 64 bit x86 SMP\n",
            "linux-headers-6.5.0-1017-azure - Linux kernel headers for version 6.5.0 on 64 bit x86 SMP\n",
            "linux-headers-6.5.0-1017-gcp - Linux kernel headers for version 6.5.0 on 64 bit x86 SMP\n",
            "linux-headers-6.5.0-1018-aws - Linux kernel headers for version 6.5.0 on 64 bit x86 SMP\n",
            "linux-headers-6.5.0-1018-azure - Linux kernel headers for version 6.5.0 on 64 bit x86 SMP\n",
            "linux-headers-6.5.0-1018-gcp - Linux kernel headers for version 6.5.0 on 64 bit x86 SMP\n",
            "linux-headers-6.5.0-1018-nvidia - Linux kernel headers for version 6.5.0 on 64 bit x86 SMP\n",
            "linux-headers-6.5.0-1018-oem - Linux kernel headers for version 6.5.0 on 64 bit x86 SMP\n",
            "linux-headers-6.5.0-1018-oracle - Oracle Linux kernel headers for version 6.5.0 on 64 bit x86 SMP\n",
            "linux-headers-6.5.0-1019-azure - Linux kernel headers for version 6.5.0 on 64 bit x86 SMP\n",
            "linux-headers-6.5.0-1019-nvidia - Linux kernel headers for version 6.5.0 on 64 bit x86 SMP\n",
            "linux-headers-6.5.0-1019-oem - Linux kernel headers for version 6.5.0 on 64 bit x86 SMP\n",
            "linux-headers-6.5.0-1019-oracle - Oracle Linux kernel headers for version 6.5.0 on 64 bit x86 SMP\n",
            "linux-headers-6.5.0-1020-aws - Linux kernel headers for version 6.5.0 on 64 bit x86 SMP\n",
            "linux-headers-6.5.0-1020-gcp - Linux kernel headers for version 6.5.0 on 64 bit x86 SMP\n",
            "linux-headers-6.5.0-1020-oem - Linux kernel headers for version 6.5.0 on 64 bit x86 SMP\n",
            "linux-headers-6.5.0-1020-oracle - Oracle Linux kernel headers for version 6.5.0 on 64 bit x86 SMP\n",
            "linux-headers-6.5.0-1021-aws - Linux kernel headers for version 6.5.0 on 64 bit x86 SMP\n",
            "linux-headers-6.5.0-1021-azure - Linux kernel headers for version 6.5.0 on 64 bit x86 SMP\n",
            "linux-headers-6.5.0-1021-nvidia - Linux kernel headers for version 6.5.0 on 64 bit x86 SMP\n",
            "linux-headers-6.5.0-1021-oracle - Oracle Linux kernel headers for version 6.5.0 on 64 bit x86 SMP\n",
            "linux-headers-6.5.0-1022-aws - Linux kernel headers for version 6.5.0 on 64 bit x86 SMP\n",
            "linux-headers-6.5.0-1022-azure - Linux kernel headers for version 6.5.0 on 64 bit x86 SMP\n",
            "linux-headers-6.5.0-1022-gcp - Linux kernel headers for version 6.5.0 on 64 bit x86 SMP\n",
            "linux-headers-6.5.0-1022-nvidia - Linux kernel headers for version 6.5.0 on 64 bit x86 SMP\n",
            "linux-headers-6.5.0-1022-oem - Linux kernel headers for version 6.5.0 on 64 bit x86 SMP\n",
            "linux-headers-6.5.0-1023-aws - Linux kernel headers for version 6.5.0 on 64 bit x86 SMP\n",
            "linux-headers-6.5.0-1023-azure - Linux kernel headers for version 6.5.0 on 64 bit x86 SMP\n",
            "linux-headers-6.5.0-1023-gcp - Linux kernel headers for version 6.5.0 on 64 bit x86 SMP\n",
            "linux-headers-6.5.0-1023-nvidia - Linux kernel headers for version 6.5.0 on 64 bit x86 SMP\n",
            "linux-headers-6.5.0-1023-oem - Linux kernel headers for version 6.5.0 on 64 bit x86 SMP\n",
            "linux-headers-6.5.0-1023-oracle - Oracle Linux kernel headers for version 6.5.0 on 64 bit x86 SMP\n",
            "linux-headers-6.5.0-1024-aws - Linux kernel headers for version 6.5.0 on 64 bit x86 SMP\n",
            "linux-headers-6.5.0-1024-azure - Linux kernel headers for version 6.5.0 on 64 bit x86 SMP\n",
            "linux-headers-6.5.0-1024-gcp - Linux kernel headers for version 6.5.0 on 64 bit x86 SMP\n",
            "linux-headers-6.5.0-1024-nvidia - Linux kernel headers for version 6.5.0 on 64 bit x86 SMP\n",
            "linux-headers-6.5.0-1024-oem - Linux kernel headers for version 6.5.0 on 64 bit x86 SMP\n",
            "linux-headers-6.5.0-1024-oracle - Oracle Linux kernel headers for version 6.5.0 on 64 bit x86 SMP\n",
            "linux-headers-6.5.0-1025-azure - Linux kernel headers for version 6.5.0 on 64 bit x86 SMP\n",
            "linux-headers-6.5.0-1025-gcp - Linux kernel headers for version 6.5.0 on 64 bit x86 SMP\n",
            "linux-headers-6.5.0-1025-oem - Linux kernel headers for version 6.5.0 on 64 bit x86 SMP\n",
            "linux-headers-6.5.0-1025-oracle - Oracle Linux kernel headers for version 6.5.0 on 64 bit x86 SMP\n",
            "linux-headers-6.5.0-1026-oracle - Oracle Linux kernel headers for version 6.5.0 on 64 bit x86 SMP\n",
            "linux-headers-6.5.0-1027-oem - Linux kernel headers for version 6.5.0 on 64 bit x86 SMP\n",
            "linux-headers-6.5.0-1027-oracle - Oracle Linux kernel headers for version 6.5.0 on 64 bit x86 SMP\n",
            "linux-headers-6.5.0-14-generic - Linux kernel headers for version 6.5.0 on 64 bit x86 SMP\n",
            "linux-headers-6.5.0-14-lowlatency - Linux kernel headers for version 6.5.0 on 64 bit x86 SMP\n",
            "linux-headers-6.5.0-15-generic - Linux kernel headers for version 6.5.0 on 64 bit x86 SMP\n",
            "linux-headers-6.5.0-15-lowlatency - Linux kernel headers for version 6.5.0 on 64 bit x86 SMP\n",
            "linux-headers-6.5.0-17-generic - Linux kernel headers for version 6.5.0 on 64 bit x86 SMP\n",
            "linux-headers-6.5.0-17-lowlatency - Linux kernel headers for version 6.5.0 on 64 bit x86 SMP\n",
            "linux-headers-6.5.0-18-generic - Linux kernel headers for version 6.5.0 on 64 bit x86 SMP\n",
            "linux-headers-6.5.0-21-generic - Linux kernel headers for version 6.5.0 on 64 bit x86 SMP\n",
            "linux-headers-6.5.0-21-lowlatency - Linux kernel headers for version 6.5.0 on 64 bit x86 SMP\n",
            "linux-headers-6.5.0-25-generic - Linux kernel headers for version 6.5.0 on 64 bit x86 SMP\n",
            "linux-headers-6.5.0-25-lowlatency - Linux kernel headers for version 6.5.0 on 64 bit x86 SMP\n",
            "linux-headers-6.5.0-26-generic - Linux kernel headers for version 6.5.0 on 64 bit x86 SMP\n",
            "linux-headers-6.5.0-26-lowlatency - Linux kernel headers for version 6.5.0 on 64 bit x86 SMP\n",
            "linux-headers-6.5.0-27-generic - Linux kernel headers for version 6.5.0 on 64 bit x86 SMP\n",
            "linux-headers-6.5.0-27-lowlatency - Linux kernel headers for version 6.5.0 on 64 bit x86 SMP\n",
            "linux-headers-6.5.0-28-generic - Linux kernel headers for version 6.5.0 on 64 bit x86 SMP\n",
            "linux-headers-6.5.0-28-lowlatency - Linux kernel headers for version 6.5.0 on 64 bit x86 SMP\n",
            "linux-headers-6.5.0-35-generic - Linux kernel headers for version 6.5.0 on 64 bit x86 SMP\n",
            "linux-headers-6.5.0-35-lowlatency - Linux kernel headers for version 6.5.0 on 64 bit x86 SMP\n",
            "linux-headers-6.5.0-41-generic - Linux kernel headers for version 6.5.0 on 64 bit x86 SMP\n",
            "linux-headers-6.5.0-41-lowlatency - Linux kernel headers for version 6.5.0 on 64 bit x86 SMP\n",
            "linux-headers-6.5.0-42-lowlatency - Linux kernel headers for version 6.5.0 on 64 bit x86 SMP\n",
            "linux-headers-6.5.0-44-generic - Linux kernel headers for version 6.5.0 on 64 bit x86 SMP\n",
            "linux-headers-6.5.0-44-lowlatency - Linux kernel headers for version 6.5.0 on 64 bit x86 SMP\n",
            "linux-headers-6.5.0-45-generic - Linux kernel headers for version 6.5.0 on 64 bit x86 SMP\n",
            "linux-headers-6.5.0-45-lowlatency - Linux kernel headers for version 6.5.0 on 64 bit x86 SMP\n",
            "linux-headers-6.8.0-1006-oracle - Linux kernel headers for version 6.8.0 on 64 bit x86 SMP\n",
            "linux-headers-6.8.0-1008-azure - Linux kernel headers for version 6.8.0 on 64 bit x86 SMP\n",
            "linux-headers-6.8.0-1008-ibm - Linux kernel headers for version 6.8.0 on 64 bit x86 SMP\n",
            "linux-headers-6.8.0-1008-nvidia - Linux kernel headers for version 6.8.0 on 64 bit x86 SMP\n",
            "linux-headers-6.8.0-1008-oracle - Linux kernel headers for version 6.8.0 on 64 bit x86 SMP\n",
            "linux-headers-6.8.0-1009-aws - Linux kernel headers for version 6.8.0 on 64 bit x86 SMP\n",
            "linux-headers-6.8.0-1009-azure - Linux kernel headers for version 6.8.0 on 64 bit x86 SMP\n",
            "linux-headers-6.8.0-1009-nvidia - Linux kernel headers for version 6.8.0 on 64 bit x86 SMP\n",
            "linux-headers-6.8.0-1010-aws - Linux kernel headers for version 6.8.0 on 64 bit x86 SMP\n",
            "linux-headers-6.8.0-1010-azure - Linux kernel headers for version 6.8.0 on 64 bit x86 SMP\n",
            "linux-headers-6.8.0-1010-gcp - Linux kernel headers for version 6.8.0 on 64 bit x86 SMP\n",
            "linux-headers-6.8.0-1010-ibm - Linux kernel headers for version 6.8.0 on 64 bit x86 SMP\n",
            "linux-headers-6.8.0-1010-nvidia - Linux kernel headers for version 6.8.0 on 64 bit x86 SMP\n",
            "linux-headers-6.8.0-1010-oracle - Linux kernel headers for version 6.8.0 on 64 bit x86 SMP\n",
            "linux-headers-6.8.0-1011-aws - Linux kernel headers for version 6.8.0 on 64 bit x86 SMP\n",
            "linux-headers-6.8.0-1011-gcp - Linux kernel headers for version 6.8.0 on 64 bit x86 SMP\n",
            "linux-headers-6.8.0-1011-ibm - Linux kernel headers for version 6.8.0 on 64 bit x86 SMP\n",
            "linux-headers-6.8.0-1011-nvidia - Linux kernel headers for version 6.8.0 on 64 bit x86 SMP\n",
            "linux-headers-6.8.0-1011-oracle - Linux kernel headers for version 6.8.0 on 64 bit x86 SMP\n",
            "linux-headers-6.8.0-1012-azure - Linux kernel headers for version 6.8.0 on 64 bit x86 SMP\n",
            "linux-headers-6.8.0-1012-gcp - Linux kernel headers for version 6.8.0 on 64 bit x86 SMP\n",
            "linux-headers-6.8.0-1012-ibm - Linux kernel headers for version 6.8.0 on 64 bit x86 SMP\n",
            "linux-headers-6.8.0-1012-nvidia - Linux kernel headers for version 6.8.0 on 64 bit x86 SMP\n",
            "linux-headers-6.8.0-1012-oracle - Linux kernel headers for version 6.8.0 on 64 bit x86 SMP\n",
            "linux-headers-6.8.0-1013-aws - Linux kernel headers for version 6.8.0 on 64 bit x86 SMP\n",
            "linux-headers-6.8.0-1013-azure - Linux kernel headers for version 6.8.0 on 64 bit x86 SMP\n",
            "linux-headers-6.8.0-1013-gcp - Linux kernel headers for version 6.8.0 on 64 bit x86 SMP\n",
            "linux-headers-6.8.0-1013-ibm - Linux kernel headers for version 6.8.0 on 64 bit x86 SMP\n",
            "linux-headers-6.8.0-1013-nvidia - Linux kernel headers for version 6.8.0 on 64 bit x86 SMP\n",
            "linux-headers-6.8.0-1013-oracle - Linux kernel headers for version 6.8.0 on 64 bit x86 SMP\n",
            "linux-headers-6.8.0-1014-aws - Linux kernel headers for version 6.8.0 on 64 bit x86 SMP\n",
            "linux-headers-6.8.0-1014-azure - Linux kernel headers for version 6.8.0 on 64 bit x86 SMP\n",
            "linux-headers-6.8.0-1014-gcp - Linux kernel headers for version 6.8.0 on 64 bit x86 SMP\n",
            "linux-headers-6.8.0-1014-ibm - Linux kernel headers for version 6.8.0 on 64 bit x86 SMP\n",
            "linux-headers-6.8.0-1014-nvidia - Linux kernel headers for version 6.8.0 on 64 bit x86 SMP\n",
            "linux-headers-6.8.0-1014-oracle - Linux kernel headers for version 6.8.0 on 64 bit x86 SMP\n",
            "linux-headers-6.8.0-1015-aws - Linux kernel headers for version 6.8.0 on 64 bit x86 SMP\n",
            "linux-headers-6.8.0-1015-azure - Linux kernel headers for version 6.8.0 on 64 bit x86 SMP\n",
            "linux-headers-6.8.0-1015-gcp - Linux kernel headers for version 6.8.0 on 64 bit x86 SMP\n",
            "linux-headers-6.8.0-1015-ibm - Linux kernel headers for version 6.8.0 on 64 bit x86 SMP\n",
            "linux-headers-6.8.0-1015-nvidia - Linux kernel headers for version 6.8.0 on 64 bit x86 SMP\n",
            "linux-headers-6.8.0-1015-oracle - Linux kernel headers for version 6.8.0 on 64 bit x86 SMP\n",
            "linux-headers-6.8.0-1016-aws - Linux kernel headers for version 6.8.0 on 64 bit x86 SMP\n",
            "linux-headers-6.8.0-1016-gcp - Linux kernel headers for version 6.8.0 on 64 bit x86 SMP\n",
            "linux-headers-6.8.0-1016-ibm - Linux kernel headers for version 6.8.0 on 64 bit x86 SMP\n",
            "linux-headers-6.8.0-1016-oracle - Linux kernel headers for version 6.8.0 on 64 bit x86 SMP\n",
            "linux-headers-6.8.0-1017-aws - Linux kernel headers for version 6.8.0 on 64 bit x86 SMP\n",
            "linux-headers-6.8.0-1017-azure - Linux kernel headers for version 6.8.0 on 64 bit x86 SMP\n",
            "linux-headers-6.8.0-1017-gcp - Linux kernel headers for version 6.8.0 on 64 bit x86 SMP\n",
            "linux-headers-6.8.0-1017-ibm - Linux kernel headers for version 6.8.0 on 64 bit x86 SMP\n",
            "linux-headers-6.8.0-1017-nvidia - Linux kernel headers for version 6.8.0 on 64 bit x86 SMP\n",
            "linux-headers-6.8.0-1017-oracle - Linux kernel headers for version 6.8.0 on 64 bit x86 SMP\n",
            "linux-headers-6.8.0-1018-aws - Linux kernel headers for version 6.8.0 on 64 bit x86 SMP\n",
            "linux-headers-6.8.0-1018-azure - Linux kernel headers for version 6.8.0 on 64 bit x86 SMP\n",
            "linux-headers-6.8.0-1018-gcp - Linux kernel headers for version 6.8.0 on 64 bit x86 SMP\n",
            "linux-headers-6.8.0-1018-ibm - Linux kernel headers for version 6.8.0 on 64 bit x86 SMP\n",
            "linux-headers-6.8.0-1018-nvidia - Linux kernel headers for version 6.8.0 on 64 bit x86 SMP\n",
            "linux-headers-6.8.0-1018-oracle - Linux kernel headers for version 6.8.0 on 64 bit x86 SMP\n",
            "linux-headers-6.8.0-1019-aws - Linux kernel headers for version 6.8.0 on 64 bit x86 SMP\n",
            "linux-headers-6.8.0-1019-gcp - Linux kernel headers for version 6.8.0 on 64 bit x86 SMP\n",
            "linux-headers-6.8.0-1019-ibm - Linux kernel headers for version 6.8.0 on 64 bit x86 SMP\n",
            "linux-headers-6.8.0-1019-nvidia - Linux kernel headers for version 6.8.0 on 64 bit x86 SMP\n",
            "linux-headers-6.8.0-1019-oracle - Linux kernel headers for version 6.8.0 on 64 bit x86 SMP\n",
            "linux-headers-6.8.0-1020-aws - Linux kernel headers for version 6.8.0 on 64 bit x86 SMP\n",
            "linux-headers-6.8.0-1020-azure - Linux kernel headers for version 6.8.0 on 64 bit x86 SMP\n",
            "linux-headers-6.8.0-1020-gcp - Linux kernel headers for version 6.8.0 on 64 bit x86 SMP\n",
            "linux-headers-6.8.0-1020-nvidia - Linux kernel headers for version 6.8.0 on 64 bit x86 SMP\n",
            "linux-headers-6.8.0-1020-oracle - Linux kernel headers for version 6.8.0 on 64 bit x86 SMP\n",
            "linux-headers-6.8.0-1021-aws - Linux kernel headers for version 6.8.0 on 64 bit x86 SMP\n",
            "linux-headers-6.8.0-1021-azure - Linux kernel headers for version 6.8.0 on 64 bit x86 SMP\n",
            "linux-headers-6.8.0-1021-gcp - Linux kernel headers for version 6.8.0 on 64 bit x86 SMP\n",
            "linux-headers-6.8.0-1021-nvidia - Linux kernel headers for version 6.8.0 on 64 bit x86 SMP\n",
            "linux-headers-6.8.0-1021-oracle - Linux kernel headers for version 6.8.0 on 64 bit x86 SMP\n",
            "linux-headers-6.8.0-1022-nvidia - Linux kernel headers for version 6.8.0 on 64 bit x86 SMP\n",
            "linux-headers-6.8.0-1022-oracle - Linux kernel headers for version 6.8.0 on 64 bit x86 SMP\n",
            "linux-headers-6.8.0-1023-aws - Linux kernel headers for version 6.8.0 on 64 bit x86 SMP\n",
            "linux-headers-6.8.0-1023-nvidia - Linux kernel headers for version 6.8.0 on 64 bit x86 SMP\n",
            "linux-headers-6.8.0-1024-aws - Linux kernel headers for version 6.8.0 on 64 bit x86 SMP\n",
            "linux-headers-6.8.0-1024-gcp - Linux kernel headers for version 6.8.0 on 64 bit x86 SMP\n",
            "linux-headers-6.8.0-1025-gcp - Linux kernel headers for version 6.8.0 on 64 bit x86 SMP\n",
            "linux-headers-6.8.0-38-generic - Linux kernel headers for version 6.8.0 on 64 bit x86 SMP\n",
            "linux-headers-6.8.0-38-lowlatency - Linux kernel headers for version 6.8.0 on 64 bit x86 SMP\n",
            "linux-headers-6.8.0-39-generic - Linux kernel headers for version 6.8.0 on 64 bit x86 SMP\n",
            "linux-headers-6.8.0-40-generic - Linux kernel headers for version 6.8.0 on 64 bit x86 SMP\n",
            "linux-headers-6.8.0-40-lowlatency - Linux kernel headers for version 6.8.0 on 64 bit x86 SMP\n",
            "linux-headers-6.8.0-44-lowlatency - Linux kernel headers for version 6.8.0 on 64 bit x86 SMP\n",
            "linux-headers-6.8.0-45-generic - Linux kernel headers for version 6.8.0 on 64 bit x86 SMP\n",
            "linux-headers-6.8.0-45-lowlatency - Linux kernel headers for version 6.8.0 on 64 bit x86 SMP\n",
            "linux-headers-6.8.0-47-generic - Linux kernel headers for version 6.8.0 on 64 bit x86 SMP\n",
            "linux-headers-6.8.0-47-lowlatency - Linux kernel headers for version 6.8.0 on 64 bit x86 SMP\n",
            "linux-headers-6.8.0-48-generic - Linux kernel headers for version 6.8.0 on 64 bit x86 SMP\n",
            "linux-headers-6.8.0-48-lowlatency - Linux kernel headers for version 6.8.0 on 64 bit x86 SMP\n",
            "linux-headers-6.8.0-49-generic - Linux kernel headers for version 6.8.0 on 64 bit x86 SMP\n",
            "linux-headers-6.8.0-49-lowlatency - Linux kernel headers for version 6.8.0 on 64 bit x86 SMP\n",
            "linux-headers-6.8.0-50-generic - Linux kernel headers for version 6.8.0 on 64 bit x86 SMP\n",
            "linux-headers-6.8.0-50-lowlatency - Linux kernel headers for version 6.8.0 on 64 bit x86 SMP\n",
            "linux-headers-6.8.0-51-generic - Linux kernel headers for version 6.8.0 on 64 bit x86 SMP\n",
            "linux-headers-6.8.0-51-lowlatency - Linux kernel headers for version 6.8.0 on 64 bit x86 SMP\n",
            "linux-headers-6.8.0-52-generic - Linux kernel headers for version 6.8.0 on 64 bit x86 SMP\n",
            "linux-headers-6.8.0-52-lowlatency - Linux kernel headers for version 6.8.0 on 64 bit x86 SMP\n",
            "linux-headers-6.8.0-54-lowlatency - Linux kernel headers for version 6.8.0 on 64 bit x86 SMP\n",
            "linux-headers-6.8.0-55-lowlatency - Linux kernel headers for version 6.8.0 on 64 bit x86 SMP\n",
            "linux-headers-6.8.0-56-lowlatency - Linux kernel headers for version 6.8.0 on 64 bit x86 SMP\n",
            "linux-headers-aws-edge - Linux kernel headers for Amazon Web Services (AWS) systems.\n",
            "linux-headers-aws-lts-22.04 - Linux kernel headers for Amazon Web Services (AWS) systems.\n",
            "linux-headers-azure-edge - Linux kernel headers for Azure systems.\n",
            "linux-headers-azure-fde - Linux kernel headers for Azure systems.\n",
            "linux-headers-azure-fde-edge - Linux kernel headers for Azure systems.\n",
            "linux-headers-azure-fde-lts-22.04 - Linux kernel headers for Azure systems.\n",
            "linux-headers-azure-lts-22.04 - Linux kernel headers for Azure systems.\n",
            "linux-headers-gcp-edge - Google Cloud Platform (GCP) Linux kernel headers\n",
            "linux-headers-gcp-lts-22.04 - Google Cloud Platform (GCP) Linux kernel headers\n",
            "linux-headers-gkeop - Headers for the GKEOP kernel\n",
            "linux-headers-gkeop-5.15 - Headers for the GKEOP kernel\n",
            "linux-headers-ibm-edge - IBM Cloud Platform (ibm) Linux kernel headers\n",
            "linux-headers-nvidia - Linux kernel headers for Nvidia systems.\n",
            "linux-headers-nvidia-6.2 - Nvidia Linux kernel headers\n",
            "linux-headers-nvidia-6.5 - Nvidia Linux kernel headers\n",
            "linux-headers-nvidia-6.8 - Nvidia Linux kernel headers\n",
            "linux-headers-nvidia-edge - Nvidia Linux kernel headers\n",
            "linux-headers-nvidia-hwe-22.04 - Nvidia Linux kernel headers\n",
            "linux-headers-nvidia-hwe-22.04-edge - Nvidia Linux kernel headers\n",
            "linux-headers-nvidia-hwe-22.04-wip - Nvidia Linux kernel headers\n",
            "linux-headers-nvidia-lowlatency - Linux kernel headers for Nvidia systems.\n",
            "linux-headers-oem-22.04 - OEM Linux kernel headers (transitional package)\n",
            "linux-headers-oem-22.04a - OEM Linux kernel headers (transitional package)\n",
            "linux-headers-oem-22.04b - OEM Linux kernel headers (transitional package)\n",
            "linux-headers-oem-22.04c - OEM Linux kernel headers (transitional package)\n",
            "linux-headers-oem-22.04d - OEM Linux kernel headers (transitional package)\n",
            "linux-headers-oracle-edge - Linux kernel headers for Oracle systems.\n",
            "linux-headers-oracle-lts-22.04 - Linux kernel headers for Oracle systems.\n",
            "linux-headers-5.15.0-1019-gkeop - Linux kernel headers for version 5.15.0 on 64 bit x86 SMP\n",
            "linux-headers-5.15.0-1020-gkeop - Linux kernel headers for version 5.15.0 on 64 bit x86 SMP\n",
            "linux-headers-5.15.0-1021-gkeop - Linux kernel headers for version 5.15.0 on 64 bit x86 SMP\n",
            "linux-headers-5.15.0-1022-gkeop - Linux kernel headers for version 5.15.0 on 64 bit x86 SMP\n",
            "linux-headers-5.15.0-1023-gkeop - Linux kernel headers for version 5.15.0 on 64 bit x86 SMP\n",
            "linux-headers-5.15.0-1024-gkeop - Linux kernel headers for version 5.15.0 on 64 bit x86 SMP\n",
            "linux-headers-5.15.0-1025-gkeop - Linux kernel headers for version 5.15.0 on 64 bit x86 SMP\n",
            "linux-headers-5.15.0-1026-gkeop - Linux kernel headers for version 5.15.0 on 64 bit x86 SMP\n",
            "linux-headers-5.15.0-1027-gkeop - Linux kernel headers for version 5.15.0 on 64 bit x86 SMP\n",
            "linux-headers-5.15.0-1028-gkeop - Linux kernel headers for version 5.15.0 on 64 bit x86 SMP\n",
            "linux-headers-5.15.0-1030-gkeop - Linux kernel headers for version 5.15.0 on 64 bit x86 SMP\n",
            "linux-headers-5.15.0-1031-gkeop - Linux kernel headers for version 5.15.0 on 64 bit x86 SMP\n",
            "linux-headers-5.15.0-1032-realtime - Linux kernel headers for version 5.15.0 on 64 bit x86 SMP\n",
            "linux-headers-5.19.0-1010-nvidia - Linux kernel headers for version 5.19.0 on 64 bit x86 SMP\n",
            "linux-headers-5.19.0-1010-nvidia-lowlatency - Linux kernel headers for version 5.19.0 on 64 bit x86 SMP\n",
            "linux-headers-5.19.0-1014-nvidia - Linux kernel headers for version 5.19.0 on 64 bit x86 SMP\n",
            "linux-headers-5.19.0-1014-nvidia-lowlatency - Linux kernel headers for version 5.19.0 on 64 bit x86 SMP\n",
            "linux-headers-5.19.0-1022-oracle - Oracle Linux kernel headers for version 5.19.0 on 64 bit x86 SMP\n",
            "linux-headers-nvidia-5.19 - Nvidia-5.19 Linux kernel headers\n",
            "linux-headers-nvidia-lowlatency-5.19 - Nvidia-5.19 Linux kernel headers\n",
            "linux-headers-nvidia-lowlatency-edge - Nvidia-5.19 Linux kernel headers\n",
            "linux-headers-realtime - Linux kernel headers for real-time systems.\n",
            "linux-headers-azure-fde-5.19-edge - Linux kernel headers for Azure systems.\n"
          ]
        }
      ]
    },
    {
      "cell_type": "code",
      "source": [
        "!sudo apt install -y linux-headers-generic\n"
      ],
      "metadata": {
        "colab": {
          "base_uri": "https://localhost:8080/"
        },
        "id": "1Jmb1E5D8BsT",
        "outputId": "02045079-66ef-43e4-ca9d-a422b820cb3b"
      },
      "execution_count": 36,
      "outputs": [
        {
          "output_type": "stream",
          "name": "stdout",
          "text": [
            "Reading package lists... Done\n",
            "Building dependency tree... Done\n",
            "Reading state information... Done\n",
            "linux-headers-generic is already the newest version (5.15.0.135.133).\n",
            "The following packages were automatically installed and are no longer required:\n",
            "  linux-headers-5.15.0-134 linux-headers-5.15.0-134-generic\n",
            "Use 'sudo apt autoremove' to remove them.\n",
            "0 upgraded, 0 newly installed, 0 to remove and 31 not upgraded.\n"
          ]
        }
      ]
    },
    {
      "cell_type": "code",
      "source": [
        "!sudo apt install linux-image-5.15.0-135-generic linux-headers-5.15.0-135-generic\n"
      ],
      "metadata": {
        "colab": {
          "base_uri": "https://localhost:8080/"
        },
        "id": "wQ_qEgSY8lmX",
        "outputId": "6cabce0d-a688-428a-d18a-2fb7f1231298"
      },
      "execution_count": 37,
      "outputs": [
        {
          "output_type": "stream",
          "name": "stdout",
          "text": [
            "Reading package lists... Done\n",
            "Building dependency tree... Done\n",
            "Reading state information... Done\n",
            "linux-headers-5.15.0-135-generic is already the newest version (5.15.0-135.146).\n",
            "linux-headers-5.15.0-135-generic set to manually installed.\n",
            "The following packages were automatically installed and are no longer required:\n",
            "  linux-headers-5.15.0-134 linux-headers-5.15.0-134-generic\n",
            "Use 'sudo apt autoremove' to remove them.\n",
            "The following additional packages will be installed:\n",
            "  busybox-initramfs cpio gettext-base grub-common grub-gfxpayload-lists\n",
            "  grub-pc grub-pc-bin grub2-common initramfs-tools initramfs-tools-bin\n",
            "  initramfs-tools-core klibc-utils libefiboot1 libefivar1 libfuse3-3 libklibc\n",
            "  linux-base linux-modules-5.15.0-135-generic os-prober systemd-hwe-hwdb udev\n",
            "  zstd\n",
            "Suggested packages:\n",
            "  libarchive1 multiboot-doc grub-emu mtools xorriso desktop-base console-setup\n",
            "  bash-completion fuse3 fdutils linux-doc | linux-source-5.15.0 linux-tools\n",
            "  linux-modules-extra-5.15.0-135-generic\n",
            "The following NEW packages will be installed:\n",
            "  busybox-initramfs cpio gettext-base grub-common grub-gfxpayload-lists\n",
            "  grub-pc grub-pc-bin grub2-common initramfs-tools initramfs-tools-bin\n",
            "  initramfs-tools-core klibc-utils libefiboot1 libefivar1 libfuse3-3 libklibc\n",
            "  linux-base linux-image-5.15.0-135-generic linux-modules-5.15.0-135-generic\n",
            "  os-prober systemd-hwe-hwdb udev zstd\n",
            "0 upgraded, 23 newly installed, 0 to remove and 31 not upgraded.\n",
            "Need to get 41.2 MB of archives.\n",
            "After this operation, 162 MB of additional disk space will be used.\n",
            "Get:1 http://archive.ubuntu.com/ubuntu jammy-updates/main amd64 udev amd64 249.11-0ubuntu3.12 [1,557 kB]\n",
            "Get:2 http://archive.ubuntu.com/ubuntu jammy-updates/main amd64 cpio amd64 2.13+dfsg-7ubuntu0.1 [84.5 kB]\n",
            "Get:3 http://archive.ubuntu.com/ubuntu jammy/main amd64 gettext-base amd64 0.21-4ubuntu4 [37.8 kB]\n",
            "Get:4 http://archive.ubuntu.com/ubuntu jammy/main amd64 libfuse3-3 amd64 3.10.5-1build1 [81.2 kB]\n",
            "Get:5 http://archive.ubuntu.com/ubuntu jammy-updates/main amd64 busybox-initramfs amd64 1:1.30.1-7ubuntu3.1 [177 kB]\n",
            "Get:6 http://archive.ubuntu.com/ubuntu jammy/main amd64 libefivar1 amd64 37-6ubuntu2 [51.0 kB]\n",
            "Get:7 http://archive.ubuntu.com/ubuntu jammy/main amd64 libefiboot1 amd64 37-6ubuntu2 [42.8 kB]\n",
            "Get:8 http://archive.ubuntu.com/ubuntu jammy-updates/main amd64 grub-common amd64 2.06-2ubuntu7.2 [2,214 kB]\n",
            "Get:9 http://archive.ubuntu.com/ubuntu jammy-updates/main amd64 grub2-common amd64 2.06-2ubuntu7.2 [652 kB]\n",
            "Get:10 http://archive.ubuntu.com/ubuntu jammy-updates/main amd64 grub-pc-bin amd64 2.06-2ubuntu7.2 [1,083 kB]\n",
            "Get:11 http://archive.ubuntu.com/ubuntu jammy-updates/main amd64 grub-pc amd64 2.06-2ubuntu7.2 [132 kB]\n",
            "Get:12 http://archive.ubuntu.com/ubuntu jammy/main amd64 grub-gfxpayload-lists amd64 0.7 [3,658 B]\n",
            "Get:13 http://archive.ubuntu.com/ubuntu jammy-updates/main amd64 initramfs-tools-bin amd64 0.140ubuntu13.4 [9,300 B]\n",
            "Get:14 http://archive.ubuntu.com/ubuntu jammy-updates/main amd64 libklibc amd64 2.0.10-4ubuntu0.1 [46.0 kB]\n",
            "Get:15 http://archive.ubuntu.com/ubuntu jammy-updates/main amd64 klibc-utils amd64 2.0.10-4ubuntu0.1 [99.9 kB]\n",
            "Get:16 http://archive.ubuntu.com/ubuntu jammy/main amd64 zstd amd64 1.4.8+dfsg-3build1 [603 kB]\n",
            "Get:17 http://archive.ubuntu.com/ubuntu jammy-updates/main amd64 initramfs-tools-core all 0.140ubuntu13.4 [47.8 kB]\n",
            "Get:18 http://archive.ubuntu.com/ubuntu jammy/main amd64 linux-base all 4.5ubuntu9 [17.8 kB]\n",
            "Get:19 http://archive.ubuntu.com/ubuntu jammy-updates/main amd64 initramfs-tools all 0.140ubuntu13.4 [9,042 B]\n",
            "Get:20 http://archive.ubuntu.com/ubuntu jammy-updates/main amd64 linux-modules-5.15.0-135-generic amd64 5.15.0-135.146 [22.7 MB]\n",
            "Get:21 http://archive.ubuntu.com/ubuntu jammy-updates/main amd64 linux-image-5.15.0-135-generic amd64 5.15.0-135.146 [11.6 MB]\n",
            "Get:22 http://archive.ubuntu.com/ubuntu jammy/main amd64 os-prober amd64 1.79ubuntu2 [19.3 kB]\n",
            "Get:23 http://archive.ubuntu.com/ubuntu jammy-updates/main amd64 systemd-hwe-hwdb all 249.11.5 [3,228 B]\n",
            "Fetched 41.2 MB in 3s (12.7 MB/s)\n",
            "debconf: unable to initialize frontend: Dialog\n",
            "debconf: (No usable dialog-like program is installed, so the dialog based frontend cannot be used. at /usr/share/perl5/Debconf/FrontEnd/Dialog.pm line 78, <> line 23.)\n",
            "debconf: falling back to frontend: Readline\n",
            "debconf: unable to initialize frontend: Readline\n",
            "debconf: (This frontend requires a controlling tty.)\n",
            "debconf: falling back to frontend: Teletype\n",
            "dpkg-preconfigure: unable to re-open stdin: \n",
            "Selecting previously unselected package udev.\n",
            "(Reading database ... 154476 files and directories currently installed.)\n",
            "Preparing to unpack .../00-udev_249.11-0ubuntu3.12_amd64.deb ...\n",
            "Unpacking udev (249.11-0ubuntu3.12) ...\n",
            "Selecting previously unselected package cpio.\n",
            "Preparing to unpack .../01-cpio_2.13+dfsg-7ubuntu0.1_amd64.deb ...\n",
            "Unpacking cpio (2.13+dfsg-7ubuntu0.1) ...\n",
            "Selecting previously unselected package gettext-base.\n",
            "Preparing to unpack .../02-gettext-base_0.21-4ubuntu4_amd64.deb ...\n",
            "Unpacking gettext-base (0.21-4ubuntu4) ...\n",
            "Selecting previously unselected package libfuse3-3:amd64.\n",
            "Preparing to unpack .../03-libfuse3-3_3.10.5-1build1_amd64.deb ...\n",
            "Unpacking libfuse3-3:amd64 (3.10.5-1build1) ...\n",
            "Selecting previously unselected package busybox-initramfs.\n",
            "Preparing to unpack .../04-busybox-initramfs_1%3a1.30.1-7ubuntu3.1_amd64.deb ...\n",
            "Unpacking busybox-initramfs (1:1.30.1-7ubuntu3.1) ...\n",
            "Selecting previously unselected package libefivar1:amd64.\n",
            "Preparing to unpack .../05-libefivar1_37-6ubuntu2_amd64.deb ...\n",
            "Unpacking libefivar1:amd64 (37-6ubuntu2) ...\n",
            "Selecting previously unselected package libefiboot1:amd64.\n",
            "Preparing to unpack .../06-libefiboot1_37-6ubuntu2_amd64.deb ...\n",
            "Unpacking libefiboot1:amd64 (37-6ubuntu2) ...\n",
            "Selecting previously unselected package grub-common.\n",
            "Preparing to unpack .../07-grub-common_2.06-2ubuntu7.2_amd64.deb ...\n",
            "Unpacking grub-common (2.06-2ubuntu7.2) ...\n",
            "Selecting previously unselected package grub2-common.\n",
            "Preparing to unpack .../08-grub2-common_2.06-2ubuntu7.2_amd64.deb ...\n",
            "Unpacking grub2-common (2.06-2ubuntu7.2) ...\n",
            "Selecting previously unselected package grub-pc-bin.\n",
            "Preparing to unpack .../09-grub-pc-bin_2.06-2ubuntu7.2_amd64.deb ...\n",
            "Unpacking grub-pc-bin (2.06-2ubuntu7.2) ...\n",
            "Selecting previously unselected package grub-pc.\n",
            "Preparing to unpack .../10-grub-pc_2.06-2ubuntu7.2_amd64.deb ...\n",
            "Unpacking grub-pc (2.06-2ubuntu7.2) ...\n",
            "Selecting previously unselected package grub-gfxpayload-lists.\n",
            "Preparing to unpack .../11-grub-gfxpayload-lists_0.7_amd64.deb ...\n",
            "Unpacking grub-gfxpayload-lists (0.7) ...\n",
            "Selecting previously unselected package initramfs-tools-bin.\n",
            "Preparing to unpack .../12-initramfs-tools-bin_0.140ubuntu13.4_amd64.deb ...\n",
            "Unpacking initramfs-tools-bin (0.140ubuntu13.4) ...\n",
            "Selecting previously unselected package libklibc:amd64.\n",
            "Preparing to unpack .../13-libklibc_2.0.10-4ubuntu0.1_amd64.deb ...\n",
            "Unpacking libklibc:amd64 (2.0.10-4ubuntu0.1) ...\n",
            "Selecting previously unselected package klibc-utils.\n",
            "Preparing to unpack .../14-klibc-utils_2.0.10-4ubuntu0.1_amd64.deb ...\n",
            "Unpacking klibc-utils (2.0.10-4ubuntu0.1) ...\n",
            "Selecting previously unselected package zstd.\n",
            "Preparing to unpack .../15-zstd_1.4.8+dfsg-3build1_amd64.deb ...\n",
            "Unpacking zstd (1.4.8+dfsg-3build1) ...\n",
            "Selecting previously unselected package initramfs-tools-core.\n",
            "Preparing to unpack .../16-initramfs-tools-core_0.140ubuntu13.4_all.deb ...\n",
            "Unpacking initramfs-tools-core (0.140ubuntu13.4) ...\n",
            "Selecting previously unselected package linux-base.\n",
            "Preparing to unpack .../17-linux-base_4.5ubuntu9_all.deb ...\n",
            "Unpacking linux-base (4.5ubuntu9) ...\n",
            "Selecting previously unselected package initramfs-tools.\n",
            "Preparing to unpack .../18-initramfs-tools_0.140ubuntu13.4_all.deb ...\n",
            "Unpacking initramfs-tools (0.140ubuntu13.4) ...\n",
            "Selecting previously unselected package linux-modules-5.15.0-135-generic.\n",
            "Preparing to unpack .../19-linux-modules-5.15.0-135-generic_5.15.0-135.146_amd64.deb ...\n",
            "Unpacking linux-modules-5.15.0-135-generic (5.15.0-135.146) ...\n",
            "Selecting previously unselected package linux-image-5.15.0-135-generic.\n",
            "Preparing to unpack .../20-linux-image-5.15.0-135-generic_5.15.0-135.146_amd64.deb ...\n",
            "Unpacking linux-image-5.15.0-135-generic (5.15.0-135.146) ...\n",
            "Selecting previously unselected package os-prober.\n",
            "Preparing to unpack .../21-os-prober_1.79ubuntu2_amd64.deb ...\n",
            "Unpacking os-prober (1.79ubuntu2) ...\n",
            "Selecting previously unselected package systemd-hwe-hwdb.\n",
            "Preparing to unpack .../22-systemd-hwe-hwdb_249.11.5_all.deb ...\n",
            "Unpacking systemd-hwe-hwdb (249.11.5) ...\n",
            "Setting up cpio (2.13+dfsg-7ubuntu0.1) ...\n",
            "update-alternatives: using /bin/mt-gnu to provide /bin/mt (mt) in auto mode\n",
            "Setting up linux-base (4.5ubuntu9) ...\n",
            "debconf: unable to initialize frontend: Dialog\n",
            "debconf: (No usable dialog-like program is installed, so the dialog based frontend cannot be used. at /usr/share/perl5/Debconf/FrontEnd/Dialog.pm line 78.)\n",
            "debconf: falling back to frontend: Readline\n",
            "Setting up gettext-base (0.21-4ubuntu4) ...\n",
            "Setting up libklibc:amd64 (2.0.10-4ubuntu0.1) ...\n",
            "Setting up udev (249.11-0ubuntu3.12) ...\n",
            "invoke-rc.d: could not determine current runlevel\n",
            "invoke-rc.d: policy-rc.d denied execution of start.\n",
            "Setting up libfuse3-3:amd64 (3.10.5-1build1) ...\n",
            "Setting up busybox-initramfs (1:1.30.1-7ubuntu3.1) ...\n",
            "Setting up systemd-hwe-hwdb (249.11.5) ...\n",
            "Setting up libefivar1:amd64 (37-6ubuntu2) ...\n",
            "Setting up klibc-utils (2.0.10-4ubuntu0.1) ...\n",
            "No diversion 'diversion of /usr/share/initramfs-tools/hooks/klibc to /usr/share/initramfs-tools/hooks/klibc^i-t by klibc-utils', none removed.\n",
            "Setting up zstd (1.4.8+dfsg-3build1) ...\n",
            "Setting up initramfs-tools-bin (0.140ubuntu13.4) ...\n",
            "Setting up libefiboot1:amd64 (37-6ubuntu2) ...\n",
            "Setting up grub-common (2.06-2ubuntu7.2) ...\n",
            "Created symlink /etc/systemd/system/multi-user.target.wants/grub-common.service → /lib/systemd/system/grub-common.service.\n",
            "Created symlink /etc/systemd/system/sleep.target.wants/grub-common.service → /lib/systemd/system/grub-common.service.\n",
            "Created symlink /etc/systemd/system/multi-user.target.wants/grub-initrd-fallback.service → /lib/systemd/system/grub-initrd-fallback.service.\n",
            "Created symlink /etc/systemd/system/rescue.target.wants/grub-initrd-fallback.service → /lib/systemd/system/grub-initrd-fallback.service.\n",
            "Created symlink /etc/systemd/system/emergency.target.wants/grub-initrd-fallback.service → /lib/systemd/system/grub-initrd-fallback.service.\n",
            "Created symlink /etc/systemd/system/sleep.target.wants/grub-initrd-fallback.service → /lib/systemd/system/grub-initrd-fallback.service.\n",
            "update-rc.d: warning: start and stop actions are no longer supported; falling back to defaults\n",
            "invoke-rc.d: could not determine current runlevel\n",
            "invoke-rc.d: policy-rc.d denied execution of start.\n",
            "Setting up os-prober (1.79ubuntu2) ...\n",
            "Setting up initramfs-tools-core (0.140ubuntu13.4) ...\n",
            "Setting up initramfs-tools (0.140ubuntu13.4) ...\n",
            "update-initramfs: deferring update (trigger activated)\n",
            "Setting up grub2-common (2.06-2ubuntu7.2) ...\n",
            "Setting up grub-pc-bin (2.06-2ubuntu7.2) ...\n",
            "Setting up linux-image-5.15.0-135-generic (5.15.0-135.146) ...\n",
            "I: /boot/vmlinuz.old is now a symlink to vmlinuz-5.15.0-135-generic\n",
            "I: /boot/initrd.img.old is now a symlink to initrd.img-5.15.0-135-generic\n",
            "I: /boot/vmlinuz is now a symlink to vmlinuz-5.15.0-135-generic\n",
            "I: /boot/initrd.img is now a symlink to initrd.img-5.15.0-135-generic\n",
            "Setting up linux-modules-5.15.0-135-generic (5.15.0-135.146) ...\n",
            "Setting up grub-pc (2.06-2ubuntu7.2) ...\n",
            "debconf: unable to initialize frontend: Dialog\n",
            "debconf: (No usable dialog-like program is installed, so the dialog based frontend cannot be used. at /usr/share/perl5/Debconf/FrontEnd/Dialog.pm line 78.)\n",
            "debconf: falling back to frontend: Readline\n",
            "\n",
            "Creating config file /etc/default/grub with new version\n",
            "Setting up grub-gfxpayload-lists (0.7) ...\n",
            "Processing triggers for libc-bin (2.35-0ubuntu3.8) ...\n",
            "/sbin/ldconfig.real: /usr/local/lib/libtbbmalloc.so.2 is not a symbolic link\n",
            "\n",
            "/sbin/ldconfig.real: /usr/local/lib/libtbb.so.12 is not a symbolic link\n",
            "\n",
            "/sbin/ldconfig.real: /usr/local/lib/libhwloc.so.15 is not a symbolic link\n",
            "\n",
            "/sbin/ldconfig.real: /usr/local/lib/libur_loader.so.0 is not a symbolic link\n",
            "\n",
            "/sbin/ldconfig.real: /usr/local/lib/libtbbmalloc_proxy.so.2 is not a symbolic link\n",
            "\n",
            "/sbin/ldconfig.real: /usr/local/lib/libtcm_debug.so.1 is not a symbolic link\n",
            "\n",
            "/sbin/ldconfig.real: /usr/local/lib/libtcm.so.1 is not a symbolic link\n",
            "\n",
            "/sbin/ldconfig.real: /usr/local/lib/libur_adapter_level_zero.so.0 is not a symbolic link\n",
            "\n",
            "/sbin/ldconfig.real: /usr/local/lib/libumf.so.0 is not a symbolic link\n",
            "\n",
            "/sbin/ldconfig.real: /usr/local/lib/libur_adapter_opencl.so.0 is not a symbolic link\n",
            "\n",
            "/sbin/ldconfig.real: /usr/local/lib/libtbbbind_2_0.so.3 is not a symbolic link\n",
            "\n",
            "/sbin/ldconfig.real: /usr/local/lib/libtbbbind_2_5.so.3 is not a symbolic link\n",
            "\n",
            "/sbin/ldconfig.real: /usr/local/lib/libtbbbind.so.3 is not a symbolic link\n",
            "\n",
            "Processing triggers for man-db (2.10.2-1) ...\n",
            "Processing triggers for initramfs-tools (0.140ubuntu13.4) ...\n",
            "Processing triggers for linux-image-5.15.0-135-generic (5.15.0-135.146) ...\n",
            "/etc/kernel/postinst.d/initramfs-tools:\n",
            "update-initramfs: Generating /boot/initrd.img-5.15.0-135-generic\n"
          ]
        }
      ]
    },
    {
      "cell_type": "markdown",
      "source": [],
      "metadata": {
        "id": "mui64dPo_cdS"
      }
    },
    {
      "cell_type": "code",
      "source": [
        "import os\n",
        "os._exit(0)\n"
      ],
      "metadata": {
        "id": "NyiTNtEG_aib"
      },
      "execution_count": null,
      "outputs": []
    },
    {
      "cell_type": "code",
      "source": [
        "!ls"
      ],
      "metadata": {
        "id": "5wdMpVr159xF",
        "outputId": "a84f5cef-055c-4e3a-befe-e73cc6523e16",
        "colab": {
          "base_uri": "https://localhost:8080/"
        }
      },
      "execution_count": 1,
      "outputs": [
        {
          "output_type": "stream",
          "name": "stdout",
          "text": [
            "avatarify  drive\n"
          ]
        }
      ]
    },
    {
      "cell_type": "code",
      "source": [
        "cd avatarify"
      ],
      "metadata": {
        "id": "hbpEpVzU6DQa",
        "outputId": "e4d685fd-357f-4fd1-ba54-b79df9254abe",
        "colab": {
          "base_uri": "https://localhost:8080/"
        }
      },
      "execution_count": 2,
      "outputs": [
        {
          "output_type": "stream",
          "name": "stdout",
          "text": [
            "/content/avatarify\n"
          ]
        }
      ]
    },
    {
      "cell_type": "code",
      "source": [
        "!ls"
      ],
      "metadata": {
        "id": "ZsQiV1s86Kf5",
        "outputId": "ae905e6c-470d-454e-ca7b-74c8cf3ee5fb",
        "colab": {
          "base_uri": "https://localhost:8080/"
        }
      },
      "execution_count": 4,
      "outputs": [
        {
          "output_type": "stream",
          "name": "stdout",
          "text": [
            "afy\t\t config.yaml  LICENSE.md\t       requirements.txt  scripts\n",
            "avatarify.ipynb  Dockerfile   main.py\t\t       run_mac.sh\t v4l2loopback\n",
            "avatars\t\t docs\t      README.md\t\t       run.sh\t\t var\n",
            "cam.yaml\t fomm\t      requirements_client.txt  run_windows.bat\n"
          ]
        }
      ]
    },
    {
      "cell_type": "code",
      "source": [
        "import torch\n",
        "print(torch.__version__)\n"
      ],
      "metadata": {
        "colab": {
          "base_uri": "https://localhost:8080/"
        },
        "id": "gGyW-Dv4AFWG",
        "outputId": "210b54ed-a9b2-4857-e8ba-b2c70d009512"
      },
      "execution_count": 5,
      "outputs": [
        {
          "output_type": "stream",
          "name": "stdout",
          "text": [
            "2.6.0+cu124\n"
          ]
        }
      ]
    },
    {
      "cell_type": "code",
      "source": [
        "!lsmod | grep v4l2loopback\n"
      ],
      "metadata": {
        "id": "M7B0w3aXASJx"
      },
      "execution_count": 6,
      "outputs": []
    },
    {
      "cell_type": "code",
      "source": [
        "!ls"
      ],
      "metadata": {
        "colab": {
          "base_uri": "https://localhost:8080/"
        },
        "id": "c0pU8uiqHQFc",
        "outputId": "744bc40c-8f57-4382-db65-d19e1e71cd1b"
      },
      "execution_count": 8,
      "outputs": [
        {
          "output_type": "stream",
          "name": "stdout",
          "text": [
            "afy\t\t config.yaml  LICENSE.md\t       requirements.txt  scripts\n",
            "avatarify.ipynb  Dockerfile   main.py\t\t       run_mac.sh\t v4l2loopback\n",
            "avatars\t\t docs\t      README.md\t\t       run.sh\t\t var\n",
            "cam.yaml\t fomm\t      requirements_client.txt  run_windows.bat\t vox-adv-cpk.pth.tar\n"
          ]
        }
      ]
    },
    {
      "cell_type": "code",
      "source": [
        "!source /opt/conda/bin/activate avatarify\n",
        "\n"
      ],
      "metadata": {
        "id": "ObPO_l_VIvWn"
      },
      "execution_count": 7,
      "outputs": []
    },
    {
      "cell_type": "code",
      "source": [
        "!bash scripts/run_colab.sh\n",
        "\n"
      ],
      "metadata": {
        "colab": {
          "base_uri": "https://localhost:8080/"
        },
        "id": "udRWhULXJm9y",
        "outputId": "f78925db-7010-4b8d-8c00-f0aab628d773"
      },
      "execution_count": 8,
      "outputs": [
        {
          "output_type": "stream",
          "name": "stdout",
          "text": [
            "bash: scripts/run_colab.sh: No such file or directory\n"
          ]
        }
      ]
    },
    {
      "cell_type": "code",
      "source": [
        "!ls\n",
        ""
      ],
      "metadata": {
        "colab": {
          "base_uri": "https://localhost:8080/"
        },
        "id": "xe1JB3tHKqv_",
        "outputId": "4ffcaaba-a245-4a87-f1b1-1a58ff4adf7e"
      },
      "execution_count": 9,
      "outputs": [
        {
          "output_type": "stream",
          "name": "stdout",
          "text": [
            "afy\t\t config.yaml  LICENSE.md\t       requirements.txt  scripts\n",
            "avatarify.ipynb  Dockerfile   main.py\t\t       run_mac.sh\t v4l2loopback\n",
            "avatars\t\t docs\t      README.md\t\t       run.sh\t\t var\n",
            "cam.yaml\t fomm\t      requirements_client.txt  run_windows.bat\n"
          ]
        }
      ]
    },
    {
      "cell_type": "code",
      "source": [
        "!python main.py\n"
      ],
      "metadata": {
        "id": "ApmU5MjJBdx3",
        "outputId": "18df4f07-79fd-45e0-9419-fa24a4eab797",
        "colab": {
          "base_uri": "https://localhost:8080/"
        }
      },
      "execution_count": 10,
      "outputs": [
        {
          "output_type": "stream",
          "name": "stdout",
          "text": [
            "4.11.0\n"
          ]
        }
      ]
    },
    {
      "cell_type": "code",
      "source": [
        "!bash run.sh\n"
      ],
      "metadata": {
        "id": "NUBN9T5eBnwi",
        "outputId": "f51e421c-0511-42a9-8bf8-522ee9d8e73d",
        "colab": {
          "base_uri": "https://localhost:8080/"
        }
      },
      "execution_count": 11,
      "outputs": [
        {
          "output_type": "stream",
          "name": "stdout",
          "text": [
            "Creating virtual camera /dev/video9 (sudo privelege required)\n",
            "modprobe: FATAL: Module v4l2loopback not found in directory /lib/modules/6.1.85+\n",
            "run.sh: line 84: conda: command not found\n",
            "run.sh: line 84: /etc/profile.d/conda.sh: No such file or directory\n",
            "run.sh: line 85: conda: command not found\n",
            "[1742884735.089576] Loading Predictor\n",
            "Traceback (most recent call last):\n",
            "  File \"/content/avatarify/afy/cam_fomm.py\", line 216, in <module>\n",
            "    from afy import predictor_local\n",
            "  File \"/content/avatarify/afy/predictor_local.py\", line 8, in <module>\n",
            "    import face_alignment\n",
            "ModuleNotFoundError: No module named 'face_alignment'\n"
          ]
        }
      ]
    },
    {
      "cell_type": "code",
      "source": [
        "!pip install -r requirements.txt"
      ],
      "metadata": {
        "colab": {
          "base_uri": "https://localhost:8080/"
        },
        "id": "p2OztSHrCN6f",
        "outputId": "544a4950-f0ee-4172-9673-afb8e25994c4"
      },
      "execution_count": 12,
      "outputs": [
        {
          "output_type": "stream",
          "name": "stdout",
          "text": [
            "\u001b[31mERROR: Ignored the following yanked versions: 3.4.11.39, 3.4.17.61, 4.4.0.42, 4.4.0.44, 4.5.4.58, 4.5.5.62, 4.7.0.68\u001b[0m\u001b[31m\n",
            "\u001b[0m\u001b[31mERROR: Could not find a version that satisfies the requirement opencv-python==4.2.0.34 (from versions: 3.4.0.14, 3.4.10.37, 3.4.11.41, 3.4.11.43, 3.4.11.45, 3.4.13.47, 3.4.15.55, 3.4.16.57, 3.4.16.59, 3.4.17.63, 3.4.18.65, 4.3.0.38, 4.4.0.40, 4.4.0.46, 4.5.1.48, 4.5.3.56, 4.5.4.60, 4.5.5.64, 4.6.0.66, 4.7.0.72, 4.8.0.74, 4.8.0.76, 4.8.1.78, 4.9.0.80, 4.10.0.82, 4.10.0.84, 4.11.0.86)\u001b[0m\u001b[31m\n",
            "\u001b[0m\u001b[31mERROR: No matching distribution found for opencv-python==4.2.0.34\u001b[0m\u001b[31m\n",
            "\u001b[0m"
          ]
        }
      ]
    },
    {
      "cell_type": "code",
      "source": [
        "!pip install -r requirements_client.txt"
      ],
      "metadata": {
        "colab": {
          "base_uri": "https://localhost:8080/"
        },
        "id": "C_ZmbuA0ChZP",
        "outputId": "7684a0d3-579d-4f21-8609-fac526fc4dd5"
      },
      "execution_count": 13,
      "outputs": [
        {
          "output_type": "stream",
          "name": "stdout",
          "text": [
            "Collecting numpy==1.15.0 (from -r requirements_client.txt (line 1))\n",
            "  Downloading numpy-1.15.0.zip (4.5 MB)\n",
            "\u001b[?25l     \u001b[90m━━━━━━━━━━━━━━━━━━━━━━━━━━━━━━━━━━━━━━━━\u001b[0m \u001b[32m0.0/4.5 MB\u001b[0m \u001b[31m?\u001b[0m eta \u001b[36m-:--:--\u001b[0m\r\u001b[2K     \u001b[91m━━━━━━━\u001b[0m\u001b[91m╸\u001b[0m\u001b[90m━━━━━━━━━━━━━━━━━━━━━━━━━━━━━━━━\u001b[0m \u001b[32m0.8/4.5 MB\u001b[0m \u001b[31m25.5 MB/s\u001b[0m eta \u001b[36m0:00:01\u001b[0m\r\u001b[2K     \u001b[91m━━━━━━━━━━━━━━━━━━━━━━━━━━━━━━━━━━━━━━━\u001b[0m\u001b[91m╸\u001b[0m \u001b[32m4.5/4.5 MB\u001b[0m \u001b[31m71.4 MB/s\u001b[0m eta \u001b[36m0:00:01\u001b[0m\r\u001b[2K     \u001b[90m━━━━━━━━━━━━━━━━━━━━━━━━━━━━━━━━━━━━━━━━\u001b[0m \u001b[32m4.5/4.5 MB\u001b[0m \u001b[31m43.6 MB/s\u001b[0m eta \u001b[36m0:00:00\u001b[0m\n",
            "\u001b[?25h  Preparing metadata (setup.py) ... \u001b[?25l\u001b[?25hdone\n",
            "Collecting PyYAML==5.1 (from -r requirements_client.txt (line 2))\n",
            "  Downloading PyYAML-5.1.tar.gz (274 kB)\n",
            "\u001b[2K     \u001b[90m━━━━━━━━━━━━━━━━━━━━━━━━━━━━━━━━━━━━━━━━\u001b[0m \u001b[32m274.2/274.2 kB\u001b[0m \u001b[31m18.1 MB/s\u001b[0m eta \u001b[36m0:00:00\u001b[0m\n",
            "\u001b[?25h  \u001b[1;31merror\u001b[0m: \u001b[1msubprocess-exited-with-error\u001b[0m\n",
            "  \n",
            "  \u001b[31m×\u001b[0m \u001b[32mpython setup.py egg_info\u001b[0m did not run successfully.\n",
            "  \u001b[31m│\u001b[0m exit code: \u001b[1;36m1\u001b[0m\n",
            "  \u001b[31m╰─>\u001b[0m See above for output.\n",
            "  \n",
            "  \u001b[1;35mnote\u001b[0m: This error originates from a subprocess, and is likely not a problem with pip.\n",
            "  Preparing metadata (setup.py) ... \u001b[?25l\u001b[?25herror\n",
            "\u001b[1;31merror\u001b[0m: \u001b[1mmetadata-generation-failed\u001b[0m\n",
            "\n",
            "\u001b[31m×\u001b[0m Encountered error while generating package metadata.\n",
            "\u001b[31m╰─>\u001b[0m See above for output.\n",
            "\n",
            "\u001b[1;35mnote\u001b[0m: This is an issue with the package mentioned above, not pip.\n",
            "\u001b[1;36mhint\u001b[0m: See above for details.\n"
          ]
        }
      ]
    },
    {
      "cell_type": "code",
      "source": [
        "!pip install opencv-python\n"
      ],
      "metadata": {
        "colab": {
          "base_uri": "https://localhost:8080/"
        },
        "id": "4wRbeIcQCKrB",
        "outputId": "03e1fb53-7cc3-4bad-f78c-b4cd0e901397"
      },
      "execution_count": 14,
      "outputs": [
        {
          "output_type": "stream",
          "name": "stdout",
          "text": [
            "Requirement already satisfied: opencv-python in /usr/local/lib/python3.11/dist-packages (4.11.0.86)\n",
            "Requirement already satisfied: numpy>=1.21.2 in /usr/local/lib/python3.11/dist-packages (from opencv-python) (2.0.2)\n"
          ]
        }
      ]
    },
    {
      "cell_type": "code",
      "source": [
        "!pip install PyYAML\n"
      ],
      "metadata": {
        "colab": {
          "base_uri": "https://localhost:8080/"
        },
        "id": "GPMiA0F7Diz5",
        "outputId": "827f2351-08ce-4c08-a476-cc3801886d7b"
      },
      "execution_count": 15,
      "outputs": [
        {
          "output_type": "stream",
          "name": "stdout",
          "text": [
            "Requirement already satisfied: PyYAML in /usr/local/lib/python3.11/dist-packages (6.0.2)\n"
          ]
        }
      ]
    },
    {
      "cell_type": "code",
      "source": [
        "!pip install numpy\n"
      ],
      "metadata": {
        "colab": {
          "base_uri": "https://localhost:8080/"
        },
        "id": "1idO42sCDtRi",
        "outputId": "1e80f4b8-3435-4f4e-928f-a586ef4fd1fa"
      },
      "execution_count": 16,
      "outputs": [
        {
          "output_type": "stream",
          "name": "stdout",
          "text": [
            "Requirement already satisfied: numpy in /usr/local/lib/python3.11/dist-packages (2.0.2)\n"
          ]
        }
      ]
    },
    {
      "cell_type": "code",
      "source": [
        "!pip install torch torchvision"
      ],
      "metadata": {
        "colab": {
          "base_uri": "https://localhost:8080/"
        },
        "id": "ABCs00aHD3A8",
        "outputId": "696cb259-5648-44d2-b9e9-40c5c8c85c43"
      },
      "execution_count": 17,
      "outputs": [
        {
          "output_type": "stream",
          "name": "stdout",
          "text": [
            "Requirement already satisfied: torch in /usr/local/lib/python3.11/dist-packages (2.6.0+cu124)\n",
            "Requirement already satisfied: torchvision in /usr/local/lib/python3.11/dist-packages (0.21.0+cu124)\n",
            "Requirement already satisfied: filelock in /usr/local/lib/python3.11/dist-packages (from torch) (3.18.0)\n",
            "Requirement already satisfied: typing-extensions>=4.10.0 in /usr/local/lib/python3.11/dist-packages (from torch) (4.12.2)\n",
            "Requirement already satisfied: networkx in /usr/local/lib/python3.11/dist-packages (from torch) (3.4.2)\n",
            "Requirement already satisfied: jinja2 in /usr/local/lib/python3.11/dist-packages (from torch) (3.1.6)\n",
            "Requirement already satisfied: fsspec in /usr/local/lib/python3.11/dist-packages (from torch) (2025.3.0)\n",
            "Collecting nvidia-cuda-nvrtc-cu12==12.4.127 (from torch)\n",
            "  Using cached nvidia_cuda_nvrtc_cu12-12.4.127-py3-none-manylinux2014_x86_64.whl.metadata (1.5 kB)\n",
            "Collecting nvidia-cuda-runtime-cu12==12.4.127 (from torch)\n",
            "  Using cached nvidia_cuda_runtime_cu12-12.4.127-py3-none-manylinux2014_x86_64.whl.metadata (1.5 kB)\n",
            "Collecting nvidia-cuda-cupti-cu12==12.4.127 (from torch)\n",
            "  Using cached nvidia_cuda_cupti_cu12-12.4.127-py3-none-manylinux2014_x86_64.whl.metadata (1.6 kB)\n",
            "Collecting nvidia-cudnn-cu12==9.1.0.70 (from torch)\n",
            "  Using cached nvidia_cudnn_cu12-9.1.0.70-py3-none-manylinux2014_x86_64.whl.metadata (1.6 kB)\n",
            "Collecting nvidia-cublas-cu12==12.4.5.8 (from torch)\n",
            "  Using cached nvidia_cublas_cu12-12.4.5.8-py3-none-manylinux2014_x86_64.whl.metadata (1.5 kB)\n",
            "Collecting nvidia-cufft-cu12==11.2.1.3 (from torch)\n",
            "  Using cached nvidia_cufft_cu12-11.2.1.3-py3-none-manylinux2014_x86_64.whl.metadata (1.5 kB)\n",
            "Collecting nvidia-curand-cu12==10.3.5.147 (from torch)\n",
            "  Using cached nvidia_curand_cu12-10.3.5.147-py3-none-manylinux2014_x86_64.whl.metadata (1.5 kB)\n",
            "Collecting nvidia-cusolver-cu12==11.6.1.9 (from torch)\n",
            "  Using cached nvidia_cusolver_cu12-11.6.1.9-py3-none-manylinux2014_x86_64.whl.metadata (1.6 kB)\n",
            "Collecting nvidia-cusparse-cu12==12.3.1.170 (from torch)\n",
            "  Using cached nvidia_cusparse_cu12-12.3.1.170-py3-none-manylinux2014_x86_64.whl.metadata (1.6 kB)\n",
            "Requirement already satisfied: nvidia-cusparselt-cu12==0.6.2 in /usr/local/lib/python3.11/dist-packages (from torch) (0.6.2)\n",
            "Requirement already satisfied: nvidia-nccl-cu12==2.21.5 in /usr/local/lib/python3.11/dist-packages (from torch) (2.21.5)\n",
            "Requirement already satisfied: nvidia-nvtx-cu12==12.4.127 in /usr/local/lib/python3.11/dist-packages (from torch) (12.4.127)\n",
            "Collecting nvidia-nvjitlink-cu12==12.4.127 (from torch)\n",
            "  Using cached nvidia_nvjitlink_cu12-12.4.127-py3-none-manylinux2014_x86_64.whl.metadata (1.5 kB)\n",
            "Requirement already satisfied: triton==3.2.0 in /usr/local/lib/python3.11/dist-packages (from torch) (3.2.0)\n",
            "Requirement already satisfied: sympy==1.13.1 in /usr/local/lib/python3.11/dist-packages (from torch) (1.13.1)\n",
            "Requirement already satisfied: mpmath<1.4,>=1.1.0 in /usr/local/lib/python3.11/dist-packages (from sympy==1.13.1->torch) (1.3.0)\n",
            "Requirement already satisfied: numpy in /usr/local/lib/python3.11/dist-packages (from torchvision) (2.0.2)\n",
            "Requirement already satisfied: pillow!=8.3.*,>=5.3.0 in /usr/local/lib/python3.11/dist-packages (from torchvision) (11.1.0)\n",
            "Requirement already satisfied: MarkupSafe>=2.0 in /usr/local/lib/python3.11/dist-packages (from jinja2->torch) (3.0.2)\n",
            "Using cached nvidia_cublas_cu12-12.4.5.8-py3-none-manylinux2014_x86_64.whl (363.4 MB)\n",
            "Using cached nvidia_cuda_cupti_cu12-12.4.127-py3-none-manylinux2014_x86_64.whl (13.8 MB)\n",
            "Using cached nvidia_cuda_nvrtc_cu12-12.4.127-py3-none-manylinux2014_x86_64.whl (24.6 MB)\n",
            "Using cached nvidia_cuda_runtime_cu12-12.4.127-py3-none-manylinux2014_x86_64.whl (883 kB)\n",
            "Using cached nvidia_cudnn_cu12-9.1.0.70-py3-none-manylinux2014_x86_64.whl (664.8 MB)\n",
            "Using cached nvidia_cufft_cu12-11.2.1.3-py3-none-manylinux2014_x86_64.whl (211.5 MB)\n",
            "Using cached nvidia_curand_cu12-10.3.5.147-py3-none-manylinux2014_x86_64.whl (56.3 MB)\n",
            "Using cached nvidia_cusolver_cu12-11.6.1.9-py3-none-manylinux2014_x86_64.whl (127.9 MB)\n",
            "Using cached nvidia_cusparse_cu12-12.3.1.170-py3-none-manylinux2014_x86_64.whl (207.5 MB)\n",
            "Using cached nvidia_nvjitlink_cu12-12.4.127-py3-none-manylinux2014_x86_64.whl (21.1 MB)\n",
            "Installing collected packages: nvidia-nvjitlink-cu12, nvidia-curand-cu12, nvidia-cufft-cu12, nvidia-cuda-runtime-cu12, nvidia-cuda-nvrtc-cu12, nvidia-cuda-cupti-cu12, nvidia-cublas-cu12, nvidia-cusparse-cu12, nvidia-cudnn-cu12, nvidia-cusolver-cu12\n",
            "  Attempting uninstall: nvidia-nvjitlink-cu12\n",
            "    Found existing installation: nvidia-nvjitlink-cu12 12.5.82\n",
            "    Uninstalling nvidia-nvjitlink-cu12-12.5.82:\n",
            "      Successfully uninstalled nvidia-nvjitlink-cu12-12.5.82\n",
            "  Attempting uninstall: nvidia-curand-cu12\n",
            "    Found existing installation: nvidia-curand-cu12 10.3.6.82\n",
            "    Uninstalling nvidia-curand-cu12-10.3.6.82:\n",
            "      Successfully uninstalled nvidia-curand-cu12-10.3.6.82\n",
            "  Attempting uninstall: nvidia-cufft-cu12\n",
            "    Found existing installation: nvidia-cufft-cu12 11.2.3.61\n",
            "    Uninstalling nvidia-cufft-cu12-11.2.3.61:\n",
            "      Successfully uninstalled nvidia-cufft-cu12-11.2.3.61\n",
            "  Attempting uninstall: nvidia-cuda-runtime-cu12\n",
            "    Found existing installation: nvidia-cuda-runtime-cu12 12.5.82\n",
            "    Uninstalling nvidia-cuda-runtime-cu12-12.5.82:\n",
            "      Successfully uninstalled nvidia-cuda-runtime-cu12-12.5.82\n",
            "  Attempting uninstall: nvidia-cuda-nvrtc-cu12\n",
            "    Found existing installation: nvidia-cuda-nvrtc-cu12 12.5.82\n",
            "    Uninstalling nvidia-cuda-nvrtc-cu12-12.5.82:\n",
            "      Successfully uninstalled nvidia-cuda-nvrtc-cu12-12.5.82\n",
            "  Attempting uninstall: nvidia-cuda-cupti-cu12\n",
            "    Found existing installation: nvidia-cuda-cupti-cu12 12.5.82\n",
            "    Uninstalling nvidia-cuda-cupti-cu12-12.5.82:\n",
            "      Successfully uninstalled nvidia-cuda-cupti-cu12-12.5.82\n",
            "  Attempting uninstall: nvidia-cublas-cu12\n",
            "    Found existing installation: nvidia-cublas-cu12 12.5.3.2\n",
            "    Uninstalling nvidia-cublas-cu12-12.5.3.2:\n",
            "      Successfully uninstalled nvidia-cublas-cu12-12.5.3.2\n",
            "  Attempting uninstall: nvidia-cusparse-cu12\n",
            "    Found existing installation: nvidia-cusparse-cu12 12.5.1.3\n",
            "    Uninstalling nvidia-cusparse-cu12-12.5.1.3:\n",
            "      Successfully uninstalled nvidia-cusparse-cu12-12.5.1.3\n",
            "  Attempting uninstall: nvidia-cudnn-cu12\n",
            "    Found existing installation: nvidia-cudnn-cu12 9.3.0.75\n",
            "    Uninstalling nvidia-cudnn-cu12-9.3.0.75:\n",
            "      Successfully uninstalled nvidia-cudnn-cu12-9.3.0.75\n",
            "  Attempting uninstall: nvidia-cusolver-cu12\n",
            "    Found existing installation: nvidia-cusolver-cu12 11.6.3.83\n",
            "    Uninstalling nvidia-cusolver-cu12-11.6.3.83:\n",
            "      Successfully uninstalled nvidia-cusolver-cu12-11.6.3.83\n",
            "Successfully installed nvidia-cublas-cu12-12.4.5.8 nvidia-cuda-cupti-cu12-12.4.127 nvidia-cuda-nvrtc-cu12-12.4.127 nvidia-cuda-runtime-cu12-12.4.127 nvidia-cudnn-cu12-9.1.0.70 nvidia-cufft-cu12-11.2.1.3 nvidia-curand-cu12-10.3.5.147 nvidia-cusolver-cu12-11.6.1.9 nvidia-cusparse-cu12-12.3.1.170 nvidia-nvjitlink-cu12-12.4.127\n"
          ]
        }
      ]
    },
    {
      "cell_type": "code",
      "source": [
        "!pip install face-alignment"
      ],
      "metadata": {
        "colab": {
          "base_uri": "https://localhost:8080/"
        },
        "id": "vvdTgMelEY2U",
        "outputId": "83e5a0b3-29b5-4c64-f5a0-38f10a2ced74"
      },
      "execution_count": 18,
      "outputs": [
        {
          "output_type": "stream",
          "name": "stdout",
          "text": [
            "Collecting face-alignment\n",
            "  Downloading face_alignment-1.4.1-py2.py3-none-any.whl.metadata (7.4 kB)\n",
            "Requirement already satisfied: torch in /usr/local/lib/python3.11/dist-packages (from face-alignment) (2.6.0+cu124)\n",
            "Requirement already satisfied: numpy in /usr/local/lib/python3.11/dist-packages (from face-alignment) (2.0.2)\n",
            "Requirement already satisfied: scipy>=0.17 in /usr/local/lib/python3.11/dist-packages (from face-alignment) (1.14.1)\n",
            "Requirement already satisfied: scikit-image in /usr/local/lib/python3.11/dist-packages (from face-alignment) (0.25.2)\n",
            "Requirement already satisfied: opencv-python in /usr/local/lib/python3.11/dist-packages (from face-alignment) (4.11.0.86)\n",
            "Requirement already satisfied: tqdm in /usr/local/lib/python3.11/dist-packages (from face-alignment) (4.67.1)\n",
            "Requirement already satisfied: numba in /usr/local/lib/python3.11/dist-packages (from face-alignment) (0.60.0)\n",
            "Requirement already satisfied: llvmlite<0.44,>=0.43.0dev0 in /usr/local/lib/python3.11/dist-packages (from numba->face-alignment) (0.43.0)\n",
            "Requirement already satisfied: networkx>=3.0 in /usr/local/lib/python3.11/dist-packages (from scikit-image->face-alignment) (3.4.2)\n",
            "Requirement already satisfied: pillow>=10.1 in /usr/local/lib/python3.11/dist-packages (from scikit-image->face-alignment) (11.1.0)\n",
            "Requirement already satisfied: imageio!=2.35.0,>=2.33 in /usr/local/lib/python3.11/dist-packages (from scikit-image->face-alignment) (2.37.0)\n",
            "Requirement already satisfied: tifffile>=2022.8.12 in /usr/local/lib/python3.11/dist-packages (from scikit-image->face-alignment) (2025.3.13)\n",
            "Requirement already satisfied: packaging>=21 in /usr/local/lib/python3.11/dist-packages (from scikit-image->face-alignment) (24.2)\n",
            "Requirement already satisfied: lazy-loader>=0.4 in /usr/local/lib/python3.11/dist-packages (from scikit-image->face-alignment) (0.4)\n",
            "Requirement already satisfied: filelock in /usr/local/lib/python3.11/dist-packages (from torch->face-alignment) (3.18.0)\n",
            "Requirement already satisfied: typing-extensions>=4.10.0 in /usr/local/lib/python3.11/dist-packages (from torch->face-alignment) (4.12.2)\n",
            "Requirement already satisfied: jinja2 in /usr/local/lib/python3.11/dist-packages (from torch->face-alignment) (3.1.6)\n",
            "Requirement already satisfied: fsspec in /usr/local/lib/python3.11/dist-packages (from torch->face-alignment) (2025.3.0)\n",
            "Requirement already satisfied: nvidia-cuda-nvrtc-cu12==12.4.127 in /usr/local/lib/python3.11/dist-packages (from torch->face-alignment) (12.4.127)\n",
            "Requirement already satisfied: nvidia-cuda-runtime-cu12==12.4.127 in /usr/local/lib/python3.11/dist-packages (from torch->face-alignment) (12.4.127)\n",
            "Requirement already satisfied: nvidia-cuda-cupti-cu12==12.4.127 in /usr/local/lib/python3.11/dist-packages (from torch->face-alignment) (12.4.127)\n",
            "Requirement already satisfied: nvidia-cudnn-cu12==9.1.0.70 in /usr/local/lib/python3.11/dist-packages (from torch->face-alignment) (9.1.0.70)\n",
            "Requirement already satisfied: nvidia-cublas-cu12==12.4.5.8 in /usr/local/lib/python3.11/dist-packages (from torch->face-alignment) (12.4.5.8)\n",
            "Requirement already satisfied: nvidia-cufft-cu12==11.2.1.3 in /usr/local/lib/python3.11/dist-packages (from torch->face-alignment) (11.2.1.3)\n",
            "Requirement already satisfied: nvidia-curand-cu12==10.3.5.147 in /usr/local/lib/python3.11/dist-packages (from torch->face-alignment) (10.3.5.147)\n",
            "Requirement already satisfied: nvidia-cusolver-cu12==11.6.1.9 in /usr/local/lib/python3.11/dist-packages (from torch->face-alignment) (11.6.1.9)\n",
            "Requirement already satisfied: nvidia-cusparse-cu12==12.3.1.170 in /usr/local/lib/python3.11/dist-packages (from torch->face-alignment) (12.3.1.170)\n",
            "Requirement already satisfied: nvidia-cusparselt-cu12==0.6.2 in /usr/local/lib/python3.11/dist-packages (from torch->face-alignment) (0.6.2)\n",
            "Requirement already satisfied: nvidia-nccl-cu12==2.21.5 in /usr/local/lib/python3.11/dist-packages (from torch->face-alignment) (2.21.5)\n",
            "Requirement already satisfied: nvidia-nvtx-cu12==12.4.127 in /usr/local/lib/python3.11/dist-packages (from torch->face-alignment) (12.4.127)\n",
            "Requirement already satisfied: nvidia-nvjitlink-cu12==12.4.127 in /usr/local/lib/python3.11/dist-packages (from torch->face-alignment) (12.4.127)\n",
            "Requirement already satisfied: triton==3.2.0 in /usr/local/lib/python3.11/dist-packages (from torch->face-alignment) (3.2.0)\n",
            "Requirement already satisfied: sympy==1.13.1 in /usr/local/lib/python3.11/dist-packages (from torch->face-alignment) (1.13.1)\n",
            "Requirement already satisfied: mpmath<1.4,>=1.1.0 in /usr/local/lib/python3.11/dist-packages (from sympy==1.13.1->torch->face-alignment) (1.3.0)\n",
            "Requirement already satisfied: MarkupSafe>=2.0 in /usr/local/lib/python3.11/dist-packages (from jinja2->torch->face-alignment) (3.0.2)\n",
            "Downloading face_alignment-1.4.1-py2.py3-none-any.whl (30 kB)\n",
            "Installing collected packages: face-alignment\n",
            "Successfully installed face-alignment-1.4.1\n"
          ]
        }
      ]
    },
    {
      "cell_type": "code",
      "source": [
        "!pip install scikit-image tqdm"
      ],
      "metadata": {
        "colab": {
          "base_uri": "https://localhost:8080/"
        },
        "id": "-VYWSBcqEg1R",
        "outputId": "186cec06-bd47-4384-981e-a69668cc815a"
      },
      "execution_count": 19,
      "outputs": [
        {
          "output_type": "stream",
          "name": "stdout",
          "text": [
            "Requirement already satisfied: scikit-image in /usr/local/lib/python3.11/dist-packages (0.25.2)\n",
            "Requirement already satisfied: tqdm in /usr/local/lib/python3.11/dist-packages (4.67.1)\n",
            "Requirement already satisfied: numpy>=1.24 in /usr/local/lib/python3.11/dist-packages (from scikit-image) (2.0.2)\n",
            "Requirement already satisfied: scipy>=1.11.4 in /usr/local/lib/python3.11/dist-packages (from scikit-image) (1.14.1)\n",
            "Requirement already satisfied: networkx>=3.0 in /usr/local/lib/python3.11/dist-packages (from scikit-image) (3.4.2)\n",
            "Requirement already satisfied: pillow>=10.1 in /usr/local/lib/python3.11/dist-packages (from scikit-image) (11.1.0)\n",
            "Requirement already satisfied: imageio!=2.35.0,>=2.33 in /usr/local/lib/python3.11/dist-packages (from scikit-image) (2.37.0)\n",
            "Requirement already satisfied: tifffile>=2022.8.12 in /usr/local/lib/python3.11/dist-packages (from scikit-image) (2025.3.13)\n",
            "Requirement already satisfied: packaging>=21 in /usr/local/lib/python3.11/dist-packages (from scikit-image) (24.2)\n",
            "Requirement already satisfied: lazy-loader>=0.4 in /usr/local/lib/python3.11/dist-packages (from scikit-image) (0.4)\n"
          ]
        }
      ]
    },
    {
      "cell_type": "code",
      "source": [
        "import os\n",
        "os._exit(00)\n"
      ],
      "metadata": {
        "id": "TNlXnk0GGB0M"
      },
      "execution_count": null,
      "outputs": []
    },
    {
      "cell_type": "code",
      "source": [
        "!ls"
      ],
      "metadata": {
        "id": "Rec6VlBeGPxV",
        "outputId": "63a2581b-c0a2-4ea7-9be4-8cb23405a597",
        "colab": {
          "base_uri": "https://localhost:8080/"
        }
      },
      "execution_count": 1,
      "outputs": [
        {
          "output_type": "stream",
          "name": "stdout",
          "text": [
            "avatarify  drive\n"
          ]
        }
      ]
    },
    {
      "cell_type": "code",
      "source": [
        "cd avatarify"
      ],
      "metadata": {
        "id": "eoqCWieXGXcN",
        "outputId": "c25b6b9d-1a44-4c99-d877-8fecd9b81a10",
        "colab": {
          "base_uri": "https://localhost:8080/"
        }
      },
      "execution_count": 2,
      "outputs": [
        {
          "output_type": "stream",
          "name": "stdout",
          "text": [
            "/content/avatarify\n"
          ]
        }
      ]
    },
    {
      "cell_type": "code",
      "source": [
        "!pip install face-alignment\n"
      ],
      "metadata": {
        "id": "7U2Hhv1_Gcve",
        "outputId": "967630a9-17d6-4f1e-99b1-2073e7f8d438",
        "colab": {
          "base_uri": "https://localhost:8080/"
        }
      },
      "execution_count": 3,
      "outputs": [
        {
          "output_type": "stream",
          "name": "stdout",
          "text": [
            "Requirement already satisfied: face-alignment in /usr/local/lib/python3.11/dist-packages (1.4.1)\n",
            "Requirement already satisfied: torch in /usr/local/lib/python3.11/dist-packages (from face-alignment) (2.6.0+cu124)\n",
            "Requirement already satisfied: numpy in /usr/local/lib/python3.11/dist-packages (from face-alignment) (2.0.2)\n",
            "Requirement already satisfied: scipy>=0.17 in /usr/local/lib/python3.11/dist-packages (from face-alignment) (1.14.1)\n",
            "Requirement already satisfied: scikit-image in /usr/local/lib/python3.11/dist-packages (from face-alignment) (0.25.2)\n",
            "Requirement already satisfied: opencv-python in /usr/local/lib/python3.11/dist-packages (from face-alignment) (4.11.0.86)\n",
            "Requirement already satisfied: tqdm in /usr/local/lib/python3.11/dist-packages (from face-alignment) (4.67.1)\n",
            "Requirement already satisfied: numba in /usr/local/lib/python3.11/dist-packages (from face-alignment) (0.60.0)\n",
            "Requirement already satisfied: llvmlite<0.44,>=0.43.0dev0 in /usr/local/lib/python3.11/dist-packages (from numba->face-alignment) (0.43.0)\n",
            "Requirement already satisfied: networkx>=3.0 in /usr/local/lib/python3.11/dist-packages (from scikit-image->face-alignment) (3.4.2)\n",
            "Requirement already satisfied: pillow>=10.1 in /usr/local/lib/python3.11/dist-packages (from scikit-image->face-alignment) (11.1.0)\n",
            "Requirement already satisfied: imageio!=2.35.0,>=2.33 in /usr/local/lib/python3.11/dist-packages (from scikit-image->face-alignment) (2.37.0)\n",
            "Requirement already satisfied: tifffile>=2022.8.12 in /usr/local/lib/python3.11/dist-packages (from scikit-image->face-alignment) (2025.3.13)\n",
            "Requirement already satisfied: packaging>=21 in /usr/local/lib/python3.11/dist-packages (from scikit-image->face-alignment) (24.2)\n",
            "Requirement already satisfied: lazy-loader>=0.4 in /usr/local/lib/python3.11/dist-packages (from scikit-image->face-alignment) (0.4)\n",
            "Requirement already satisfied: filelock in /usr/local/lib/python3.11/dist-packages (from torch->face-alignment) (3.18.0)\n",
            "Requirement already satisfied: typing-extensions>=4.10.0 in /usr/local/lib/python3.11/dist-packages (from torch->face-alignment) (4.12.2)\n",
            "Requirement already satisfied: jinja2 in /usr/local/lib/python3.11/dist-packages (from torch->face-alignment) (3.1.6)\n",
            "Requirement already satisfied: fsspec in /usr/local/lib/python3.11/dist-packages (from torch->face-alignment) (2025.3.0)\n",
            "Requirement already satisfied: nvidia-cuda-nvrtc-cu12==12.4.127 in /usr/local/lib/python3.11/dist-packages (from torch->face-alignment) (12.4.127)\n",
            "Requirement already satisfied: nvidia-cuda-runtime-cu12==12.4.127 in /usr/local/lib/python3.11/dist-packages (from torch->face-alignment) (12.4.127)\n",
            "Requirement already satisfied: nvidia-cuda-cupti-cu12==12.4.127 in /usr/local/lib/python3.11/dist-packages (from torch->face-alignment) (12.4.127)\n",
            "Requirement already satisfied: nvidia-cudnn-cu12==9.1.0.70 in /usr/local/lib/python3.11/dist-packages (from torch->face-alignment) (9.1.0.70)\n",
            "Requirement already satisfied: nvidia-cublas-cu12==12.4.5.8 in /usr/local/lib/python3.11/dist-packages (from torch->face-alignment) (12.4.5.8)\n",
            "Requirement already satisfied: nvidia-cufft-cu12==11.2.1.3 in /usr/local/lib/python3.11/dist-packages (from torch->face-alignment) (11.2.1.3)\n",
            "Requirement already satisfied: nvidia-curand-cu12==10.3.5.147 in /usr/local/lib/python3.11/dist-packages (from torch->face-alignment) (10.3.5.147)\n",
            "Requirement already satisfied: nvidia-cusolver-cu12==11.6.1.9 in /usr/local/lib/python3.11/dist-packages (from torch->face-alignment) (11.6.1.9)\n",
            "Requirement already satisfied: nvidia-cusparse-cu12==12.3.1.170 in /usr/local/lib/python3.11/dist-packages (from torch->face-alignment) (12.3.1.170)\n",
            "Requirement already satisfied: nvidia-cusparselt-cu12==0.6.2 in /usr/local/lib/python3.11/dist-packages (from torch->face-alignment) (0.6.2)\n",
            "Requirement already satisfied: nvidia-nccl-cu12==2.21.5 in /usr/local/lib/python3.11/dist-packages (from torch->face-alignment) (2.21.5)\n",
            "Requirement already satisfied: nvidia-nvtx-cu12==12.4.127 in /usr/local/lib/python3.11/dist-packages (from torch->face-alignment) (12.4.127)\n",
            "Requirement already satisfied: nvidia-nvjitlink-cu12==12.4.127 in /usr/local/lib/python3.11/dist-packages (from torch->face-alignment) (12.4.127)\n",
            "Requirement already satisfied: triton==3.2.0 in /usr/local/lib/python3.11/dist-packages (from torch->face-alignment) (3.2.0)\n",
            "Requirement already satisfied: sympy==1.13.1 in /usr/local/lib/python3.11/dist-packages (from torch->face-alignment) (1.13.1)\n",
            "Requirement already satisfied: mpmath<1.4,>=1.1.0 in /usr/local/lib/python3.11/dist-packages (from sympy==1.13.1->torch->face-alignment) (1.3.0)\n",
            "Requirement already satisfied: MarkupSafe>=2.0 in /usr/local/lib/python3.11/dist-packages (from jinja2->torch->face-alignment) (3.0.2)\n"
          ]
        }
      ]
    },
    {
      "cell_type": "code",
      "source": [
        "!pip install -r requirements.txt --no-cache-dir\n"
      ],
      "metadata": {
        "id": "BCuTw_pKGmGy",
        "outputId": "91b003e9-a176-4ead-91bc-1a95c2cdd49c",
        "colab": {
          "base_uri": "https://localhost:8080/"
        }
      },
      "execution_count": 4,
      "outputs": [
        {
          "output_type": "stream",
          "name": "stdout",
          "text": [
            "\u001b[31mERROR: Ignored the following yanked versions: 3.4.11.39, 3.4.17.61, 4.4.0.42, 4.4.0.44, 4.5.4.58, 4.5.5.62, 4.7.0.68\u001b[0m\u001b[31m\n",
            "\u001b[0m\u001b[31mERROR: Could not find a version that satisfies the requirement opencv-python==4.2.0.34 (from versions: 3.4.0.14, 3.4.10.37, 3.4.11.41, 3.4.11.43, 3.4.11.45, 3.4.13.47, 3.4.15.55, 3.4.16.57, 3.4.16.59, 3.4.17.63, 3.4.18.65, 4.3.0.38, 4.4.0.40, 4.4.0.46, 4.5.1.48, 4.5.3.56, 4.5.4.60, 4.5.5.64, 4.6.0.66, 4.7.0.72, 4.8.0.74, 4.8.0.76, 4.8.1.78, 4.9.0.80, 4.10.0.82, 4.10.0.84, 4.11.0.86)\u001b[0m\u001b[31m\n",
            "\u001b[0m\u001b[31mERROR: No matching distribution found for opencv-python==4.2.0.34\u001b[0m\u001b[31m\n",
            "\u001b[0m"
          ]
        }
      ]
    },
    {
      "cell_type": "code",
      "source": [
        "!pip install torch torchvision"
      ],
      "metadata": {
        "id": "E9rTXoooG1l5",
        "outputId": "a0ad73cc-8d92-4d40-ef1f-4c48c7a74f70",
        "colab": {
          "base_uri": "https://localhost:8080/"
        }
      },
      "execution_count": 5,
      "outputs": [
        {
          "output_type": "stream",
          "name": "stdout",
          "text": [
            "Requirement already satisfied: torch in /usr/local/lib/python3.11/dist-packages (2.6.0+cu124)\n",
            "Requirement already satisfied: torchvision in /usr/local/lib/python3.11/dist-packages (0.21.0+cu124)\n",
            "Requirement already satisfied: filelock in /usr/local/lib/python3.11/dist-packages (from torch) (3.18.0)\n",
            "Requirement already satisfied: typing-extensions>=4.10.0 in /usr/local/lib/python3.11/dist-packages (from torch) (4.12.2)\n",
            "Requirement already satisfied: networkx in /usr/local/lib/python3.11/dist-packages (from torch) (3.4.2)\n",
            "Requirement already satisfied: jinja2 in /usr/local/lib/python3.11/dist-packages (from torch) (3.1.6)\n",
            "Requirement already satisfied: fsspec in /usr/local/lib/python3.11/dist-packages (from torch) (2025.3.0)\n",
            "Requirement already satisfied: nvidia-cuda-nvrtc-cu12==12.4.127 in /usr/local/lib/python3.11/dist-packages (from torch) (12.4.127)\n",
            "Requirement already satisfied: nvidia-cuda-runtime-cu12==12.4.127 in /usr/local/lib/python3.11/dist-packages (from torch) (12.4.127)\n",
            "Requirement already satisfied: nvidia-cuda-cupti-cu12==12.4.127 in /usr/local/lib/python3.11/dist-packages (from torch) (12.4.127)\n",
            "Requirement already satisfied: nvidia-cudnn-cu12==9.1.0.70 in /usr/local/lib/python3.11/dist-packages (from torch) (9.1.0.70)\n",
            "Requirement already satisfied: nvidia-cublas-cu12==12.4.5.8 in /usr/local/lib/python3.11/dist-packages (from torch) (12.4.5.8)\n",
            "Requirement already satisfied: nvidia-cufft-cu12==11.2.1.3 in /usr/local/lib/python3.11/dist-packages (from torch) (11.2.1.3)\n",
            "Requirement already satisfied: nvidia-curand-cu12==10.3.5.147 in /usr/local/lib/python3.11/dist-packages (from torch) (10.3.5.147)\n",
            "Requirement already satisfied: nvidia-cusolver-cu12==11.6.1.9 in /usr/local/lib/python3.11/dist-packages (from torch) (11.6.1.9)\n",
            "Requirement already satisfied: nvidia-cusparse-cu12==12.3.1.170 in /usr/local/lib/python3.11/dist-packages (from torch) (12.3.1.170)\n",
            "Requirement already satisfied: nvidia-cusparselt-cu12==0.6.2 in /usr/local/lib/python3.11/dist-packages (from torch) (0.6.2)\n",
            "Requirement already satisfied: nvidia-nccl-cu12==2.21.5 in /usr/local/lib/python3.11/dist-packages (from torch) (2.21.5)\n",
            "Requirement already satisfied: nvidia-nvtx-cu12==12.4.127 in /usr/local/lib/python3.11/dist-packages (from torch) (12.4.127)\n",
            "Requirement already satisfied: nvidia-nvjitlink-cu12==12.4.127 in /usr/local/lib/python3.11/dist-packages (from torch) (12.4.127)\n",
            "Requirement already satisfied: triton==3.2.0 in /usr/local/lib/python3.11/dist-packages (from torch) (3.2.0)\n",
            "Requirement already satisfied: sympy==1.13.1 in /usr/local/lib/python3.11/dist-packages (from torch) (1.13.1)\n",
            "Requirement already satisfied: mpmath<1.4,>=1.1.0 in /usr/local/lib/python3.11/dist-packages (from sympy==1.13.1->torch) (1.3.0)\n",
            "Requirement already satisfied: numpy in /usr/local/lib/python3.11/dist-packages (from torchvision) (2.0.2)\n",
            "Requirement already satisfied: pillow!=8.3.*,>=5.3.0 in /usr/local/lib/python3.11/dist-packages (from torchvision) (11.1.0)\n",
            "Requirement already satisfied: MarkupSafe>=2.0 in /usr/local/lib/python3.11/dist-packages (from jinja2->torch) (3.0.2)\n"
          ]
        }
      ]
    },
    {
      "cell_type": "code",
      "source": [
        "!pip install opencv-python numpy scikit-image tqdm\n",
        "!pip install face-alignment"
      ],
      "metadata": {
        "id": "hF2kQ_ufG87W",
        "outputId": "7a3b1fda-b595-49be-8542-aeb1018f7cc3",
        "colab": {
          "base_uri": "https://localhost:8080/"
        }
      },
      "execution_count": 6,
      "outputs": [
        {
          "output_type": "stream",
          "name": "stdout",
          "text": [
            "Requirement already satisfied: opencv-python in /usr/local/lib/python3.11/dist-packages (4.11.0.86)\n",
            "Requirement already satisfied: numpy in /usr/local/lib/python3.11/dist-packages (2.0.2)\n",
            "Requirement already satisfied: scikit-image in /usr/local/lib/python3.11/dist-packages (0.25.2)\n",
            "Requirement already satisfied: tqdm in /usr/local/lib/python3.11/dist-packages (4.67.1)\n",
            "Requirement already satisfied: scipy>=1.11.4 in /usr/local/lib/python3.11/dist-packages (from scikit-image) (1.14.1)\n",
            "Requirement already satisfied: networkx>=3.0 in /usr/local/lib/python3.11/dist-packages (from scikit-image) (3.4.2)\n",
            "Requirement already satisfied: pillow>=10.1 in /usr/local/lib/python3.11/dist-packages (from scikit-image) (11.1.0)\n",
            "Requirement already satisfied: imageio!=2.35.0,>=2.33 in /usr/local/lib/python3.11/dist-packages (from scikit-image) (2.37.0)\n",
            "Requirement already satisfied: tifffile>=2022.8.12 in /usr/local/lib/python3.11/dist-packages (from scikit-image) (2025.3.13)\n",
            "Requirement already satisfied: packaging>=21 in /usr/local/lib/python3.11/dist-packages (from scikit-image) (24.2)\n",
            "Requirement already satisfied: lazy-loader>=0.4 in /usr/local/lib/python3.11/dist-packages (from scikit-image) (0.4)\n",
            "Requirement already satisfied: face-alignment in /usr/local/lib/python3.11/dist-packages (1.4.1)\n",
            "Requirement already satisfied: torch in /usr/local/lib/python3.11/dist-packages (from face-alignment) (2.6.0+cu124)\n",
            "Requirement already satisfied: numpy in /usr/local/lib/python3.11/dist-packages (from face-alignment) (2.0.2)\n",
            "Requirement already satisfied: scipy>=0.17 in /usr/local/lib/python3.11/dist-packages (from face-alignment) (1.14.1)\n",
            "Requirement already satisfied: scikit-image in /usr/local/lib/python3.11/dist-packages (from face-alignment) (0.25.2)\n",
            "Requirement already satisfied: opencv-python in /usr/local/lib/python3.11/dist-packages (from face-alignment) (4.11.0.86)\n",
            "Requirement already satisfied: tqdm in /usr/local/lib/python3.11/dist-packages (from face-alignment) (4.67.1)\n",
            "Requirement already satisfied: numba in /usr/local/lib/python3.11/dist-packages (from face-alignment) (0.60.0)\n",
            "Requirement already satisfied: llvmlite<0.44,>=0.43.0dev0 in /usr/local/lib/python3.11/dist-packages (from numba->face-alignment) (0.43.0)\n",
            "Requirement already satisfied: networkx>=3.0 in /usr/local/lib/python3.11/dist-packages (from scikit-image->face-alignment) (3.4.2)\n",
            "Requirement already satisfied: pillow>=10.1 in /usr/local/lib/python3.11/dist-packages (from scikit-image->face-alignment) (11.1.0)\n",
            "Requirement already satisfied: imageio!=2.35.0,>=2.33 in /usr/local/lib/python3.11/dist-packages (from scikit-image->face-alignment) (2.37.0)\n",
            "Requirement already satisfied: tifffile>=2022.8.12 in /usr/local/lib/python3.11/dist-packages (from scikit-image->face-alignment) (2025.3.13)\n",
            "Requirement already satisfied: packaging>=21 in /usr/local/lib/python3.11/dist-packages (from scikit-image->face-alignment) (24.2)\n",
            "Requirement already satisfied: lazy-loader>=0.4 in /usr/local/lib/python3.11/dist-packages (from scikit-image->face-alignment) (0.4)\n",
            "Requirement already satisfied: filelock in /usr/local/lib/python3.11/dist-packages (from torch->face-alignment) (3.18.0)\n",
            "Requirement already satisfied: typing-extensions>=4.10.0 in /usr/local/lib/python3.11/dist-packages (from torch->face-alignment) (4.12.2)\n",
            "Requirement already satisfied: jinja2 in /usr/local/lib/python3.11/dist-packages (from torch->face-alignment) (3.1.6)\n",
            "Requirement already satisfied: fsspec in /usr/local/lib/python3.11/dist-packages (from torch->face-alignment) (2025.3.0)\n",
            "Requirement already satisfied: nvidia-cuda-nvrtc-cu12==12.4.127 in /usr/local/lib/python3.11/dist-packages (from torch->face-alignment) (12.4.127)\n",
            "Requirement already satisfied: nvidia-cuda-runtime-cu12==12.4.127 in /usr/local/lib/python3.11/dist-packages (from torch->face-alignment) (12.4.127)\n",
            "Requirement already satisfied: nvidia-cuda-cupti-cu12==12.4.127 in /usr/local/lib/python3.11/dist-packages (from torch->face-alignment) (12.4.127)\n",
            "Requirement already satisfied: nvidia-cudnn-cu12==9.1.0.70 in /usr/local/lib/python3.11/dist-packages (from torch->face-alignment) (9.1.0.70)\n",
            "Requirement already satisfied: nvidia-cublas-cu12==12.4.5.8 in /usr/local/lib/python3.11/dist-packages (from torch->face-alignment) (12.4.5.8)\n",
            "Requirement already satisfied: nvidia-cufft-cu12==11.2.1.3 in /usr/local/lib/python3.11/dist-packages (from torch->face-alignment) (11.2.1.3)\n",
            "Requirement already satisfied: nvidia-curand-cu12==10.3.5.147 in /usr/local/lib/python3.11/dist-packages (from torch->face-alignment) (10.3.5.147)\n",
            "Requirement already satisfied: nvidia-cusolver-cu12==11.6.1.9 in /usr/local/lib/python3.11/dist-packages (from torch->face-alignment) (11.6.1.9)\n",
            "Requirement already satisfied: nvidia-cusparse-cu12==12.3.1.170 in /usr/local/lib/python3.11/dist-packages (from torch->face-alignment) (12.3.1.170)\n",
            "Requirement already satisfied: nvidia-cusparselt-cu12==0.6.2 in /usr/local/lib/python3.11/dist-packages (from torch->face-alignment) (0.6.2)\n",
            "Requirement already satisfied: nvidia-nccl-cu12==2.21.5 in /usr/local/lib/python3.11/dist-packages (from torch->face-alignment) (2.21.5)\n",
            "Requirement already satisfied: nvidia-nvtx-cu12==12.4.127 in /usr/local/lib/python3.11/dist-packages (from torch->face-alignment) (12.4.127)\n",
            "Requirement already satisfied: nvidia-nvjitlink-cu12==12.4.127 in /usr/local/lib/python3.11/dist-packages (from torch->face-alignment) (12.4.127)\n",
            "Requirement already satisfied: triton==3.2.0 in /usr/local/lib/python3.11/dist-packages (from torch->face-alignment) (3.2.0)\n",
            "Requirement already satisfied: sympy==1.13.1 in /usr/local/lib/python3.11/dist-packages (from torch->face-alignment) (1.13.1)\n",
            "Requirement already satisfied: mpmath<1.4,>=1.1.0 in /usr/local/lib/python3.11/dist-packages (from sympy==1.13.1->torch->face-alignment) (1.3.0)\n",
            "Requirement already satisfied: MarkupSafe>=2.0 in /usr/local/lib/python3.11/dist-packages (from jinja2->torch->face-alignment) (3.0.2)\n"
          ]
        }
      ]
    },
    {
      "cell_type": "code",
      "source": [
        "!pip install opencv-python\n"
      ],
      "metadata": {
        "id": "q3G-2R1bHtNI",
        "outputId": "9adb3dd0-9cfb-4eef-81e0-ec7b84f3443b",
        "colab": {
          "base_uri": "https://localhost:8080/"
        }
      },
      "execution_count": 7,
      "outputs": [
        {
          "output_type": "stream",
          "name": "stdout",
          "text": [
            "Requirement already satisfied: opencv-python in /usr/local/lib/python3.11/dist-packages (4.11.0.86)\n",
            "Requirement already satisfied: numpy>=1.21.2 in /usr/local/lib/python3.11/dist-packages (from opencv-python) (2.0.2)\n"
          ]
        }
      ]
    },
    {
      "cell_type": "code",
      "source": [
        "!bash run.sh\n"
      ],
      "metadata": {
        "id": "3CJ12sX7IGmm",
        "outputId": "a0d4e16f-1cc6-46d0-c4f3-e7fee1231587",
        "colab": {
          "base_uri": "https://localhost:8080/"
        }
      },
      "execution_count": 8,
      "outputs": [
        {
          "output_type": "stream",
          "name": "stdout",
          "text": [
            "Creating virtual camera /dev/video9 (sudo privelege required)\n",
            "modprobe: FATAL: Module v4l2loopback not found in directory /lib/modules/6.1.85+\n",
            "run.sh: line 84: conda: command not found\n",
            "run.sh: line 84: /etc/profile.d/conda.sh: No such file or directory\n",
            "run.sh: line 85: conda: command not found\n",
            "[1742886435.146817] Loading Predictor\n",
            "/usr/local/lib/python3.11/dist-packages/torch/functional.py:539: UserWarning: torch.meshgrid: in an upcoming release, it will be required to pass the indexing argument. (Triggered internally at /pytorch/aten/src/ATen/native/TensorShape.cpp:3637.)\n",
            "  return _VF.meshgrid(tensors, **kwargs)  # type: ignore[attr-defined]\n",
            "Traceback (most recent call last):\n",
            "  File \"/content/avatarify/afy/cam_fomm.py\", line 217, in <module>\n",
            "    predictor = predictor_local.PredictorLocal(\n",
            "                ^^^^^^^^^^^^^^^^^^^^^^^^^^^^^^^\n",
            "  File \"/content/avatarify/afy/predictor_local.py\", line 48, in __init__\n",
            "    self.generator, self.kp_detector = self.load_checkpoints()\n",
            "                                       ^^^^^^^^^^^^^^^^^^^^^^^\n",
            "  File \"/content/avatarify/afy/predictor_local.py\", line 66, in load_checkpoints\n",
            "    checkpoint = torch.load(self.checkpoint_path, map_location=self.device)\n",
            "                 ^^^^^^^^^^^^^^^^^^^^^^^^^^^^^^^^^^^^^^^^^^^^^^^^^^^^^^^^^^\n",
            "  File \"/usr/local/lib/python3.11/dist-packages/torch/serialization.py\", line 1425, in load\n",
            "    with _open_file_like(f, \"rb\") as opened_file:\n",
            "         ^^^^^^^^^^^^^^^^^^^^^^^^\n",
            "  File \"/usr/local/lib/python3.11/dist-packages/torch/serialization.py\", line 751, in _open_file_like\n",
            "    return _open_file(name_or_buffer, mode)\n",
            "           ^^^^^^^^^^^^^^^^^^^^^^^^^^^^^^^^\n",
            "  File \"/usr/local/lib/python3.11/dist-packages/torch/serialization.py\", line 732, in __init__\n",
            "    super().__init__(open(name, mode))\n",
            "                     ^^^^^^^^^^^^^^^^\n",
            "FileNotFoundError: [Errno 2] No such file or directory: 'vox-adv-cpk.pth.tar'\n"
          ]
        }
      ]
    },
    {
      "cell_type": "code",
      "source": [
        "!ls"
      ],
      "metadata": {
        "id": "KydUJdcOMcqK",
        "outputId": "af0df357-a3f0-4808-be22-2e3b8c8a76b1",
        "colab": {
          "base_uri": "https://localhost:8080/"
        }
      },
      "execution_count": 9,
      "outputs": [
        {
          "output_type": "stream",
          "name": "stdout",
          "text": [
            "afy\t\t config.yaml  LICENSE.md\t       requirements.txt  scripts\n",
            "avatarify.ipynb  Dockerfile   main.py\t\t       run_mac.sh\t v4l2loopback\n",
            "avatars\t\t docs\t      README.md\t\t       run.sh\t\t var\n",
            "cam.yaml\t fomm\t      requirements_client.txt  run_windows.bat\t vox-adv-cpk.pth.tar\n"
          ]
        }
      ]
    },
    {
      "cell_type": "code",
      "source": [
        "!bash run.sh\n"
      ],
      "metadata": {
        "id": "rXna79IlMuiE",
        "outputId": "b4b2e8e3-fff0-4d75-d51d-0edbab7eaa11",
        "colab": {
          "base_uri": "https://localhost:8080/"
        }
      },
      "execution_count": 10,
      "outputs": [
        {
          "output_type": "stream",
          "name": "stdout",
          "text": [
            "Creating virtual camera /dev/video9 (sudo privelege required)\n",
            "modprobe: FATAL: Module v4l2loopback not found in directory /lib/modules/6.1.85+\n",
            "run.sh: line 84: conda: command not found\n",
            "run.sh: line 84: /etc/profile.d/conda.sh: No such file or directory\n",
            "run.sh: line 85: conda: command not found\n",
            "[1742887645.881896] Loading Predictor\n",
            "/usr/local/lib/python3.11/dist-packages/torch/functional.py:539: UserWarning: torch.meshgrid: in an upcoming release, it will be required to pass the indexing argument. (Triggered internally at /pytorch/aten/src/ATen/native/TensorShape.cpp:3637.)\n",
            "  return _VF.meshgrid(tensors, **kwargs)  # type: ignore[attr-defined]\n",
            "Traceback (most recent call last):\n",
            "  File \"/content/avatarify/afy/cam_fomm.py\", line 217, in <module>\n",
            "    predictor = predictor_local.PredictorLocal(\n",
            "                ^^^^^^^^^^^^^^^^^^^^^^^^^^^^^^^\n",
            "  File \"/content/avatarify/afy/predictor_local.py\", line 49, in __init__\n",
            "    self.fa = face_alignment.FaceAlignment(face_alignment.LandmarksType._2D, flip_input=True, device=self.device)\n",
            "                                           ^^^^^^^^^^^^^^^^^^^^^^^^^^^^^^^^\n",
            "  File \"/usr/lib/python3.11/enum.py\", line 786, in __getattr__\n",
            "    raise AttributeError(name) from None\n",
            "AttributeError: _2D\n"
          ]
        }
      ]
    },
    {
      "cell_type": "code",
      "source": [
        "!pip uninstall -y face-alignment"
      ],
      "metadata": {
        "id": "EtWDAKjLNT7T",
        "outputId": "38915674-e5a9-4ed1-c2f9-8f2f1d5c8f85",
        "colab": {
          "base_uri": "https://localhost:8080/"
        }
      },
      "execution_count": 11,
      "outputs": [
        {
          "output_type": "stream",
          "name": "stdout",
          "text": [
            "Found existing installation: face-alignment 1.4.1\n",
            "Uninstalling face-alignment-1.4.1:\n",
            "  Successfully uninstalled face-alignment-1.4.1\n"
          ]
        }
      ]
    },
    {
      "cell_type": "code",
      "source": [
        "!pip install face-alignment==1.3.5\n"
      ],
      "metadata": {
        "id": "imUeFGhzNpjI",
        "outputId": "b8931e80-d8ce-43fe-d230-642990e117c9",
        "colab": {
          "base_uri": "https://localhost:8080/"
        }
      },
      "execution_count": 12,
      "outputs": [
        {
          "output_type": "stream",
          "name": "stdout",
          "text": [
            "Collecting face-alignment==1.3.5\n",
            "  Downloading face_alignment-1.3.5-py2.py3-none-any.whl.metadata (6.6 kB)\n",
            "Requirement already satisfied: torch in /usr/local/lib/python3.11/dist-packages (from face-alignment==1.3.5) (2.6.0+cu124)\n",
            "Requirement already satisfied: numpy in /usr/local/lib/python3.11/dist-packages (from face-alignment==1.3.5) (2.0.2)\n",
            "Requirement already satisfied: scipy>=0.17 in /usr/local/lib/python3.11/dist-packages (from face-alignment==1.3.5) (1.14.1)\n",
            "Requirement already satisfied: scikit-image in /usr/local/lib/python3.11/dist-packages (from face-alignment==1.3.5) (0.25.2)\n",
            "Requirement already satisfied: opencv-python in /usr/local/lib/python3.11/dist-packages (from face-alignment==1.3.5) (4.11.0.86)\n",
            "Requirement already satisfied: tqdm in /usr/local/lib/python3.11/dist-packages (from face-alignment==1.3.5) (4.67.1)\n",
            "Requirement already satisfied: numba in /usr/local/lib/python3.11/dist-packages (from face-alignment==1.3.5) (0.60.0)\n",
            "Requirement already satisfied: llvmlite<0.44,>=0.43.0dev0 in /usr/local/lib/python3.11/dist-packages (from numba->face-alignment==1.3.5) (0.43.0)\n",
            "Requirement already satisfied: networkx>=3.0 in /usr/local/lib/python3.11/dist-packages (from scikit-image->face-alignment==1.3.5) (3.4.2)\n",
            "Requirement already satisfied: pillow>=10.1 in /usr/local/lib/python3.11/dist-packages (from scikit-image->face-alignment==1.3.5) (11.1.0)\n",
            "Requirement already satisfied: imageio!=2.35.0,>=2.33 in /usr/local/lib/python3.11/dist-packages (from scikit-image->face-alignment==1.3.5) (2.37.0)\n",
            "Requirement already satisfied: tifffile>=2022.8.12 in /usr/local/lib/python3.11/dist-packages (from scikit-image->face-alignment==1.3.5) (2025.3.13)\n",
            "Requirement already satisfied: packaging>=21 in /usr/local/lib/python3.11/dist-packages (from scikit-image->face-alignment==1.3.5) (24.2)\n",
            "Requirement already satisfied: lazy-loader>=0.4 in /usr/local/lib/python3.11/dist-packages (from scikit-image->face-alignment==1.3.5) (0.4)\n",
            "Requirement already satisfied: filelock in /usr/local/lib/python3.11/dist-packages (from torch->face-alignment==1.3.5) (3.18.0)\n",
            "Requirement already satisfied: typing-extensions>=4.10.0 in /usr/local/lib/python3.11/dist-packages (from torch->face-alignment==1.3.5) (4.12.2)\n",
            "Requirement already satisfied: jinja2 in /usr/local/lib/python3.11/dist-packages (from torch->face-alignment==1.3.5) (3.1.6)\n",
            "Requirement already satisfied: fsspec in /usr/local/lib/python3.11/dist-packages (from torch->face-alignment==1.3.5) (2025.3.0)\n",
            "Requirement already satisfied: nvidia-cuda-nvrtc-cu12==12.4.127 in /usr/local/lib/python3.11/dist-packages (from torch->face-alignment==1.3.5) (12.4.127)\n",
            "Requirement already satisfied: nvidia-cuda-runtime-cu12==12.4.127 in /usr/local/lib/python3.11/dist-packages (from torch->face-alignment==1.3.5) (12.4.127)\n",
            "Requirement already satisfied: nvidia-cuda-cupti-cu12==12.4.127 in /usr/local/lib/python3.11/dist-packages (from torch->face-alignment==1.3.5) (12.4.127)\n",
            "Requirement already satisfied: nvidia-cudnn-cu12==9.1.0.70 in /usr/local/lib/python3.11/dist-packages (from torch->face-alignment==1.3.5) (9.1.0.70)\n",
            "Requirement already satisfied: nvidia-cublas-cu12==12.4.5.8 in /usr/local/lib/python3.11/dist-packages (from torch->face-alignment==1.3.5) (12.4.5.8)\n",
            "Requirement already satisfied: nvidia-cufft-cu12==11.2.1.3 in /usr/local/lib/python3.11/dist-packages (from torch->face-alignment==1.3.5) (11.2.1.3)\n",
            "Requirement already satisfied: nvidia-curand-cu12==10.3.5.147 in /usr/local/lib/python3.11/dist-packages (from torch->face-alignment==1.3.5) (10.3.5.147)\n",
            "Requirement already satisfied: nvidia-cusolver-cu12==11.6.1.9 in /usr/local/lib/python3.11/dist-packages (from torch->face-alignment==1.3.5) (11.6.1.9)\n",
            "Requirement already satisfied: nvidia-cusparse-cu12==12.3.1.170 in /usr/local/lib/python3.11/dist-packages (from torch->face-alignment==1.3.5) (12.3.1.170)\n",
            "Requirement already satisfied: nvidia-cusparselt-cu12==0.6.2 in /usr/local/lib/python3.11/dist-packages (from torch->face-alignment==1.3.5) (0.6.2)\n",
            "Requirement already satisfied: nvidia-nccl-cu12==2.21.5 in /usr/local/lib/python3.11/dist-packages (from torch->face-alignment==1.3.5) (2.21.5)\n",
            "Requirement already satisfied: nvidia-nvtx-cu12==12.4.127 in /usr/local/lib/python3.11/dist-packages (from torch->face-alignment==1.3.5) (12.4.127)\n",
            "Requirement already satisfied: nvidia-nvjitlink-cu12==12.4.127 in /usr/local/lib/python3.11/dist-packages (from torch->face-alignment==1.3.5) (12.4.127)\n",
            "Requirement already satisfied: triton==3.2.0 in /usr/local/lib/python3.11/dist-packages (from torch->face-alignment==1.3.5) (3.2.0)\n",
            "Requirement already satisfied: sympy==1.13.1 in /usr/local/lib/python3.11/dist-packages (from torch->face-alignment==1.3.5) (1.13.1)\n",
            "Requirement already satisfied: mpmath<1.4,>=1.1.0 in /usr/local/lib/python3.11/dist-packages (from sympy==1.13.1->torch->face-alignment==1.3.5) (1.3.0)\n",
            "Requirement already satisfied: MarkupSafe>=2.0 in /usr/local/lib/python3.11/dist-packages (from jinja2->torch->face-alignment==1.3.5) (3.0.2)\n",
            "Downloading face_alignment-1.3.5-py2.py3-none-any.whl (29 kB)\n",
            "Installing collected packages: face-alignment\n",
            "Successfully installed face-alignment-1.3.5\n"
          ]
        }
      ]
    },
    {
      "cell_type": "code",
      "source": [
        "!pip show face-alignment\n"
      ],
      "metadata": {
        "id": "0271CA7xNxYw",
        "outputId": "230b92ab-39a8-4960-ab03-772a55fe4bff",
        "colab": {
          "base_uri": "https://localhost:8080/"
        }
      },
      "execution_count": 13,
      "outputs": [
        {
          "output_type": "stream",
          "name": "stdout",
          "text": [
            "Name: face-alignment\n",
            "Version: 1.3.5\n",
            "Summary: Detector 2D or 3D face landmarks from Python\n",
            "Home-page: https://github.com/1adrianb/face-alignment\n",
            "Author: Adrian Bulat\n",
            "Author-email: adrian@adrianbulat.com\n",
            "License: BSD\n",
            "Location: /usr/local/lib/python3.11/dist-packages\n",
            "Requires: numba, numpy, opencv-python, scikit-image, scipy, torch, tqdm\n",
            "Required-by: \n"
          ]
        }
      ]
    },
    {
      "cell_type": "markdown",
      "source": [],
      "metadata": {
        "id": "y3W7fL98SdP8"
      }
    },
    {
      "cell_type": "markdown",
      "source": [],
      "metadata": {
        "id": "JTPMk1__SgOX"
      }
    },
    {
      "cell_type": "code",
      "source": [
        "!bash run.sh\n"
      ],
      "metadata": {
        "id": "GbL-nDJuN6_3",
        "outputId": "a4db7404-09e2-43ca-a3f1-584fb443360d",
        "colab": {
          "base_uri": "https://localhost:8080/"
        }
      },
      "execution_count": 14,
      "outputs": [
        {
          "output_type": "stream",
          "name": "stdout",
          "text": [
            "Creating virtual camera /dev/video9 (sudo privelege required)\n",
            "modprobe: FATAL: Module v4l2loopback not found in directory /lib/modules/6.1.85+\n",
            "run.sh: line 84: conda: command not found\n",
            "run.sh: line 84: /etc/profile.d/conda.sh: No such file or directory\n",
            "run.sh: line 85: conda: command not found\n",
            "[1742888008.384557] Loading Predictor\n",
            "/usr/local/lib/python3.11/dist-packages/torch/functional.py:539: UserWarning: torch.meshgrid: in an upcoming release, it will be required to pass the indexing argument. (Triggered internally at /pytorch/aten/src/ATen/native/TensorShape.cpp:3637.)\n",
            "  return _VF.meshgrid(tensors, **kwargs)  # type: ignore[attr-defined]\n",
            "Traceback (most recent call last):\n",
            "  File \"/content/avatarify/afy/cam_fomm.py\", line 217, in <module>\n",
            "    predictor = predictor_local.PredictorLocal(\n",
            "                ^^^^^^^^^^^^^^^^^^^^^^^^^^^^^^^\n",
            "  File \"/content/avatarify/afy/predictor_local.py\", line 49, in __init__\n",
            "    self.fa = face_alignment.FaceAlignment(face_alignment.LandmarksType._2D, flip_input=True, device=self.device)\n",
            "                                           ^^^^^^^^^^^^^^^^^^^^^^^^^^^^^^^^\n",
            "  File \"/usr/lib/python3.11/enum.py\", line 786, in __getattr__\n",
            "    raise AttributeError(name) from None\n",
            "AttributeError: _2D\n"
          ]
        }
      ]
    },
    {
      "cell_type": "code",
      "source": [
        "!self.fa = face_alignment.FaceAlignment(face_alignment.LandmarksType.TWO_D, flip_input=True, device=self.device)\n"
      ],
      "metadata": {
        "id": "PUG-RY7bPuQD",
        "outputId": "ec5b1bb8-f300-4697-cec5-e21213358bc3",
        "colab": {
          "base_uri": "https://localhost:8080/"
        }
      },
      "execution_count": 16,
      "outputs": [
        {
          "output_type": "stream",
          "name": "stdout",
          "text": [
            "/bin/bash: -c: line 1: syntax error near unexpected token `('\n",
            "/bin/bash: -c: line 1: `self.fa = face_alignment.FaceAlignment(face_alignment.LandmarksType.TWO_D, flip_input=True, device=self.device)'\n"
          ]
        }
      ]
    },
    {
      "cell_type": "code",
      "source": [
        "import face_alignment\n",
        "print(dir(face_alignment.LandmarksType))\n"
      ],
      "metadata": {
        "id": "GIdYv5fCQENg",
        "outputId": "0c992c79-e268-4b33-93df-d9a3613b909c",
        "colab": {
          "base_uri": "https://localhost:8080/"
        }
      },
      "execution_count": 17,
      "outputs": [
        {
          "output_type": "stream",
          "name": "stdout",
          "text": [
            "['THREE_D', 'TWO_D', 'TWO_HALF_D', '__abs__', '__add__', '__and__', '__bool__', '__ceil__', '__class__', '__contains__', '__delattr__', '__dir__', '__divmod__', '__doc__', '__eq__', '__float__', '__floor__', '__floordiv__', '__format__', '__ge__', '__getattribute__', '__getitem__', '__getnewargs__', '__getstate__', '__gt__', '__hash__', '__index__', '__init__', '__init_subclass__', '__int__', '__invert__', '__iter__', '__le__', '__len__', '__lshift__', '__lt__', '__members__', '__mod__', '__module__', '__mul__', '__name__', '__ne__', '__neg__', '__new__', '__or__', '__pos__', '__pow__', '__qualname__', '__radd__', '__rand__', '__rdivmod__', '__reduce__', '__reduce_ex__', '__repr__', '__rfloordiv__', '__rlshift__', '__rmod__', '__rmul__', '__ror__', '__round__', '__rpow__', '__rrshift__', '__rshift__', '__rsub__', '__rtruediv__', '__rxor__', '__setattr__', '__sizeof__', '__str__', '__sub__', '__subclasshook__', '__truediv__', '__trunc__', '__xor__', 'as_integer_ratio', 'bit_count', 'bit_length', 'conjugate', 'denominator', 'from_bytes', 'imag', 'numerator', 'real', 'to_bytes']\n"
          ]
        }
      ]
    },
    {
      "cell_type": "code",
      "source": [
        "!ls"
      ],
      "metadata": {
        "id": "1mX7PlyhQemc",
        "outputId": "b3b7dc0d-c63a-4445-bf8b-6280e721595e",
        "colab": {
          "base_uri": "https://localhost:8080/"
        }
      },
      "execution_count": 18,
      "outputs": [
        {
          "output_type": "stream",
          "name": "stdout",
          "text": [
            "afy\t\t config.yaml  LICENSE.md\t       requirements.txt  scripts\n",
            "avatarify.ipynb  Dockerfile   main.py\t\t       run_mac.sh\t v4l2loopback\n",
            "avatars\t\t docs\t      README.md\t\t       run.sh\t\t var\n",
            "cam.yaml\t fomm\t      requirements_client.txt  run_windows.bat\t vox-adv-cpk.pth.tar\n"
          ]
        }
      ]
    },
    {
      "cell_type": "code",
      "source": [
        "ls"
      ],
      "metadata": {
        "id": "H4kmDhDLQq_n",
        "outputId": "221b9b2e-898e-49c5-9aae-806dd77b611c",
        "colab": {
          "base_uri": "https://localhost:8080/"
        }
      },
      "execution_count": 20,
      "outputs": [
        {
          "output_type": "stream",
          "name": "stdout",
          "text": [
            "arguments.py        cam_fomm.py    predictor_local.py   predictor_worker.py  utils.py\n",
            "camera_selector.py  networking.py  predictor_remote.py  \u001b[0m\u001b[01;34m__pycache__\u001b[0m/         videocaptureasync.py\n"
          ]
        }
      ]
    },
    {
      "cell_type": "code",
      "source": [
        "!sed -i 's/face_alignment.LandmarksType._2D/face_alignment.LandmarksType.TWO_D/g' /content/avatarify/afy/predictor_local.py\n"
      ],
      "metadata": {
        "id": "uFHmoKAiTNP8"
      },
      "execution_count": 22,
      "outputs": []
    },
    {
      "cell_type": "code",
      "source": [
        "!grep \"face_alignment.LandmarksType\" /content/avatarify/afy/predictor_local.py\n"
      ],
      "metadata": {
        "id": "3IlEnuNbTUFA",
        "outputId": "59a95f1d-aa6d-45e6-f38e-4a5e91b35db5",
        "colab": {
          "base_uri": "https://localhost:8080/"
        }
      },
      "execution_count": 23,
      "outputs": [
        {
          "output_type": "stream",
          "name": "stdout",
          "text": [
            "        self.fa = face_alignment.FaceAlignment(face_alignment.LandmarksType.TWO_D, flip_input=True, device=self.device)\n"
          ]
        }
      ]
    },
    {
      "cell_type": "code",
      "source": [
        "!bash run.sh\n"
      ],
      "metadata": {
        "id": "QiqADxA6Tthd",
        "outputId": "20233264-0091-4f24-b4fc-6505125cd878",
        "colab": {
          "base_uri": "https://localhost:8080/"
        }
      },
      "execution_count": 26,
      "outputs": [
        {
          "output_type": "stream",
          "name": "stdout",
          "text": [
            "Creating virtual camera /dev/video9 (sudo privelege required)\n",
            "modprobe: FATAL: Module v4l2loopback not found in directory /lib/modules/6.1.85+\n",
            "run.sh: line 84: conda: command not found\n",
            "run.sh: line 84: /etc/profile.d/conda.sh: No such file or directory\n",
            "run.sh: line 85: conda: command not found\n",
            "[1742889527.964301] Loading Predictor\n",
            "/usr/local/lib/python3.11/dist-packages/torch/functional.py:539: UserWarning: torch.meshgrid: in an upcoming release, it will be required to pass the indexing argument. (Triggered internally at /pytorch/aten/src/ATen/native/TensorShape.cpp:3637.)\n",
            "  return _VF.meshgrid(tensors, **kwargs)  # type: ignore[attr-defined]\n",
            "Downloading: \"https://www.adrianbulat.com/downloads/python-fan/s3fd-619a316812.pth\" to /root/.cache/torch/hub/checkpoints/s3fd-619a316812.pth\n",
            "100% 85.7M/85.7M [00:05<00:00, 16.3MB/s]\n",
            "Downloading: \"https://www.adrianbulat.com/downloads/python-fan/2DFAN4-cd938726ad.zip\" to /root/.cache/torch/hub/checkpoints/2DFAN4-cd938726ad.zip\n",
            "100% 91.9M/91.9M [00:05<00:00, 17.4MB/s]\n",
            "[ WARN:0@18.425] global cap_v4l.cpp:913 open VIDEOIO(V4L2:/dev/video0): can't open camera by index\n",
            "[ERROR:0@18.426] global obsensor_uvc_stream_channel.cpp:158 getStreamChannelGroup Camera index out of range\n",
            "Traceback (most recent call last):\n",
            "  File \"/content/avatarify/afy/cam_fomm.py\", line 226, in <module>\n",
            "    cap = VideoCaptureAsync(cam_id)\n",
            "          ^^^^^^^^^^^^^^^^^^^^^^^^^\n",
            "  File \"/content/avatarify/afy/videocaptureasync.py\", line 17, in __init__\n",
            "    raise RuntimeError(\"Cannot open camera\")\n",
            "RuntimeError: Cannot open camera\n"
          ]
        }
      ]
    },
    {
      "cell_type": "code",
      "source": [
        "!ls /dev/video*\n"
      ],
      "metadata": {
        "id": "_xEMuwVFUiTj",
        "outputId": "32573649-ab86-40cd-aaf4-8d5f081eb511",
        "colab": {
          "base_uri": "https://localhost:8080/"
        }
      },
      "execution_count": 32,
      "outputs": [
        {
          "output_type": "stream",
          "name": "stdout",
          "text": [
            "ls: cannot access '/dev/video*': No such file or directory\n"
          ]
        }
      ]
    },
    {
      "cell_type": "code",
      "source": [
        "from google.colab import drive\n",
        "drive.mount('/content/drive')"
      ],
      "metadata": {
        "id": "CXsC8gehuDQ_",
        "outputId": "408f1cc9-f10a-4b36-9467-1c4feafdcb80",
        "colab": {
          "base_uri": "https://localhost:8080/"
        }
      },
      "execution_count": 4,
      "outputs": [
        {
          "output_type": "stream",
          "name": "stdout",
          "text": [
            "Mounted at /content/drive\n"
          ]
        }
      ]
    },
    {
      "cell_type": "markdown",
      "metadata": {
        "id": "j1soT4zEEFzp"
      },
      "source": [
        "### ngrok\n",
        "Follow the steps below to setup ngrok. You will also need to sign up on the ngrok site and get your authtoken (free).\n"
      ]
    },
    {
      "cell_type": "code",
      "metadata": {
        "id": "bbptNwHL1s61"
      },
      "source": [
        "# Download ngrok\n",
        "!scripts/get_ngrok.sh"
      ],
      "execution_count": null,
      "outputs": []
    },
    {
      "cell_type": "markdown",
      "metadata": {
        "id": "4qk1FCeeaviZ"
      },
      "source": [
        "# Run\n",
        "Start here if the runtime was restarted after installation."
      ]
    },
    {
      "cell_type": "code",
      "metadata": {
        "id": "_f2iYcQVI2ss"
      },
      "source": [
        "cd /content/avatarify"
      ],
      "execution_count": null,
      "outputs": []
    },
    {
      "cell_type": "code",
      "metadata": {
        "id": "qxK_ZZjPz_Rr"
      },
      "source": [
        "#!git pull origin"
      ],
      "execution_count": null,
      "outputs": []
    },
    {
      "cell_type": "code",
      "metadata": {
        "id": "MA-h22jF6-ks"
      },
      "source": [
        "from subprocess import Popen, PIPE\n",
        "import shlex\n",
        "import json\n",
        "import time\n",
        "\n",
        "\n",
        "def run_with_pipe(command):\n",
        "  commands = list(map(shlex.split,command.split(\"|\")))\n",
        "  ps = Popen(commands[0], stdout=PIPE, stderr=PIPE)\n",
        "  for command in commands[1:]:\n",
        "    ps = Popen(command, stdin=ps.stdout, stdout=PIPE, stderr=PIPE)\n",
        "  return ps.stdout.readlines()\n",
        "\n",
        "\n",
        "def get_tunnel_adresses():\n",
        "  info = run_with_pipe(\"curl http://localhost:4040/api/tunnels\")\n",
        "  assert info\n",
        "\n",
        "  info = json.loads(info[0])\n",
        "  for tunnel in info['tunnels']:\n",
        "    url = tunnel['public_url']\n",
        "    port = url.split(':')[-1]\n",
        "    local_port = tunnel['config']['addr'].split(':')[-1]\n",
        "    print(f'{url} -> {local_port} [{tunnel[\"name\"]}]')\n",
        "    if tunnel['name'] == 'input':\n",
        "      in_addr = url\n",
        "    elif tunnel['name'] == 'output':\n",
        "      out_addr = url\n",
        "    else:\n",
        "      print(f'unknown tunnel: {tunnel[\"name\"]}')\n",
        "\n",
        "  return in_addr, out_addr"
      ],
      "execution_count": null,
      "outputs": []
    },
    {
      "cell_type": "code",
      "metadata": {
        "id": "RfHa02CBWoNN"
      },
      "source": [
        "# Input and output ports for communication\n",
        "local_in_port = 5557\n",
        "local_out_port = 5558"
      ],
      "execution_count": null,
      "outputs": []
    },
    {
      "cell_type": "markdown",
      "metadata": {
        "id": "BcULGnhGJJjC"
      },
      "source": [
        "# Start the worker\n"
      ]
    },
    {
      "cell_type": "code",
      "metadata": {
        "id": "8PnArK75mRqx"
      },
      "source": [
        "# (Re)Start the worker\n",
        "with open('/tmp/run.txt', 'w') as f:\n",
        "  ps = Popen(\n",
        "      shlex.split(f'./run.sh --is-worker --in-port {local_in_port} --out-port {local_out_port} --no-vcam --no-conda'),\n",
        "      stdout=f, stderr=f)\n",
        "  time.sleep(3)"
      ],
      "execution_count": null,
      "outputs": []
    },
    {
      "cell_type": "markdown",
      "metadata": {
        "id": "XfUqQxMtRSvc"
      },
      "source": [
        "This command should print lines if the worker is successfully started"
      ]
    },
    {
      "cell_type": "code",
      "metadata": {
        "id": "W0eY8gkBqUJG"
      },
      "source": [
        "!ps aux | grep 'python3 afy/cam_fomm.py' | grep -v grep | tee /tmp/ps_run\n",
        "!if [[ $(cat /tmp/ps_run | wc -l) == \"0\" ]]; then echo \"Worker failed to start\"; cat /tmp/run.txt; else echo \"Worker started\"; fi"
      ],
      "execution_count": null,
      "outputs": []
    },
    {
      "cell_type": "markdown",
      "metadata": {
        "id": "tz9gpLD0IsCL"
      },
      "source": [
        "# Open ngrok tunnel"
      ]
    },
    {
      "cell_type": "markdown",
      "metadata": {
        "id": "gyB7XIxL0XpD"
      },
      "source": [
        "#### Get ngrok token\n",
        "Go to https://dashboard.ngrok.com/auth/your-authtoken (sign up if required), copy your authtoken and put it below."
      ]
    },
    {
      "cell_type": "code",
      "metadata": {
        "id": "YDtPpi77AkQ1"
      },
      "source": [
        "# Paste your authtoken here in quotes\n",
        "authtoken = \"1cBzFFwzSlaLhlRPXIHJiVLqtiQ_2cVsonJXe52B6DDyp8su7\""
      ],
      "execution_count": null,
      "outputs": []
    },
    {
      "cell_type": "markdown",
      "metadata": {
        "id": "gASaDrsFXLXA"
      },
      "source": [
        "Set your region\n",
        "\n",
        "Code | Region\n",
        "--- | ---\n",
        "us | United States\n",
        "eu | Europe\n",
        "ap | Asia/Pacific\n",
        "au | Australia\n",
        "sa | South America\n",
        "jp | Japan\n",
        "in | India"
      ]
    },
    {
      "cell_type": "code",
      "metadata": {
        "id": "r5e9VR9NYckJ"
      },
      "source": [
        "# Set your region here in quotes\n",
        "region = \"eu\""
      ],
      "execution_count": null,
      "outputs": []
    },
    {
      "cell_type": "code",
      "metadata": {
        "id": "jZ5_PE_EHpCg"
      },
      "source": [
        "config =\\\n",
        "f\"\"\"\n",
        "authtoken: {authtoken}\n",
        "region: {region}\n",
        "console_ui: False\n",
        "tunnels:\n",
        "  input:\n",
        "    addr: {local_in_port}\n",
        "    proto: tcp\n",
        "  output:\n",
        "    addr: {local_out_port}\n",
        "    proto: tcp\n",
        "\"\"\"\n",
        "\n",
        "with open('ngrok.conf', 'w') as f:\n",
        "  f.write(config)"
      ],
      "execution_count": null,
      "outputs": []
    },
    {
      "cell_type": "code",
      "metadata": {
        "id": "Z49OEhAdDI7Y"
      },
      "source": [
        "# (Re)Open tunnel\n",
        "ps = Popen('./scripts/open_tunnel_ngrok.sh', stdout=PIPE, stderr=PIPE)\n",
        "time.sleep(3)"
      ],
      "execution_count": null,
      "outputs": []
    },
    {
      "cell_type": "code",
      "metadata": {
        "id": "JAyPH2t2C64H"
      },
      "source": [
        "# Get tunnel addresses\n",
        "try:\n",
        "  in_addr, out_addr = get_tunnel_adresses()\n",
        "  print(\"Tunnel opened\")\n",
        "except Exception as e:\n",
        "  [print(l.decode(), end='') for l in ps.stdout.readlines()]\n",
        "  print(\"Something went wrong, reopen the tunnel\")"
      ],
      "execution_count": null,
      "outputs": []
    },
    {
      "cell_type": "markdown",
      "metadata": {
        "id": "dc6rg2HQAocK"
      },
      "source": [
        "### [Optional] AWS proxy\n",
        "Alternatively you can create a ssh reverse tunnel to an AWS `t3.micro` instance (it's free). It has lower latency than ngrok.\n",
        "\n",
        "1. In your AWS console go to Services -> EC2 -> Instances -> Launch Instance;\n",
        "1. Choose `Ubuntu Server 18.04 LTS` AMI;\n",
        "1. Choose `t3.micro` instance type and press Review and launch;\n",
        "1. Confirm your key pair and press Launch instances;\n",
        "1. Go to the security group of this instance and edit inbound rules. Add TCP ports 5557 and 5558 and set Source to Anywhere. Press Save rules;\n",
        "1. ssh into the instance (you can find the command in the Instances if you click on the Connect button) and add this line in the end of `/etc/ssh/sshd_config`:\n",
        "```\n",
        "GatewayPorts yes\n",
        "```\n",
        "then restart `sshd`\n",
        "```\n",
        "sudo service sshd restart\n",
        "```\n",
        "1. Copy your `key_pair.pem` by dragging and dropping it into avatarify folder in this notebook;\n",
        "1. Use the command below to open the tunnel;\n",
        "1. Start client with a command (substitute `run_mac.sh` with `run_windows.bat` or `run.sh`)\n",
        "```\n",
        "./run_mac.sh --is-client --in-addr tcp://instace.compute.amazonaws.com:5557 --out-addr tcp://instance.compute.amazonaws.com:5558\n",
        "```"
      ]
    },
    {
      "cell_type": "code",
      "metadata": {
        "id": "zdN5Qj2BCYsr"
      },
      "source": [
        "# Open reverse ssh tunnel (uncomment line below)\n",
        "# !./scripts/open_tunnel_ssh.sh key_pair.pem ubuntu@instance.compute.amazonaws.com"
      ],
      "execution_count": null,
      "outputs": []
    },
    {
      "cell_type": "markdown",
      "metadata": {
        "id": "ccZ24BT4Jdis"
      },
      "source": [
        "# Start the client\n",
        "When you run the cell below it will print a command. Run this command on your computer:\n",
        "\n",
        "1. Open a terminal (in Windows open `Anaconda Prompt`);\n",
        "2. Change working directory to the `avatarify` directory:</br>\n",
        "* Windows (change `C:\\path\\to\\avatarify` to your path)</br>\n",
        "`cd C:\\path\\to\\avatarify`</br></br>\n",
        "* Mac/Linux (change `/path/to/avatarify` to your path)</br>\n",
        "`cd /path/to/avatarify`\n",
        "3. Copy-paste to the terminal the command below and run;\n",
        "4. It can take some time to connect (usually up to 10 seconds). If the preview window doesn't appear in a minute or two, look for the errors above in this notebook and report in the [issues](https://github.com/alievk/avatarify/issues) or [Slack](https://join.slack.com/t/avatarify/shared_invite/zt-dyoqy8tc-~4U2ObQ6WoxuwSaWKKVOgg)."
      ]
    },
    {
      "cell_type": "code",
      "metadata": {
        "id": "4gaqS0mZWF1V"
      },
      "source": [
        "print('Copy-paste to the terminal the command below and run (press Enter)\\n')\n",
        "print('Mac:')\n",
        "print(f'./run_mac.sh --is-client --in-addr {in_addr} --out-addr {out_addr}')\n",
        "print('\\nWindows:')\n",
        "print(f'run_windows.bat --is-client --in-addr {in_addr} --out-addr {out_addr}')\n",
        "print('\\nLinux:')\n",
        "print(f'./run.sh --is-client --in-addr {in_addr} --out-addr {out_addr}')"
      ],
      "execution_count": null,
      "outputs": []
    },
    {
      "cell_type": "markdown",
      "metadata": {
        "id": "M3h92xQ9KA-R"
      },
      "source": [
        "# Logs"
      ]
    },
    {
      "cell_type": "markdown",
      "metadata": {
        "id": "SvodbjapKBQi"
      },
      "source": [
        "If something doesn't work as expected, please run the cells below and include the logs in your report."
      ]
    },
    {
      "cell_type": "code",
      "metadata": {
        "id": "0GeT7KxON0Ke",
        "cellView": "form"
      },
      "source": [
        "#@title\n",
        "!cat ./var/log/cam_fomm.log | head -100"
      ],
      "execution_count": null,
      "outputs": []
    },
    {
      "cell_type": "code",
      "metadata": {
        "id": "P1FQcdzwqdce",
        "cellView": "form"
      },
      "source": [
        "#@title\n",
        "!cat ./var/log/recv_worker.log | tail -100"
      ],
      "execution_count": null,
      "outputs": []
    },
    {
      "cell_type": "code",
      "metadata": {
        "id": "YThWBXCf_yzI",
        "cellView": "form"
      },
      "source": [
        "#@title\n",
        "!cat ./var/log/predictor_worker.log | tail -100"
      ],
      "execution_count": null,
      "outputs": []
    },
    {
      "cell_type": "code",
      "metadata": {
        "id": "zhJzygCP_6p3",
        "cellView": "form"
      },
      "source": [
        "#@title\n",
        "!cat ./var/log/send_worker.log | tail -100"
      ],
      "execution_count": null,
      "outputs": []
    },
    {
      "cell_type": "code",
      "metadata": {
        "id": "nrzNffhR_8HQ"
      },
      "source": [],
      "execution_count": null,
      "outputs": []
    }
  ]
}